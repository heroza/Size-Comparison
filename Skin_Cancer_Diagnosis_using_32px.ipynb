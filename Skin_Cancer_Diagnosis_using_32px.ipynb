{
  "cells": [
    {
      "cell_type": "markdown",
      "metadata": {
        "id": "view-in-github",
        "colab_type": "text"
      },
      "source": [
        "<a href=\"https://colab.research.google.com/github/heroza/Size-Comparison/blob/main/Skin_Cancer_Diagnosis_using_32px.ipynb\" target=\"_parent\"><img src=\"https://colab.research.google.com/assets/colab-badge.svg\" alt=\"Open In Colab\"/></a>"
      ]
    },
    {
      "cell_type": "code",
      "execution_count": 1,
      "metadata": {
        "colab": {
          "base_uri": "https://localhost:8080/"
        },
        "id": "Eus_4tUgfEk9",
        "outputId": "26aec09c-09a9-4d26-c381-342eac0e42f6"
      },
      "outputs": [
        {
          "output_type": "stream",
          "name": "stdout",
          "text": [
            "Mounted at /content/drive\n"
          ]
        }
      ],
      "source": [
        "from google.colab import drive\n",
        "drive.mount('/content/drive')"
      ]
    },
    {
      "cell_type": "markdown",
      "metadata": {
        "id": "E_x4c0_DTkaa"
      },
      "source": [
        "#Library, atribut, and function"
      ]
    },
    {
      "cell_type": "code",
      "execution_count": 1,
      "metadata": {
        "id": "nR2MJBYq-oiB"
      },
      "outputs": [],
      "source": [
        "import pandas as pd\n",
        "import numpy as np\n",
        "import tensorflow as tf\n",
        "import matplotlib.pyplot as plt\n",
        "import seaborn as sns\n",
        "import os\n",
        "from collections import Counter\n",
        "from pathlib import Path\n",
        "from PIL import Image\n",
        "from sklearn import preprocessing\n",
        "from sklearn.metrics import precision_recall_fscore_support, balanced_accuracy_score, confusion_matrix, accuracy_score\n",
        "from keras.callbacks import ReduceLROnPlateau, EarlyStopping, ModelCheckpoint\n",
        "from keras.preprocessing.image import ImageDataGenerator\n",
        "from keras.models import Sequential\n",
        "from keras.layers import Conv2D, MaxPooling2D, UpSampling2D\n",
        "from tensorflow import keras\n",
        "from tensorflow.keras import layers\n",
        "from tensorflow.keras.optimizers import Adam, SGD\n",
        "from tensorflow.keras.preprocessing import image\n",
        "from tensorflow.keras.applications.resnet50 import ResNet50, preprocess_input, decode_predictions\n",
        "from tensorflow.keras.applications.inception_v3 import InceptionV3, preprocess_input\n",
        "from tensorflow.keras.layers import GlobalAveragePooling2D, Dense, Input, Dropout, Flatten\n",
        "from tensorflow.keras.models import Model, load_model\n",
        "from keras.utils.np_utils import to_categorical\n",
        "import imblearn\n",
        "from imblearn.over_sampling import SMOTE, BorderlineSMOTE, SVMSMOTE, ADASYN, KMeansSMOTE"
      ]
    },
    {
      "cell_type": "code",
      "execution_count": 2,
      "metadata": {
        "id": "9-c7Xghg4SB4"
      },
      "outputs": [],
      "source": [
        "# input image size\n",
        "IMAGE_W = 32\n",
        "IMAGE_H = 32\n",
        "IMG_SIZE = (IMAGE_W,IMAGE_H)\n",
        "num_classes = 7\n",
        "EPOCHS = 100\n",
        "BATCH_SIZE = 64\n",
        "opt_adam = Adam(learning_rate=0.001, beta_1=0.9, beta_2=0.999, epsilon=None, decay=0.0, amsgrad=False)\n",
        "opt_SGD = SGD(learning_rate=0.001)\n",
        "the_arch = 'resnet50'\n",
        "\n",
        "#Callbacks\n",
        "best_model_fpath = '/content/drive/MyDrive/PHD/Model/best_model_attention.h5'\n",
        "last_model_fpath = '/content/drive/MyDrive/PHD/Model/last_model_attention.h5'\n",
        "mc = ModelCheckpoint(best_model_fpath, monitor='val_balanced_acc', mode='max', verbose=1, save_best_only=True)\n",
        "learning_rate_reduction = ReduceLROnPlateau(monitor='val_balanced_acc', patience=20, verbose=1, factor=0.5, min_lr=0.00001)\n",
        "early_stopping_monitor = EarlyStopping(patience=30,monitor='val_balanced_acc')\n"
      ]
    },
    {
      "cell_type": "code",
      "execution_count": 5,
      "metadata": {
        "id": "JffFid9sOXeo"
      },
      "outputs": [],
      "source": [
        "# load train and test dataset\n",
        "def preprocess_image_input(input_images, arch = the_arch):\n",
        "  input_images = input_images.astype('float32')\n",
        "  if arch == 'inception_v3':\n",
        "    output_ims = tf.keras.applications.inception_v3.preprocess_input(input_images)\n",
        "  else:\n",
        "    output_ims = tf.keras.applications.resnet50.preprocess_input(input_images)\n",
        "  return output_ims\n",
        "\n",
        "def load_cifar10_dataset():\n",
        "  from keras.datasets import cifar10\n",
        "    # load dataset\n",
        "  (X_train, y_train), (X_val, y_val) = cifar10.load_data()\n",
        "    # one hot encode target values\n",
        "  y_train = to_categorical(y_train)\n",
        "  y_val = to_categorical(y_val)\n",
        "\n",
        "  return X_train, y_train, X_val, y_val\n",
        "\n",
        "def balanced_acc(y_true, y_pred):\n",
        "    from keras import backend as K\n",
        "\n",
        "    tensor1 = tf.math.argmax(y_true, axis=1)\n",
        "    tensor2 = tf.math.argmax(y_pred, axis=1)\n",
        "\n",
        "    cm = tf.math.confusion_matrix(tensor1, tensor2)\n",
        "    \n",
        "    diag = tf.linalg.tensor_diag_part (cm)\n",
        "    tpfn = tf.cast(K.sum(cm, axis = 1), tf.float32) + K.epsilon()\n",
        "    recall = tf.divide(tf.cast(diag, tf.float32),tpfn)\n",
        "    balanced_acc = K.mean(recall)\n",
        "    return balanced_acc\n",
        "\n",
        "def define_base_model(arch = the_arch, start_trainable_layer = 9999, attention=False):\n",
        "  #x = data_augmentation(input_tensor)\n",
        "  #x = layers.Rescaling(1.0 / 255)(input_tensor)  # Rescale inputs\n",
        "  if arch != 'dense':\n",
        "    input_tensor = Input(shape=(IMAGE_H, IMAGE_W, 3))\n",
        "    if IMAGE_H == 32:\n",
        "      x = UpSampling2D(size=(7,7))(input_tensor)\n",
        "    if arch == 'resnet50':\n",
        "      base_model = ResNet50(input_tensor=x, weights='imagenet', include_top=False)\n",
        "    elif arch == 'inception_v3':\n",
        "      base_model = InceptionV3(input_tensor=input_tensor, weights='imagenet', include_top=False)\n",
        "    elif arch == 'ResNet':\n",
        "      base_model = ResNet(classes ,image_shape)(input_tensor)\n",
        "    x = base_model.output\n",
        "    if attention:\n",
        "      x = Attention(1024,1024,7,8)(x)\n",
        "    x = GlobalAveragePooling2D()(x)\n",
        "    for layer in base_model.layers:\n",
        "      layer.trainable = False\n",
        "    if start_trainable_layer != 9999:\n",
        "      for layer in base_model.layers[start_trainable_layer:]:\n",
        "        layer.trainable = True\n",
        "  else:\n",
        "    input_tensor = Input(shape=(2048))\n",
        "    x = input_tensor\n",
        "  #x = Flatten()(x)\n",
        "  x = Dense(1024, activation='relu')(x)\n",
        "  #x = Dropout(0.2)(x)\n",
        "  x = Dense(512, activation='relu')(x)\n",
        "  predictions = Dense(num_classes, activation='softmax')(x)\n",
        "  model = Model(inputs=input_tensor, outputs=predictions)\n",
        "  model.compile(optimizer = opt_SGD , loss = \"categorical_crossentropy\", metrics=['accuracy', balanced_acc])\n",
        "  return model\n",
        "\n",
        "# plot diagnostic learning curves\n",
        "def summarize_diagnostics(history):\n",
        "    # plot loss\n",
        "    plt.subplot(211)\n",
        "    plt.title('Cross Entropy Loss')\n",
        "    plt.plot(history.history['loss'], color='blue', label='train')\n",
        "    plt.plot(history.history['val_loss'], color='orange', label='test')\n",
        "    # plot accuracy\n",
        "    plt.subplot(212)\n",
        "    plt.title('Classification Accuracy')\n",
        "    plt.plot(history.history['accuracy'], color='blue', label='train')\n",
        "    plt.plot(history.history['val_accuracy'], color='orange', label='test')\n",
        " \n",
        "# scale pixels\n",
        "def norm_pixels(train, test):\n",
        "    # convert from integers to floats\n",
        "    train_norm = train.astype('float32')\n",
        "    test_norm = test.astype('float32')\n",
        "    # normalize to range 0-1\n",
        "    train_norm = train_norm / 255.0\n",
        "    test_norm = test_norm / 255.0\n",
        "    # return normalized images\n",
        "    return train_norm, test_norm\n",
        "\n",
        "def load_isic2018_dataset(train_under_frac = 0):\n",
        "  df_train = pd.read_csv('/content/drive/MyDrive/PHD/Datasets/isic2018/ISIC2018_Task3_Training_GroundTruth/ISIC2018_Task3_Training_GroundTruth.csv') \n",
        "  df_val = pd.read_csv('/content/drive/MyDrive/PHD/Datasets/isic2018/ISIC2018_Task3_Validation_GroundTruth/ISIC2018_Task3_Validation_GroundTruth.csv') \n",
        "\n",
        "  #decode one hot label\n",
        "  df_train[\"Labels\"] = (df_train.iloc[:, 1:]).idxmax(axis=1)\n",
        "  df_val[\"Labels\"] = (df_val.iloc[:, 1:]).idxmax(axis=1)\n",
        "\n",
        "  #random undersampling for training dataset\n",
        "  if train_under_frac !=0:\n",
        "    df_train = df_train.drop(df_train[df_train['Labels'] == 'NV'].sample(frac=train_under_frac).index)\n",
        "\n",
        "  #drop one-hot column\n",
        "  df_train = df_train.drop(columns=['MEL', 'NV', 'BCC', 'AKIEC', 'BKL', 'DF', 'VASC'])\n",
        "  df_val = df_val.drop(columns=['MEL', 'NV', 'BCC', 'AKIEC', 'BKL', 'DF', 'VASC'])\n",
        "\n",
        "  #make filepaths of the image\n",
        "  dir_train = '/content/drive/MyDrive/PHD/Datasets/isic2018/ISIC2018_Task3_Training_Input/'\n",
        "  dir_val = '/content/drive/MyDrive/PHD/Datasets/isic2018/ISIC2018_Task3_Validation_Input/'\n",
        "  df_train['FilePaths'] = dir_train + df_train['image'] + '.jpg'\n",
        "  df_val['FilePaths'] = dir_val + df_val['image'] + '.jpg'\n",
        "  \n",
        "  #load image pixels to dataframe\n",
        "  df_train['image_px'] = df_train['FilePaths'].map(lambda x: np.asarray(Image.open(x).resize(IMG_SIZE)))\n",
        "  df_val['image_px'] = df_val['FilePaths'].map(lambda x: np.asarray(Image.open(x).resize(IMG_SIZE)))\n",
        "\n",
        "  X_train = np.asarray(df_train['image_px'].tolist())\n",
        "  X_val = np.asarray(df_val['image_px'].tolist())\n",
        "  y_train = np.array(df_train['Labels'].values)\n",
        "  y_val = np.array(df_val['Labels'].values)\n",
        "\n",
        "  label_encoder = preprocessing.LabelEncoder()\n",
        "  y_train = label_encoder.fit_transform(y_train)\n",
        "  y_val = label_encoder.fit_transform(y_val)\n",
        "  \n",
        "  y_train = to_categorical(y_train, num_classes = num_classes)\n",
        "  y_val = to_categorical(y_val, num_classes = num_classes)\n",
        "\n",
        "  return X_train, y_train, X_val, y_val\n",
        "\n",
        "def reset_dataset(df_train, df_val):\n",
        "  X_train = np.asarray(df_train['image_px'].tolist())\n",
        "  X_val = np.asarray(df_val['image_px'].tolist())\n",
        "  y_train = np.array(df_train['Labels'].values)\n",
        "  y_val = np.array(df_val['Labels'].values)\n",
        "\n",
        "  X_train = preprocess_image_input(X_train, the_arch)\n",
        "  X_val = preprocess_image_input(X_val, the_arch)\n",
        "\n",
        "  label_encoder = preprocessing.LabelEncoder()\n",
        "  y_train = label_encoder.fit_transform(y_train)\n",
        "  y_val = label_encoder.fit_transform(y_val)\n",
        "  \n",
        "  y_train = to_categorical(y_train, num_classes = num_classes)\n",
        "  y_val = to_categorical(y_val, num_classes = num_classes)\n",
        "  return X_train, y_train, X_val, y_val\n",
        "\n",
        "def SMOTE_Data(X, y, one_hot = False, k = 5, width = IMAGE_W, height = IMAGE_H, c = 3, type = 'smote'):\n",
        "  if one_hot:\n",
        "    y = np.argmax(y, axis=1)\n",
        "  if type == 'borderline':\n",
        "    sm = BorderlineSMOTE(random_state=42, k_neighbors=k)\n",
        "  elif type == 'svm':\n",
        "    sm = SVMSMOTE()\n",
        "  elif type == 'adasyn':\n",
        "    sm = ADASYN(random_state=42, n_neighbors=k)\n",
        "  elif type == 'kmeans':\n",
        "    sm = KMeansSMOTE(k_neighbors=k, kmeans_estimator=10)\n",
        "  else:\n",
        "    sm = SMOTE(random_state=42, k_neighbors=k)\n",
        "  X_resampled, y_resampled = sm.fit_resample(X.reshape((-1, width * height * c)), y)\n",
        "  X_resampled = X_resampled.reshape(-1, width, height, c)\n",
        "  if one_hot:\n",
        "    y_resampled = to_categorical(y_resampled, num_classes = num_classes)\n",
        "  else:\n",
        "    y_resampled = y_resampled.reshape(-1,1)\n",
        "  return X_resampled, y_resampled\n",
        "\n",
        "def SMOTE_Data2(X, y, one_hot = False, k = 5):\n",
        "  if one_hot:\n",
        "    y = np.argmax(y, axis=1)\n",
        "  sm = SMOTE(random_state=42, k_neighbors=k)\n",
        "  X_resampled, y_resampled = sm.fit_resample(X, y)\n",
        "  if one_hot:\n",
        "    y_resampled = to_categorical(y_resampled, num_classes = num_classes)\n",
        "  else:\n",
        "    y_resampled = y_resampled.reshape(-1,1)\n",
        "  return X_resampled, y_resampled"
      ]
    },
    {
      "cell_type": "markdown",
      "metadata": {
        "id": "5v7sLC2svMuJ"
      },
      "source": [
        "# Main"
      ]
    },
    {
      "cell_type": "code",
      "execution_count": 4,
      "metadata": {
        "colab": {
          "base_uri": "https://localhost:8080/"
        },
        "id": "qge6cnxQPnH6",
        "outputId": "58a818eb-cdef-4167-a52e-9eecc1675dc3"
      },
      "outputs": [
        {
          "output_type": "stream",
          "name": "stdout",
          "text": [
            "(5321, 224, 224, 3)\n",
            "(5321, 7)\n",
            "(193, 224, 224, 3)\n",
            "(193, 7)\n",
            "Counter train data:  Counter({5: 2011, 4: 1113, 2: 1099, 1: 514, 0: 327, 6: 142, 3: 115})\n",
            "Counter val data:  Counter({5: 123, 2: 22, 4: 21, 1: 15, 0: 8, 6: 3, 3: 1})\n"
          ]
        }
      ],
      "source": [
        "path = '/content/drive/MyDrive/PHD/Datasets/isic2018/'\n",
        "df1 = pd.read_pickle(path+\"isic2018_train.pkl\")\n",
        "X_train = df1.loc[:, df1.columns != 'y_train'].to_numpy()\n",
        "X_train = X_train.reshape(-1,224,224,3)\n",
        "y_train = df1.loc[:, df1.columns == 'y_train'].to_numpy()\n",
        "y_train = to_categorical(y_train)\n",
        "\n",
        "df1 = pd.read_pickle(path+\"isic2018_val.pkl\")\n",
        "X_val = df1.loc[:, df1.columns != 'y_val'].to_numpy()\n",
        "X_val = X_val.reshape(-1,224,224,3)\n",
        "y_val = df1.loc[:, df1.columns == 'y_val'].to_numpy()\n",
        "y_val = to_categorical(y_val)\n",
        "\n",
        "print(X_train.shape)\n",
        "print(y_train.shape)\n",
        "print(X_val.shape)\n",
        "print(y_val.shape)\n",
        "print('Counter train data: ', Counter(np.argmax(y_train, axis=1)))\n",
        "print('Counter val data: ', Counter(np.argmax(y_val, axis=1)))"
      ]
    },
    {
      "cell_type": "code",
      "execution_count": 10,
      "metadata": {
        "colab": {
          "base_uri": "https://localhost:8080/"
        },
        "id": "xArGWuciBt_-",
        "outputId": "a2a8c7f4-f5a1-4af5-9a64-b272685ea624"
      },
      "outputs": [
        {
          "output_type": "stream",
          "name": "stdout",
          "text": [
            "(14077, 32, 32, 3)\n",
            "(14077, 7)\n",
            "(193, 32, 32, 3)\n",
            "(193, 7)\n",
            "Counter train data:  Counter({5: 2011, 4: 2011, 2: 2011, 3: 2011, 0: 2011, 1: 2011, 6: 2011})\n",
            "Counter val data:  Counter({5: 123, 2: 22, 4: 21, 1: 15, 0: 8, 6: 3, 3: 1})\n"
          ]
        }
      ],
      "source": [
        "X_train, y_train = SMOTE_Data(X_train, y_train, True)\n",
        "print(X_train.shape)\n",
        "print(y_train.shape)\n",
        "print(X_val.shape)\n",
        "print(y_val.shape)\n",
        "print('Counter train data: ', Counter(np.argmax(y_train, axis=1)))\n",
        "print('Counter val data: ', Counter(np.argmax(y_val, axis=1)))"
      ]
    },
    {
      "cell_type": "code",
      "execution_count": 9,
      "metadata": {
        "id": "V7Z_nccu6QjB"
      },
      "outputs": [],
      "source": [
        "#path = '/content/drive/MyDrive/PHD/Datasets/isic2018/'\n",
        "#df1 = pd.DataFrame(X_train.reshape(X_train.shape[0],-1))\n",
        "#df1['y_train'] = np.argmax(y_train, axis=1).tolist()\n",
        "#df2 = pd.DataFrame(X_val.reshape(X_val.shape[0],-1))\n",
        "#df2['y_val'] = np.argmax(y_val, axis=1).tolist()\n",
        "#df1.to_pickle(path+\"isic2018_train_32.pkl\")\n",
        "#df2.to_pickle(path+\"isic2018_val_32.pkl\")"
      ]
    },
    {
      "cell_type": "code",
      "execution_count": 8,
      "metadata": {
        "id": "nAMBgWqIsAAB",
        "colab": {
          "base_uri": "https://localhost:8080/"
        },
        "outputId": "aae3bd98-457d-41fb-a6d5-4cd90f9c5bbc"
      },
      "outputs": [
        {
          "output_type": "stream",
          "name": "stdout",
          "text": [
            "(5321, 32, 32, 3)\n",
            "(5321, 7)\n",
            "(193, 32, 32, 3)\n",
            "(193, 7)\n",
            "Counter train data:  Counter({5: 2011, 4: 1113, 2: 1099, 1: 514, 0: 327, 6: 142, 3: 115})\n",
            "Counter val data:  Counter({5: 123, 2: 22, 4: 21, 1: 15, 0: 8, 6: 3, 3: 1})\n"
          ]
        }
      ],
      "source": [
        "print(X_train.shape)\n",
        "print(y_train.shape)\n",
        "print(X_val.shape)\n",
        "print(y_val.shape)\n",
        "print('Counter train data: ', Counter(np.argmax(y_train, axis=1)))\n",
        "print('Counter val data: ', Counter(np.argmax(y_val, axis=1)))"
      ]
    },
    {
      "cell_type": "code",
      "execution_count": 11,
      "metadata": {
        "colab": {
          "base_uri": "https://localhost:8080/",
          "height": 1000
        },
        "id": "vIygrW81Ln4z",
        "outputId": "2b76192e-beaf-4523-d09a-2b3170db14e8"
      },
      "outputs": [
        {
          "output_type": "stream",
          "name": "stdout",
          "text": [
            "Epoch 1/100\n",
            "219/219 [==============================] - ETA: 0s - loss: 1.6827 - accuracy: 0.3436 - balanced_acc: 0.3453\n",
            "Epoch 1: val_balanced_acc improved from -inf to 0.18108, saving model to /content/drive/MyDrive/PHD/Model/best_model_attention.h5\n",
            "219/219 [==============================] - 44s 173ms/step - loss: 1.6827 - accuracy: 0.3436 - balanced_acc: 0.3453 - val_loss: 1.2021 - val_accuracy: 0.6321 - val_balanced_acc: 0.1811 - lr: 0.0010\n",
            "Epoch 2/100\n",
            "219/219 [==============================] - ETA: 0s - loss: 1.4891 - accuracy: 0.4224 - balanced_acc: 0.4234\n",
            "Epoch 2: val_balanced_acc improved from 0.18108 to 0.19264, saving model to /content/drive/MyDrive/PHD/Model/best_model_attention.h5\n",
            "219/219 [==============================] - 40s 176ms/step - loss: 1.4891 - accuracy: 0.4224 - balanced_acc: 0.4234 - val_loss: 1.0783 - val_accuracy: 0.6425 - val_balanced_acc: 0.1926 - lr: 0.0010\n",
            "Epoch 3/100\n",
            "219/219 [==============================] - ETA: 0s - loss: 1.4125 - accuracy: 0.4484 - balanced_acc: 0.4468\n",
            "Epoch 3: val_balanced_acc did not improve from 0.19264\n",
            "219/219 [==============================] - 37s 170ms/step - loss: 1.4125 - accuracy: 0.4484 - balanced_acc: 0.4468 - val_loss: 1.0328 - val_accuracy: 0.6373 - val_balanced_acc: 0.1897 - lr: 0.0010\n",
            "Epoch 4/100\n",
            "219/219 [==============================] - ETA: 0s - loss: 1.3690 - accuracy: 0.4708 - balanced_acc: 0.4702\n",
            "Epoch 4: val_balanced_acc improved from 0.19264 to 0.22576, saving model to /content/drive/MyDrive/PHD/Model/best_model_attention.h5\n",
            "219/219 [==============================] - 39s 180ms/step - loss: 1.3690 - accuracy: 0.4708 - balanced_acc: 0.4702 - val_loss: 1.0449 - val_accuracy: 0.6373 - val_balanced_acc: 0.2258 - lr: 0.0010\n",
            "Epoch 5/100\n",
            "219/219 [==============================] - ETA: 0s - loss: 1.3314 - accuracy: 0.4854 - balanced_acc: 0.4838\n",
            "Epoch 5: val_balanced_acc improved from 0.22576 to 0.25021, saving model to /content/drive/MyDrive/PHD/Model/best_model_attention.h5\n",
            "219/219 [==============================] - 40s 181ms/step - loss: 1.3314 - accuracy: 0.4854 - balanced_acc: 0.4838 - val_loss: 1.0081 - val_accuracy: 0.6528 - val_balanced_acc: 0.2502 - lr: 0.0010\n",
            "Epoch 6/100\n",
            "219/219 [==============================] - ETA: 0s - loss: 1.3046 - accuracy: 0.5007 - balanced_acc: 0.5029\n",
            "Epoch 6: val_balanced_acc did not improve from 0.25021\n",
            "219/219 [==============================] - 38s 175ms/step - loss: 1.3046 - accuracy: 0.5007 - balanced_acc: 0.5029 - val_loss: 1.0003 - val_accuracy: 0.6580 - val_balanced_acc: 0.2334 - lr: 0.0010\n",
            "Epoch 7/100\n",
            "219/219 [==============================] - ETA: 0s - loss: 1.2818 - accuracy: 0.5104 - balanced_acc: 0.5113\n",
            "Epoch 7: val_balanced_acc did not improve from 0.25021\n",
            "219/219 [==============================] - 38s 175ms/step - loss: 1.2818 - accuracy: 0.5104 - balanced_acc: 0.5113 - val_loss: 0.9365 - val_accuracy: 0.6736 - val_balanced_acc: 0.2431 - lr: 0.0010\n",
            "Epoch 8/100\n",
            "219/219 [==============================] - ETA: 0s - loss: 1.2611 - accuracy: 0.5213 - balanced_acc: 0.5201\n",
            "Epoch 8: val_balanced_acc did not improve from 0.25021\n",
            "219/219 [==============================] - 39s 176ms/step - loss: 1.2611 - accuracy: 0.5213 - balanced_acc: 0.5201 - val_loss: 0.9768 - val_accuracy: 0.6580 - val_balanced_acc: 0.2385 - lr: 0.0010\n",
            "Epoch 9/100\n",
            "219/219 [==============================] - ETA: 0s - loss: 1.2409 - accuracy: 0.5289 - balanced_acc: 0.5293\n",
            "Epoch 9: val_balanced_acc improved from 0.25021 to 0.37193, saving model to /content/drive/MyDrive/PHD/Model/best_model_attention.h5\n",
            "219/219 [==============================] - 41s 186ms/step - loss: 1.2409 - accuracy: 0.5289 - balanced_acc: 0.5293 - val_loss: 0.9179 - val_accuracy: 0.6839 - val_balanced_acc: 0.3719 - lr: 0.0010\n",
            "Epoch 10/100\n",
            "219/219 [==============================] - ETA: 0s - loss: 1.2233 - accuracy: 0.5355 - balanced_acc: 0.5350\n",
            "Epoch 10: val_balanced_acc improved from 0.37193 to 0.37713, saving model to /content/drive/MyDrive/PHD/Model/best_model_attention.h5\n",
            "219/219 [==============================] - 41s 185ms/step - loss: 1.2233 - accuracy: 0.5355 - balanced_acc: 0.5350 - val_loss: 0.9441 - val_accuracy: 0.6528 - val_balanced_acc: 0.3771 - lr: 0.0010\n",
            "Epoch 11/100\n",
            "219/219 [==============================] - ETA: 0s - loss: 1.2145 - accuracy: 0.5421 - balanced_acc: 0.5429\n",
            "Epoch 11: val_balanced_acc did not improve from 0.37713\n",
            "219/219 [==============================] - 39s 178ms/step - loss: 1.2145 - accuracy: 0.5421 - balanced_acc: 0.5429 - val_loss: 0.9145 - val_accuracy: 0.6632 - val_balanced_acc: 0.3677 - lr: 0.0010\n",
            "Epoch 12/100\n",
            "219/219 [==============================] - ETA: 0s - loss: 1.1965 - accuracy: 0.5483 - balanced_acc: 0.5466\n",
            "Epoch 12: val_balanced_acc did not improve from 0.37713\n",
            "219/219 [==============================] - 39s 178ms/step - loss: 1.1965 - accuracy: 0.5483 - balanced_acc: 0.5466 - val_loss: 0.9239 - val_accuracy: 0.6528 - val_balanced_acc: 0.3659 - lr: 0.0010\n",
            "Epoch 13/100\n",
            "219/219 [==============================] - ETA: 0s - loss: 1.1880 - accuracy: 0.5490 - balanced_acc: 0.5514\n",
            "Epoch 13: val_balanced_acc improved from 0.37713 to 0.38738, saving model to /content/drive/MyDrive/PHD/Model/best_model_attention.h5\n",
            "219/219 [==============================] - 41s 186ms/step - loss: 1.1880 - accuracy: 0.5490 - balanced_acc: 0.5514 - val_loss: 0.8715 - val_accuracy: 0.6788 - val_balanced_acc: 0.3874 - lr: 0.0010\n",
            "Epoch 14/100\n",
            "219/219 [==============================] - ETA: 0s - loss: 1.1777 - accuracy: 0.5564 - balanced_acc: 0.5582\n",
            "Epoch 14: val_balanced_acc improved from 0.38738 to 0.39851, saving model to /content/drive/MyDrive/PHD/Model/best_model_attention.h5\n",
            "219/219 [==============================] - 41s 185ms/step - loss: 1.1777 - accuracy: 0.5564 - balanced_acc: 0.5582 - val_loss: 0.9387 - val_accuracy: 0.6632 - val_balanced_acc: 0.3985 - lr: 0.0010\n",
            "Epoch 15/100\n",
            "219/219 [==============================] - ETA: 0s - loss: 1.1582 - accuracy: 0.5624 - balanced_acc: 0.5610\n",
            "Epoch 15: val_balanced_acc did not improve from 0.39851\n",
            "219/219 [==============================] - 39s 178ms/step - loss: 1.1582 - accuracy: 0.5624 - balanced_acc: 0.5610 - val_loss: 0.8996 - val_accuracy: 0.6632 - val_balanced_acc: 0.2462 - lr: 0.0010\n",
            "Epoch 16/100\n",
            "219/219 [==============================] - ETA: 0s - loss: 1.1549 - accuracy: 0.5653 - balanced_acc: 0.5656\n",
            "Epoch 16: val_balanced_acc improved from 0.39851 to 0.39910, saving model to /content/drive/MyDrive/PHD/Model/best_model_attention.h5\n",
            "219/219 [==============================] - 41s 186ms/step - loss: 1.1549 - accuracy: 0.5653 - balanced_acc: 0.5656 - val_loss: 0.8918 - val_accuracy: 0.6736 - val_balanced_acc: 0.3991 - lr: 0.0010\n",
            "Epoch 17/100\n",
            "219/219 [==============================] - ETA: 0s - loss: 1.1429 - accuracy: 0.5700 - balanced_acc: 0.5729\n",
            "Epoch 17: val_balanced_acc did not improve from 0.39910\n",
            "219/219 [==============================] - 39s 179ms/step - loss: 1.1429 - accuracy: 0.5700 - balanced_acc: 0.5729 - val_loss: 0.8590 - val_accuracy: 0.6736 - val_balanced_acc: 0.3949 - lr: 0.0010\n",
            "Epoch 18/100\n",
            "219/219 [==============================] - ETA: 0s - loss: 1.1337 - accuracy: 0.5734 - balanced_acc: 0.5725\n",
            "Epoch 18: val_balanced_acc did not improve from 0.39910\n",
            "219/219 [==============================] - 39s 179ms/step - loss: 1.1337 - accuracy: 0.5734 - balanced_acc: 0.5725 - val_loss: 0.8913 - val_accuracy: 0.6528 - val_balanced_acc: 0.2454 - lr: 0.0010\n",
            "Epoch 19/100\n",
            "219/219 [==============================] - ETA: 0s - loss: 1.1256 - accuracy: 0.5737 - balanced_acc: 0.5719\n",
            "Epoch 19: val_balanced_acc did not improve from 0.39910\n",
            "219/219 [==============================] - 39s 179ms/step - loss: 1.1256 - accuracy: 0.5737 - balanced_acc: 0.5719 - val_loss: 0.8560 - val_accuracy: 0.6788 - val_balanced_acc: 0.3815 - lr: 0.0010\n",
            "Epoch 20/100\n",
            "219/219 [==============================] - ETA: 0s - loss: 1.1156 - accuracy: 0.5802 - balanced_acc: 0.5804\n",
            "Epoch 20: val_balanced_acc did not improve from 0.39910\n",
            "219/219 [==============================] - 39s 179ms/step - loss: 1.1156 - accuracy: 0.5802 - balanced_acc: 0.5804 - val_loss: 0.8837 - val_accuracy: 0.6736 - val_balanced_acc: 0.3976 - lr: 0.0010\n",
            "Epoch 21/100\n",
            "219/219 [==============================] - ETA: 0s - loss: 1.1063 - accuracy: 0.5845 - balanced_acc: 0.5842\n",
            "Epoch 21: val_balanced_acc did not improve from 0.39910\n",
            "219/219 [==============================] - 39s 179ms/step - loss: 1.1063 - accuracy: 0.5845 - balanced_acc: 0.5842 - val_loss: 0.8261 - val_accuracy: 0.6891 - val_balanced_acc: 0.3975 - lr: 0.0010\n",
            "Epoch 22/100\n",
            "219/219 [==============================] - ETA: 0s - loss: 1.1043 - accuracy: 0.5844 - balanced_acc: 0.5823\n",
            "Epoch 22: val_balanced_acc improved from 0.39910 to 0.40090, saving model to /content/drive/MyDrive/PHD/Model/best_model_attention.h5\n",
            "219/219 [==============================] - 41s 186ms/step - loss: 1.1043 - accuracy: 0.5844 - balanced_acc: 0.5823 - val_loss: 0.8457 - val_accuracy: 0.6839 - val_balanced_acc: 0.4009 - lr: 0.0010\n",
            "Epoch 23/100\n",
            "219/219 [==============================] - ETA: 0s - loss: 1.0882 - accuracy: 0.5902 - balanced_acc: 0.5917\n",
            "Epoch 23: val_balanced_acc did not improve from 0.40090\n",
            "219/219 [==============================] - 39s 178ms/step - loss: 1.0882 - accuracy: 0.5902 - balanced_acc: 0.5917 - val_loss: 0.8570 - val_accuracy: 0.6736 - val_balanced_acc: 0.4003 - lr: 0.0010\n",
            "Epoch 24/100\n",
            "219/219 [==============================] - ETA: 0s - loss: 1.0898 - accuracy: 0.5926 - balanced_acc: 0.5931\n",
            "Epoch 24: val_balanced_acc improved from 0.40090 to 0.40277, saving model to /content/drive/MyDrive/PHD/Model/best_model_attention.h5\n",
            "219/219 [==============================] - 41s 186ms/step - loss: 1.0898 - accuracy: 0.5926 - balanced_acc: 0.5931 - val_loss: 0.8523 - val_accuracy: 0.6788 - val_balanced_acc: 0.4028 - lr: 0.0010\n",
            "Epoch 25/100\n",
            "219/219 [==============================] - ETA: 0s - loss: 1.0744 - accuracy: 0.5977 - balanced_acc: 0.5979\n",
            "Epoch 25: val_balanced_acc did not improve from 0.40277\n",
            "219/219 [==============================] - 39s 179ms/step - loss: 1.0744 - accuracy: 0.5977 - balanced_acc: 0.5979 - val_loss: 0.8520 - val_accuracy: 0.6684 - val_balanced_acc: 0.3977 - lr: 0.0010\n",
            "Epoch 26/100\n",
            "219/219 [==============================] - ETA: 0s - loss: 1.0767 - accuracy: 0.5961 - balanced_acc: 0.5943\n",
            "Epoch 26: val_balanced_acc did not improve from 0.40277\n",
            "219/219 [==============================] - 39s 179ms/step - loss: 1.0767 - accuracy: 0.5961 - balanced_acc: 0.5943 - val_loss: 0.8407 - val_accuracy: 0.6788 - val_balanced_acc: 0.3867 - lr: 0.0010\n",
            "Epoch 27/100\n",
            "219/219 [==============================] - ETA: 0s - loss: 1.0616 - accuracy: 0.6026 - balanced_acc: 0.5999\n",
            "Epoch 27: val_balanced_acc improved from 0.40277 to 0.40536, saving model to /content/drive/MyDrive/PHD/Model/best_model_attention.h5\n",
            "219/219 [==============================] - 41s 189ms/step - loss: 1.0616 - accuracy: 0.6026 - balanced_acc: 0.5999 - val_loss: 0.8202 - val_accuracy: 0.6891 - val_balanced_acc: 0.4054 - lr: 0.0010\n",
            "Epoch 28/100\n",
            "219/219 [==============================] - ETA: 0s - loss: 1.0562 - accuracy: 0.6067 - balanced_acc: 0.6084\n",
            "Epoch 28: val_balanced_acc did not improve from 0.40536\n",
            "219/219 [==============================] - 39s 178ms/step - loss: 1.0562 - accuracy: 0.6067 - balanced_acc: 0.6084 - val_loss: 0.8416 - val_accuracy: 0.6528 - val_balanced_acc: 0.2477 - lr: 0.0010\n",
            "Epoch 29/100\n",
            "219/219 [==============================] - ETA: 0s - loss: 1.0484 - accuracy: 0.6101 - balanced_acc: 0.6066\n",
            "Epoch 29: val_balanced_acc did not improve from 0.40536\n",
            "219/219 [==============================] - 39s 178ms/step - loss: 1.0484 - accuracy: 0.6101 - balanced_acc: 0.6066 - val_loss: 0.8058 - val_accuracy: 0.6788 - val_balanced_acc: 0.3830 - lr: 0.0010\n",
            "Epoch 30/100\n",
            "219/219 [==============================] - ETA: 0s - loss: 1.0514 - accuracy: 0.6034 - balanced_acc: 0.6068\n",
            "Epoch 30: val_balanced_acc did not improve from 0.40536\n",
            "219/219 [==============================] - 39s 179ms/step - loss: 1.0514 - accuracy: 0.6034 - balanced_acc: 0.6068 - val_loss: 0.8254 - val_accuracy: 0.6839 - val_balanced_acc: 0.4039 - lr: 0.0010\n",
            "Epoch 31/100\n",
            "219/219 [==============================] - ETA: 0s - loss: 1.0387 - accuracy: 0.6106 - balanced_acc: 0.6098\n",
            "Epoch 31: val_balanced_acc improved from 0.40536 to 0.42254, saving model to /content/drive/MyDrive/PHD/Model/best_model_attention.h5\n",
            "219/219 [==============================] - 41s 187ms/step - loss: 1.0387 - accuracy: 0.6106 - balanced_acc: 0.6098 - val_loss: 0.8342 - val_accuracy: 0.6736 - val_balanced_acc: 0.4225 - lr: 0.0010\n",
            "Epoch 32/100\n",
            "219/219 [==============================] - ETA: 0s - loss: 1.0292 - accuracy: 0.6160 - balanced_acc: 0.6179\n",
            "Epoch 32: val_balanced_acc did not improve from 0.42254\n",
            "219/219 [==============================] - 39s 179ms/step - loss: 1.0292 - accuracy: 0.6160 - balanced_acc: 0.6179 - val_loss: 0.7943 - val_accuracy: 0.6943 - val_balanced_acc: 0.4069 - lr: 0.0010\n",
            "Epoch 33/100\n",
            "219/219 [==============================] - ETA: 0s - loss: 1.0325 - accuracy: 0.6125 - balanced_acc: 0.6136\n",
            "Epoch 33: val_balanced_acc did not improve from 0.42254\n",
            "219/219 [==============================] - 39s 179ms/step - loss: 1.0325 - accuracy: 0.6125 - balanced_acc: 0.6136 - val_loss: 0.8124 - val_accuracy: 0.6839 - val_balanced_acc: 0.2649 - lr: 0.0010\n",
            "Epoch 34/100\n",
            "219/219 [==============================] - ETA: 0s - loss: 1.0261 - accuracy: 0.6172 - balanced_acc: 0.6161\n",
            "Epoch 34: val_balanced_acc did not improve from 0.42254\n",
            "219/219 [==============================] - 39s 179ms/step - loss: 1.0261 - accuracy: 0.6172 - balanced_acc: 0.6161 - val_loss: 0.8330 - val_accuracy: 0.6788 - val_balanced_acc: 0.3901 - lr: 0.0010\n",
            "Epoch 35/100\n",
            "219/219 [==============================] - ETA: 0s - loss: 1.0152 - accuracy: 0.6231 - balanced_acc: 0.6234\n",
            "Epoch 35: val_balanced_acc did not improve from 0.42254\n",
            "219/219 [==============================] - 39s 179ms/step - loss: 1.0152 - accuracy: 0.6231 - balanced_acc: 0.6234 - val_loss: 0.8187 - val_accuracy: 0.6788 - val_balanced_acc: 0.2683 - lr: 0.0010\n",
            "Epoch 36/100\n",
            "219/219 [==============================] - ETA: 0s - loss: 1.0105 - accuracy: 0.6264 - balanced_acc: 0.6300\n",
            "Epoch 36: val_balanced_acc did not improve from 0.42254\n",
            "219/219 [==============================] - 39s 179ms/step - loss: 1.0105 - accuracy: 0.6264 - balanced_acc: 0.6300 - val_loss: 0.7893 - val_accuracy: 0.6995 - val_balanced_acc: 0.4063 - lr: 0.0010\n",
            "Epoch 37/100\n",
            "219/219 [==============================] - ETA: 0s - loss: 1.0087 - accuracy: 0.6228 - balanced_acc: 0.6243\n",
            "Epoch 37: val_balanced_acc did not improve from 0.42254\n",
            "219/219 [==============================] - 39s 179ms/step - loss: 1.0087 - accuracy: 0.6228 - balanced_acc: 0.6243 - val_loss: 0.8147 - val_accuracy: 0.6788 - val_balanced_acc: 0.4085 - lr: 0.0010\n",
            "Epoch 38/100\n",
            "219/219 [==============================] - ETA: 0s - loss: 0.9928 - accuracy: 0.6341 - balanced_acc: 0.6352\n",
            "Epoch 38: val_balanced_acc did not improve from 0.42254\n",
            "219/219 [==============================] - 39s 179ms/step - loss: 0.9928 - accuracy: 0.6341 - balanced_acc: 0.6352 - val_loss: 0.8194 - val_accuracy: 0.6684 - val_balanced_acc: 0.4020 - lr: 0.0010\n",
            "Epoch 39/100\n",
            "219/219 [==============================] - ETA: 0s - loss: 1.0011 - accuracy: 0.6276 - balanced_acc: 0.6246\n",
            "Epoch 39: val_balanced_acc did not improve from 0.42254\n",
            "219/219 [==============================] - 39s 179ms/step - loss: 1.0011 - accuracy: 0.6276 - balanced_acc: 0.6246 - val_loss: 0.7903 - val_accuracy: 0.7047 - val_balanced_acc: 0.4129 - lr: 0.0010\n",
            "Epoch 40/100\n",
            "219/219 [==============================] - ETA: 0s - loss: 0.9900 - accuracy: 0.6291 - balanced_acc: 0.6311\n",
            "Epoch 40: val_balanced_acc did not improve from 0.42254\n",
            "219/219 [==============================] - 39s 179ms/step - loss: 0.9900 - accuracy: 0.6291 - balanced_acc: 0.6311 - val_loss: 0.8269 - val_accuracy: 0.6632 - val_balanced_acc: 0.3990 - lr: 0.0010\n",
            "Epoch 41/100\n",
            "219/219 [==============================] - ETA: 0s - loss: 0.9844 - accuracy: 0.6334 - balanced_acc: 0.6335\n",
            "Epoch 41: val_balanced_acc did not improve from 0.42254\n",
            "219/219 [==============================] - 39s 179ms/step - loss: 0.9844 - accuracy: 0.6334 - balanced_acc: 0.6335 - val_loss: 0.7818 - val_accuracy: 0.6943 - val_balanced_acc: 0.4124 - lr: 0.0010\n",
            "Epoch 42/100\n",
            "219/219 [==============================] - ETA: 0s - loss: 0.9837 - accuracy: 0.6301 - balanced_acc: 0.6296\n",
            "Epoch 42: val_balanced_acc did not improve from 0.42254\n",
            "219/219 [==============================] - 39s 179ms/step - loss: 0.9837 - accuracy: 0.6301 - balanced_acc: 0.6296 - val_loss: 0.7997 - val_accuracy: 0.6839 - val_balanced_acc: 0.4061 - lr: 0.0010\n",
            "Epoch 43/100\n",
            "219/219 [==============================] - ETA: 0s - loss: 0.9759 - accuracy: 0.6380 - balanced_acc: 0.6362\n",
            "Epoch 43: val_balanced_acc did not improve from 0.42254\n",
            "219/219 [==============================] - 39s 178ms/step - loss: 0.9759 - accuracy: 0.6380 - balanced_acc: 0.6362 - val_loss: 0.7948 - val_accuracy: 0.6943 - val_balanced_acc: 0.4040 - lr: 0.0010\n",
            "Epoch 44/100\n",
            "219/219 [==============================] - ETA: 0s - loss: 0.9753 - accuracy: 0.6403 - balanced_acc: 0.6394\n",
            "Epoch 44: val_balanced_acc did not improve from 0.42254\n",
            "219/219 [==============================] - 39s 179ms/step - loss: 0.9753 - accuracy: 0.6403 - balanced_acc: 0.6394 - val_loss: 0.7696 - val_accuracy: 0.7047 - val_balanced_acc: 0.4093 - lr: 0.0010\n",
            "Epoch 45/100\n",
            "219/219 [==============================] - ETA: 0s - loss: 0.9634 - accuracy: 0.6415 - balanced_acc: 0.6415\n",
            "Epoch 45: val_balanced_acc did not improve from 0.42254\n",
            "219/219 [==============================] - 39s 179ms/step - loss: 0.9634 - accuracy: 0.6415 - balanced_acc: 0.6415 - val_loss: 0.8009 - val_accuracy: 0.7047 - val_balanced_acc: 0.4156 - lr: 0.0010\n",
            "Epoch 46/100\n",
            "219/219 [==============================] - ETA: 0s - loss: 0.9612 - accuracy: 0.6442 - balanced_acc: 0.6460\n",
            "Epoch 46: val_balanced_acc did not improve from 0.42254\n",
            "219/219 [==============================] - 39s 179ms/step - loss: 0.9612 - accuracy: 0.6442 - balanced_acc: 0.6460 - val_loss: 0.8155 - val_accuracy: 0.6684 - val_balanced_acc: 0.3856 - lr: 0.0010\n",
            "Epoch 47/100\n",
            "219/219 [==============================] - ETA: 0s - loss: 0.9648 - accuracy: 0.6398 - balanced_acc: 0.6405\n",
            "Epoch 47: val_balanced_acc did not improve from 0.42254\n",
            "219/219 [==============================] - 39s 179ms/step - loss: 0.9648 - accuracy: 0.6398 - balanced_acc: 0.6405 - val_loss: 0.7703 - val_accuracy: 0.7098 - val_balanced_acc: 0.4171 - lr: 0.0010\n",
            "Epoch 48/100\n",
            "219/219 [==============================] - ETA: 0s - loss: 0.9508 - accuracy: 0.6462 - balanced_acc: 0.6470\n",
            "Epoch 48: val_balanced_acc did not improve from 0.42254\n",
            "219/219 [==============================] - 39s 179ms/step - loss: 0.9508 - accuracy: 0.6462 - balanced_acc: 0.6470 - val_loss: 0.7815 - val_accuracy: 0.6943 - val_balanced_acc: 0.4121 - lr: 0.0010\n",
            "Epoch 49/100\n",
            "219/219 [==============================] - ETA: 0s - loss: 0.9550 - accuracy: 0.6443 - balanced_acc: 0.6425\n",
            "Epoch 49: val_balanced_acc improved from 0.42254 to 0.42488, saving model to /content/drive/MyDrive/PHD/Model/best_model_attention.h5\n",
            "219/219 [==============================] - 41s 187ms/step - loss: 0.9550 - accuracy: 0.6443 - balanced_acc: 0.6425 - val_loss: 0.8008 - val_accuracy: 0.6943 - val_balanced_acc: 0.4249 - lr: 0.0010\n",
            "Epoch 50/100\n",
            "219/219 [==============================] - ETA: 0s - loss: 0.9449 - accuracy: 0.6463 - balanced_acc: 0.6443\n",
            "Epoch 50: val_balanced_acc did not improve from 0.42488\n",
            "219/219 [==============================] - 39s 179ms/step - loss: 0.9449 - accuracy: 0.6463 - balanced_acc: 0.6443 - val_loss: 0.7311 - val_accuracy: 0.7202 - val_balanced_acc: 0.4238 - lr: 0.0010\n",
            "Epoch 51/100\n",
            "219/219 [==============================] - ETA: 0s - loss: 0.9344 - accuracy: 0.6545 - balanced_acc: 0.6544\n",
            "Epoch 51: val_balanced_acc did not improve from 0.42488\n",
            "219/219 [==============================] - 39s 179ms/step - loss: 0.9344 - accuracy: 0.6545 - balanced_acc: 0.6544 - val_loss: 0.7473 - val_accuracy: 0.6943 - val_balanced_acc: 0.3991 - lr: 0.0010\n",
            "Epoch 52/100\n",
            "219/219 [==============================] - ETA: 0s - loss: 0.9367 - accuracy: 0.6553 - balanced_acc: 0.6539\n",
            "Epoch 52: val_balanced_acc did not improve from 0.42488\n",
            "219/219 [==============================] - 39s 179ms/step - loss: 0.9367 - accuracy: 0.6553 - balanced_acc: 0.6539 - val_loss: 0.7640 - val_accuracy: 0.7098 - val_balanced_acc: 0.4194 - lr: 0.0010\n",
            "Epoch 53/100\n",
            "219/219 [==============================] - ETA: 0s - loss: 0.9375 - accuracy: 0.6515 - balanced_acc: 0.6517\n",
            "Epoch 53: val_balanced_acc did not improve from 0.42488\n",
            "219/219 [==============================] - 39s 178ms/step - loss: 0.9375 - accuracy: 0.6515 - balanced_acc: 0.6517 - val_loss: 0.7660 - val_accuracy: 0.6943 - val_balanced_acc: 0.4042 - lr: 0.0010\n",
            "Epoch 54/100\n",
            "219/219 [==============================] - ETA: 0s - loss: 0.9221 - accuracy: 0.6584 - balanced_acc: 0.6582\n",
            "Epoch 54: val_balanced_acc improved from 0.42488 to 0.44337, saving model to /content/drive/MyDrive/PHD/Model/best_model_attention.h5\n",
            "219/219 [==============================] - 41s 186ms/step - loss: 0.9221 - accuracy: 0.6584 - balanced_acc: 0.6582 - val_loss: 0.7711 - val_accuracy: 0.7098 - val_balanced_acc: 0.4434 - lr: 0.0010\n",
            "Epoch 55/100\n",
            "219/219 [==============================] - ETA: 0s - loss: 0.9312 - accuracy: 0.6540 - balanced_acc: 0.6527\n",
            "Epoch 55: val_balanced_acc did not improve from 0.44337\n",
            "219/219 [==============================] - 39s 178ms/step - loss: 0.9312 - accuracy: 0.6540 - balanced_acc: 0.6527 - val_loss: 0.7928 - val_accuracy: 0.6995 - val_balanced_acc: 0.4220 - lr: 0.0010\n",
            "Epoch 56/100\n",
            "219/219 [==============================] - ETA: 0s - loss: 0.9124 - accuracy: 0.6642 - balanced_acc: 0.6650\n",
            "Epoch 56: val_balanced_acc did not improve from 0.44337\n",
            "219/219 [==============================] - 39s 178ms/step - loss: 0.9124 - accuracy: 0.6642 - balanced_acc: 0.6650 - val_loss: 0.7535 - val_accuracy: 0.7254 - val_balanced_acc: 0.4388 - lr: 0.0010\n",
            "Epoch 57/100\n",
            "219/219 [==============================] - ETA: 0s - loss: 0.9212 - accuracy: 0.6595 - balanced_acc: 0.6586\n",
            "Epoch 57: val_balanced_acc did not improve from 0.44337\n",
            "219/219 [==============================] - 39s 179ms/step - loss: 0.9212 - accuracy: 0.6595 - balanced_acc: 0.6586 - val_loss: 0.7884 - val_accuracy: 0.6891 - val_balanced_acc: 0.4160 - lr: 0.0010\n",
            "Epoch 58/100\n",
            "219/219 [==============================] - ETA: 0s - loss: 0.9096 - accuracy: 0.6640 - balanced_acc: 0.6620\n",
            "Epoch 58: val_balanced_acc did not improve from 0.44337\n",
            "219/219 [==============================] - 39s 179ms/step - loss: 0.9096 - accuracy: 0.6640 - balanced_acc: 0.6620 - val_loss: 0.8034 - val_accuracy: 0.6943 - val_balanced_acc: 0.4142 - lr: 0.0010\n",
            "Epoch 59/100\n",
            "219/219 [==============================] - ETA: 0s - loss: 0.9144 - accuracy: 0.6591 - balanced_acc: 0.6560\n",
            "Epoch 59: val_balanced_acc did not improve from 0.44337\n",
            "219/219 [==============================] - 39s 179ms/step - loss: 0.9144 - accuracy: 0.6591 - balanced_acc: 0.6560 - val_loss: 0.7862 - val_accuracy: 0.7047 - val_balanced_acc: 0.4336 - lr: 0.0010\n",
            "Epoch 60/100\n",
            "219/219 [==============================] - ETA: 0s - loss: 0.9009 - accuracy: 0.6671 - balanced_acc: 0.6700\n",
            "Epoch 60: val_balanced_acc did not improve from 0.44337\n",
            "219/219 [==============================] - 39s 179ms/step - loss: 0.9009 - accuracy: 0.6671 - balanced_acc: 0.6700 - val_loss: 0.7506 - val_accuracy: 0.7098 - val_balanced_acc: 0.4314 - lr: 0.0010\n",
            "Epoch 61/100\n",
            "219/219 [==============================] - ETA: 0s - loss: 0.9009 - accuracy: 0.6695 - balanced_acc: 0.6692\n",
            "Epoch 61: val_balanced_acc did not improve from 0.44337\n",
            "219/219 [==============================] - 39s 179ms/step - loss: 0.9009 - accuracy: 0.6695 - balanced_acc: 0.6692 - val_loss: 0.8239 - val_accuracy: 0.6839 - val_balanced_acc: 0.4123 - lr: 0.0010\n",
            "Epoch 62/100\n",
            "219/219 [==============================] - ETA: 0s - loss: 0.8966 - accuracy: 0.6697 - balanced_acc: 0.6694\n",
            "Epoch 62: val_balanced_acc did not improve from 0.44337\n",
            "219/219 [==============================] - 39s 179ms/step - loss: 0.8966 - accuracy: 0.6697 - balanced_acc: 0.6694 - val_loss: 0.7783 - val_accuracy: 0.7098 - val_balanced_acc: 0.4398 - lr: 0.0010\n",
            "Epoch 63/100\n",
            "219/219 [==============================] - ETA: 0s - loss: 0.8922 - accuracy: 0.6721 - balanced_acc: 0.6723\n",
            "Epoch 63: val_balanced_acc did not improve from 0.44337\n",
            "219/219 [==============================] - 39s 179ms/step - loss: 0.8922 - accuracy: 0.6721 - balanced_acc: 0.6723 - val_loss: 0.7751 - val_accuracy: 0.6995 - val_balanced_acc: 0.4139 - lr: 0.0010\n",
            "Epoch 64/100\n",
            "219/219 [==============================] - ETA: 0s - loss: 0.8863 - accuracy: 0.6725 - balanced_acc: 0.6722\n",
            "Epoch 64: val_balanced_acc did not improve from 0.44337\n",
            "219/219 [==============================] - 39s 179ms/step - loss: 0.8863 - accuracy: 0.6725 - balanced_acc: 0.6722 - val_loss: 0.7573 - val_accuracy: 0.6943 - val_balanced_acc: 0.4040 - lr: 0.0010\n",
            "Epoch 65/100\n",
            "219/219 [==============================] - ETA: 0s - loss: 0.8909 - accuracy: 0.6674 - balanced_acc: 0.6664\n",
            "Epoch 65: val_balanced_acc did not improve from 0.44337\n",
            "219/219 [==============================] - 39s 179ms/step - loss: 0.8909 - accuracy: 0.6674 - balanced_acc: 0.6664 - val_loss: 0.7583 - val_accuracy: 0.6995 - val_balanced_acc: 0.4270 - lr: 0.0010\n",
            "Epoch 66/100\n",
            "219/219 [==============================] - ETA: 0s - loss: 0.8769 - accuracy: 0.6764 - balanced_acc: 0.6759\n",
            "Epoch 66: val_balanced_acc did not improve from 0.44337\n",
            "219/219 [==============================] - 39s 179ms/step - loss: 0.8769 - accuracy: 0.6764 - balanced_acc: 0.6759 - val_loss: 0.7613 - val_accuracy: 0.7098 - val_balanced_acc: 0.4307 - lr: 0.0010\n",
            "Epoch 67/100\n",
            "219/219 [==============================] - ETA: 0s - loss: 0.8860 - accuracy: 0.6757 - balanced_acc: 0.6766\n",
            "Epoch 67: val_balanced_acc did not improve from 0.44337\n",
            "219/219 [==============================] - 39s 179ms/step - loss: 0.8860 - accuracy: 0.6757 - balanced_acc: 0.6766 - val_loss: 0.7555 - val_accuracy: 0.7098 - val_balanced_acc: 0.4279 - lr: 0.0010\n",
            "Epoch 68/100\n",
            "219/219 [==============================] - ETA: 0s - loss: 0.8726 - accuracy: 0.6742 - balanced_acc: 0.6752\n",
            "Epoch 68: val_balanced_acc improved from 0.44337 to 0.45054, saving model to /content/drive/MyDrive/PHD/Model/best_model_attention.h5\n",
            "219/219 [==============================] - 41s 186ms/step - loss: 0.8726 - accuracy: 0.6742 - balanced_acc: 0.6752 - val_loss: 0.7823 - val_accuracy: 0.6995 - val_balanced_acc: 0.4505 - lr: 0.0010\n",
            "Epoch 69/100\n",
            "219/219 [==============================] - ETA: 0s - loss: 0.8765 - accuracy: 0.6777 - balanced_acc: 0.6775\n",
            "Epoch 69: val_balanced_acc did not improve from 0.45054\n",
            "219/219 [==============================] - 39s 179ms/step - loss: 0.8765 - accuracy: 0.6777 - balanced_acc: 0.6775 - val_loss: 0.7478 - val_accuracy: 0.7047 - val_balanced_acc: 0.4163 - lr: 0.0010\n",
            "Epoch 70/100\n",
            "219/219 [==============================] - ETA: 0s - loss: 0.8590 - accuracy: 0.6817 - balanced_acc: 0.6820\n",
            "Epoch 70: val_balanced_acc did not improve from 0.45054\n",
            "219/219 [==============================] - 39s 179ms/step - loss: 0.8590 - accuracy: 0.6817 - balanced_acc: 0.6820 - val_loss: 0.7548 - val_accuracy: 0.7098 - val_balanced_acc: 0.4209 - lr: 0.0010\n",
            "Epoch 71/100\n",
            "219/219 [==============================] - ETA: 0s - loss: 0.8652 - accuracy: 0.6827 - balanced_acc: 0.6795\n",
            "Epoch 71: val_balanced_acc did not improve from 0.45054\n",
            "219/219 [==============================] - 39s 179ms/step - loss: 0.8652 - accuracy: 0.6827 - balanced_acc: 0.6795 - val_loss: 0.7671 - val_accuracy: 0.7098 - val_balanced_acc: 0.4270 - lr: 0.0010\n",
            "Epoch 72/100\n",
            "219/219 [==============================] - ETA: 0s - loss: 0.8686 - accuracy: 0.6823 - balanced_acc: 0.6836\n",
            "Epoch 72: val_balanced_acc did not improve from 0.45054\n",
            "219/219 [==============================] - 39s 179ms/step - loss: 0.8686 - accuracy: 0.6823 - balanced_acc: 0.6836 - val_loss: 0.7430 - val_accuracy: 0.7047 - val_balanced_acc: 0.4079 - lr: 0.0010\n",
            "Epoch 73/100\n",
            "219/219 [==============================] - ETA: 0s - loss: 0.8497 - accuracy: 0.6894 - balanced_acc: 0.6882\n",
            "Epoch 73: val_balanced_acc did not improve from 0.45054\n",
            "219/219 [==============================] - 39s 179ms/step - loss: 0.8497 - accuracy: 0.6894 - balanced_acc: 0.6882 - val_loss: 0.7595 - val_accuracy: 0.7098 - val_balanced_acc: 0.4344 - lr: 0.0010\n",
            "Epoch 74/100\n",
            "219/219 [==============================] - ETA: 0s - loss: 0.8582 - accuracy: 0.6873 - balanced_acc: 0.6892\n",
            "Epoch 74: val_balanced_acc did not improve from 0.45054\n",
            "219/219 [==============================] - 39s 179ms/step - loss: 0.8582 - accuracy: 0.6873 - balanced_acc: 0.6892 - val_loss: 0.7283 - val_accuracy: 0.7202 - val_balanced_acc: 0.4075 - lr: 0.0010\n",
            "Epoch 75/100\n",
            "219/219 [==============================] - ETA: 0s - loss: 0.8500 - accuracy: 0.6878 - balanced_acc: 0.6871\n",
            "Epoch 75: val_balanced_acc did not improve from 0.45054\n",
            "219/219 [==============================] - 39s 179ms/step - loss: 0.8500 - accuracy: 0.6878 - balanced_acc: 0.6871 - val_loss: 0.7593 - val_accuracy: 0.7150 - val_balanced_acc: 0.4442 - lr: 0.0010\n",
            "Epoch 76/100\n",
            "219/219 [==============================] - ETA: 0s - loss: 0.8432 - accuracy: 0.6874 - balanced_acc: 0.6887\n",
            "Epoch 76: val_balanced_acc did not improve from 0.45054\n",
            "219/219 [==============================] - 39s 179ms/step - loss: 0.8432 - accuracy: 0.6874 - balanced_acc: 0.6887 - val_loss: 0.7787 - val_accuracy: 0.6995 - val_balanced_acc: 0.4166 - lr: 0.0010\n",
            "Epoch 77/100\n",
            "219/219 [==============================] - ETA: 0s - loss: 0.8490 - accuracy: 0.6873 - balanced_acc: 0.6902\n",
            "Epoch 77: val_balanced_acc did not improve from 0.45054\n",
            "219/219 [==============================] - 39s 178ms/step - loss: 0.8490 - accuracy: 0.6873 - balanced_acc: 0.6902 - val_loss: 0.7656 - val_accuracy: 0.7047 - val_balanced_acc: 0.4324 - lr: 0.0010\n",
            "Epoch 78/100\n",
            "219/219 [==============================] - ETA: 0s - loss: 0.8408 - accuracy: 0.6966 - balanced_acc: 0.6972\n",
            "Epoch 78: val_balanced_acc did not improve from 0.45054\n",
            "219/219 [==============================] - 39s 179ms/step - loss: 0.8408 - accuracy: 0.6966 - balanced_acc: 0.6972 - val_loss: 0.7733 - val_accuracy: 0.7047 - val_balanced_acc: 0.4499 - lr: 0.0010\n",
            "Epoch 79/100\n",
            "219/219 [==============================] - ETA: 0s - loss: 0.8330 - accuracy: 0.6924 - balanced_acc: 0.6890\n",
            "Epoch 79: val_balanced_acc did not improve from 0.45054\n",
            "219/219 [==============================] - 39s 179ms/step - loss: 0.8330 - accuracy: 0.6924 - balanced_acc: 0.6890 - val_loss: 0.7377 - val_accuracy: 0.6995 - val_balanced_acc: 0.4139 - lr: 0.0010\n",
            "Epoch 80/100\n",
            "219/219 [==============================] - ETA: 0s - loss: 0.8319 - accuracy: 0.6999 - balanced_acc: 0.7002\n",
            "Epoch 80: val_balanced_acc did not improve from 0.45054\n",
            "219/219 [==============================] - 39s 179ms/step - loss: 0.8319 - accuracy: 0.6999 - balanced_acc: 0.7002 - val_loss: 0.7660 - val_accuracy: 0.7047 - val_balanced_acc: 0.4175 - lr: 0.0010\n",
            "Epoch 81/100\n",
            "219/219 [==============================] - ETA: 0s - loss: 0.8346 - accuracy: 0.6934 - balanced_acc: 0.6926\n",
            "Epoch 81: val_balanced_acc did not improve from 0.45054\n",
            "219/219 [==============================] - 39s 179ms/step - loss: 0.8346 - accuracy: 0.6934 - balanced_acc: 0.6926 - val_loss: 0.7500 - val_accuracy: 0.7150 - val_balanced_acc: 0.4279 - lr: 0.0010\n",
            "Epoch 82/100\n",
            "219/219 [==============================] - ETA: 0s - loss: 0.8260 - accuracy: 0.7001 - balanced_acc: 0.6990\n",
            "Epoch 82: val_balanced_acc did not improve from 0.45054\n",
            "219/219 [==============================] - 39s 179ms/step - loss: 0.8260 - accuracy: 0.7001 - balanced_acc: 0.6990 - val_loss: 0.7593 - val_accuracy: 0.7047 - val_balanced_acc: 0.4271 - lr: 0.0010\n",
            "Epoch 83/100\n",
            "219/219 [==============================] - ETA: 0s - loss: 0.8267 - accuracy: 0.6942 - balanced_acc: 0.6939\n",
            "Epoch 83: val_balanced_acc did not improve from 0.45054\n",
            "219/219 [==============================] - 39s 179ms/step - loss: 0.8267 - accuracy: 0.6942 - balanced_acc: 0.6939 - val_loss: 0.7692 - val_accuracy: 0.6995 - val_balanced_acc: 0.4220 - lr: 0.0010\n",
            "Epoch 84/100\n",
            "219/219 [==============================] - ETA: 0s - loss: 0.8150 - accuracy: 0.7036 - balanced_acc: 0.7048\n",
            "Epoch 84: val_balanced_acc did not improve from 0.45054\n",
            "219/219 [==============================] - 39s 179ms/step - loss: 0.8150 - accuracy: 0.7036 - balanced_acc: 0.7048 - val_loss: 0.7557 - val_accuracy: 0.7098 - val_balanced_acc: 0.4279 - lr: 0.0010\n",
            "Epoch 85/100\n",
            "219/219 [==============================] - ETA: 0s - loss: 0.8235 - accuracy: 0.6991 - balanced_acc: 0.6973\n",
            "Epoch 85: val_balanced_acc did not improve from 0.45054\n",
            "219/219 [==============================] - 39s 179ms/step - loss: 0.8235 - accuracy: 0.6991 - balanced_acc: 0.6973 - val_loss: 0.7679 - val_accuracy: 0.7150 - val_balanced_acc: 0.4315 - lr: 0.0010\n",
            "Epoch 86/100\n",
            "219/219 [==============================] - ETA: 0s - loss: 0.8164 - accuracy: 0.7005 - balanced_acc: 0.6994\n",
            "Epoch 86: val_balanced_acc did not improve from 0.45054\n",
            "219/219 [==============================] - 39s 179ms/step - loss: 0.8164 - accuracy: 0.7005 - balanced_acc: 0.6994 - val_loss: 0.7404 - val_accuracy: 0.7150 - val_balanced_acc: 0.4174 - lr: 0.0010\n",
            "Epoch 87/100\n",
            "219/219 [==============================] - ETA: 0s - loss: 0.8057 - accuracy: 0.7062 - balanced_acc: 0.7076\n",
            "Epoch 87: val_balanced_acc did not improve from 0.45054\n",
            "219/219 [==============================] - 39s 179ms/step - loss: 0.8057 - accuracy: 0.7062 - balanced_acc: 0.7076 - val_loss: 0.7174 - val_accuracy: 0.7513 - val_balanced_acc: 0.4234 - lr: 0.0010\n",
            "Epoch 88/100\n",
            "219/219 [==============================] - ETA: 0s - loss: 0.8112 - accuracy: 0.7044 - balanced_acc: 0.7072\n",
            "Epoch 88: ReduceLROnPlateau reducing learning rate to 0.0005000000237487257.\n",
            "\n",
            "Epoch 88: val_balanced_acc did not improve from 0.45054\n",
            "219/219 [==============================] - 39s 179ms/step - loss: 0.8112 - accuracy: 0.7044 - balanced_acc: 0.7072 - val_loss: 0.7280 - val_accuracy: 0.7150 - val_balanced_acc: 0.4270 - lr: 0.0010\n",
            "Epoch 89/100\n",
            "219/219 [==============================] - ETA: 0s - loss: 0.8018 - accuracy: 0.7100 - balanced_acc: 0.7100\n",
            "Epoch 89: val_balanced_acc did not improve from 0.45054\n",
            "219/219 [==============================] - 39s 179ms/step - loss: 0.8018 - accuracy: 0.7100 - balanced_acc: 0.7100 - val_loss: 0.7417 - val_accuracy: 0.7047 - val_balanced_acc: 0.4160 - lr: 5.0000e-04\n",
            "Epoch 90/100\n",
            "219/219 [==============================] - ETA: 0s - loss: 0.7947 - accuracy: 0.7129 - balanced_acc: 0.7105\n",
            "Epoch 90: val_balanced_acc did not improve from 0.45054\n",
            "219/219 [==============================] - 39s 179ms/step - loss: 0.7947 - accuracy: 0.7129 - balanced_acc: 0.7105 - val_loss: 0.7580 - val_accuracy: 0.7150 - val_balanced_acc: 0.4485 - lr: 5.0000e-04\n",
            "Epoch 91/100\n",
            "219/219 [==============================] - ETA: 0s - loss: 0.7954 - accuracy: 0.7123 - balanced_acc: 0.7151\n",
            "Epoch 91: val_balanced_acc did not improve from 0.45054\n",
            "219/219 [==============================] - 39s 179ms/step - loss: 0.7954 - accuracy: 0.7123 - balanced_acc: 0.7151 - val_loss: 0.7250 - val_accuracy: 0.7047 - val_balanced_acc: 0.4228 - lr: 5.0000e-04\n",
            "Epoch 92/100\n",
            "219/219 [==============================] - ETA: 0s - loss: 0.7879 - accuracy: 0.7154 - balanced_acc: 0.7133\n",
            "Epoch 92: val_balanced_acc did not improve from 0.45054\n",
            "219/219 [==============================] - 39s 179ms/step - loss: 0.7879 - accuracy: 0.7154 - balanced_acc: 0.7133 - val_loss: 0.7747 - val_accuracy: 0.7202 - val_balanced_acc: 0.4351 - lr: 5.0000e-04\n",
            "Epoch 93/100\n",
            "219/219 [==============================] - ETA: 0s - loss: 0.7922 - accuracy: 0.7178 - balanced_acc: 0.7193\n",
            "Epoch 93: val_balanced_acc did not improve from 0.45054\n",
            "219/219 [==============================] - 39s 179ms/step - loss: 0.7922 - accuracy: 0.7178 - balanced_acc: 0.7193 - val_loss: 0.7651 - val_accuracy: 0.7150 - val_balanced_acc: 0.4270 - lr: 5.0000e-04\n",
            "Epoch 94/100\n",
            "219/219 [==============================] - ETA: 0s - loss: 0.7944 - accuracy: 0.7078 - balanced_acc: 0.7044\n",
            "Epoch 94: val_balanced_acc improved from 0.45054 to 0.45403, saving model to /content/drive/MyDrive/PHD/Model/best_model_attention.h5\n",
            "219/219 [==============================] - 41s 187ms/step - loss: 0.7944 - accuracy: 0.7078 - balanced_acc: 0.7044 - val_loss: 0.7422 - val_accuracy: 0.7150 - val_balanced_acc: 0.4540 - lr: 5.0000e-04\n",
            "Epoch 95/100\n",
            "219/219 [==============================] - ETA: 0s - loss: 0.7862 - accuracy: 0.7175 - balanced_acc: 0.7190\n",
            "Epoch 95: val_balanced_acc did not improve from 0.45403\n",
            "219/219 [==============================] - 39s 179ms/step - loss: 0.7862 - accuracy: 0.7175 - balanced_acc: 0.7190 - val_loss: 0.7506 - val_accuracy: 0.7047 - val_balanced_acc: 0.4175 - lr: 5.0000e-04\n",
            "Epoch 96/100\n",
            "219/219 [==============================] - ETA: 0s - loss: 0.7843 - accuracy: 0.7180 - balanced_acc: 0.7189\n",
            "Epoch 96: val_balanced_acc did not improve from 0.45403\n",
            "219/219 [==============================] - 39s 179ms/step - loss: 0.7843 - accuracy: 0.7180 - balanced_acc: 0.7189 - val_loss: 0.7346 - val_accuracy: 0.7047 - val_balanced_acc: 0.4190 - lr: 5.0000e-04\n",
            "Epoch 97/100\n",
            "219/219 [==============================] - ETA: 0s - loss: 0.7867 - accuracy: 0.7168 - balanced_acc: 0.7146\n",
            "Epoch 97: val_balanced_acc did not improve from 0.45403\n",
            "219/219 [==============================] - 39s 179ms/step - loss: 0.7867 - accuracy: 0.7168 - balanced_acc: 0.7146 - val_loss: 0.7214 - val_accuracy: 0.7306 - val_balanced_acc: 0.4276 - lr: 5.0000e-04\n",
            "Epoch 98/100\n",
            "219/219 [==============================] - ETA: 0s - loss: 0.7833 - accuracy: 0.7168 - balanced_acc: 0.7183\n",
            "Epoch 98: val_balanced_acc did not improve from 0.45403\n",
            "219/219 [==============================] - 39s 179ms/step - loss: 0.7833 - accuracy: 0.7168 - balanced_acc: 0.7183 - val_loss: 0.7689 - val_accuracy: 0.7098 - val_balanced_acc: 0.4291 - lr: 5.0000e-04\n",
            "Epoch 99/100\n",
            "219/219 [==============================] - ETA: 0s - loss: 0.7828 - accuracy: 0.7145 - balanced_acc: 0.7146\n",
            "Epoch 99: val_balanced_acc did not improve from 0.45403\n",
            "219/219 [==============================] - 39s 179ms/step - loss: 0.7828 - accuracy: 0.7145 - balanced_acc: 0.7146 - val_loss: 0.7680 - val_accuracy: 0.7047 - val_balanced_acc: 0.4184 - lr: 5.0000e-04\n",
            "Epoch 100/100\n",
            "219/219 [==============================] - ETA: 0s - loss: 0.7836 - accuracy: 0.7179 - balanced_acc: 0.7173\n",
            "Epoch 100: val_balanced_acc did not improve from 0.45403\n",
            "219/219 [==============================] - 39s 179ms/step - loss: 0.7836 - accuracy: 0.7179 - balanced_acc: 0.7173 - val_loss: 0.7575 - val_accuracy: 0.7150 - val_balanced_acc: 0.4270 - lr: 5.0000e-04\n"
          ]
        },
        {
          "output_type": "display_data",
          "data": {
            "text/plain": [
              "<Figure size 432x288 with 2 Axes>"
            ],
            "image/png": "[encoded data removed]"
          },
          "metadata": {
            "needs_background": "light"
          }
        }
      ],
      "source": [
        "# define model\n",
        "model = define_base_model('resnet50')\n",
        "#model.summary()\n",
        "hst = model.fit(X_train, y_train, epochs=EPOCHS, batch_size=BATCH_SIZE, validation_data=(X_val, y_val), verbose=1,\n",
        "                    steps_per_epoch=X_train.shape[0] // BATCH_SIZE, \n",
        "                    callbacks=[learning_rate_reduction,early_stopping_monitor, mc])\n",
        "# learning curves\n",
        "summarize_diagnostics(hst)"
      ]
    },
    {
      "cell_type": "code",
      "execution_count": 12,
      "metadata": {
        "id": "vXnW3lmCgln3",
        "colab": {
          "base_uri": "https://localhost:8080/",
          "height": 295
        },
        "outputId": "ef6ea12f-dc35-4179-d5a5-e6f8d499c628"
      },
      "outputs": [
        {
          "output_type": "display_data",
          "data": {
            "text/plain": [
              "<Figure size 432x288 with 1 Axes>"
            ],
            "image/png": "[encoded data removed]"
          },
          "metadata": {
            "needs_background": "light"
          }
        }
      ],
      "source": [
        "# summarize history for accuracy\n",
        "plt.plot(hst.history['accuracy'])\n",
        "plt.plot(hst.history['balanced_acc'])\n",
        "plt.plot(hst.history['val_accuracy'])\n",
        "plt.plot(hst.history['val_balanced_acc'])\n",
        "plt.title('Model accuracy')\n",
        "plt.ylabel('Performance')\n",
        "plt.xlabel('epoch')\n",
        "plt.legend(['train accuracy', 'train balanced acc.', 'val. accuracy', 'val. balanced acc.'], loc='lower right')\n",
        "plt.show()"
      ]
    },
    {
      "cell_type": "code",
      "execution_count": null,
      "metadata": {
        "id": "rwwLiXUSG0IZ"
      },
      "outputs": [],
      "source": [
        "#Training\n",
        "#hst = model.fit(train_data_batches,\n",
        "#                    epochs = EPOCHS, validation_data = valid_data_batches,      \n",
        "                    #steps_per_epoch=X_train.shape[0] // BATCH_SIZE, \n",
        "#                    callbacks=[learning_rate_reduction,early_stopping_monitor, mc])\n"
      ]
    },
    {
      "cell_type": "markdown",
      "metadata": {
        "id": "icgjmi-4UIT-"
      },
      "source": [
        "#Evaluate"
      ]
    },
    {
      "cell_type": "code",
      "execution_count": 13,
      "metadata": {
        "id": "SPz8NH1Oylv9"
      },
      "outputs": [],
      "source": [
        "#save last model\n",
        "model.save(last_model_fpath)"
      ]
    },
    {
      "cell_type": "code",
      "execution_count": 14,
      "metadata": {
        "colab": {
          "base_uri": "https://localhost:8080/"
        },
        "id": "lS3ewyxO_anU",
        "outputId": "a382a043-1890-4ea4-d374-0ce593354e11"
      },
      "outputs": [
        {
          "output_type": "stream",
          "name": "stdout",
          "text": [
            "accuracy on training 0.7212474248774596\n",
            "balanced accuracy on training 0.7212474248774596\n",
            "accuracy on validation 0.7150259067357513\n",
            "balanced accuracy on validation 0.4743189737092176\n",
            "Score on val data:  (0.4326844723903548, 0.4743189737092176, 0.44572413687233936, None)\n"
          ]
        }
      ],
      "source": [
        "last_model = load_model(last_model_fpath, custom_objects={'balanced_acc' : balanced_acc})\n",
        "y_train_pred = last_model.predict(X_train)\n",
        "y_val_pred = last_model.predict(X_val)\n",
        "\n",
        "#print('accuracy on training',accuracy_score(np.argmax(y_train, axis=1), np.argmax(y_train_pred, axis=1)))\n",
        "print('accuracy on training',accuracy_score(np.argmax(y_train, axis=1), np.argmax(y_train_pred, axis=1)))\n",
        "print('balanced accuracy on training',balanced_accuracy_score(np.argmax(y_train, axis=1), np.argmax(y_train_pred, axis=1)))\n",
        "print('accuracy on validation',accuracy_score(np.argmax(y_val, axis=1), np.argmax(y_val_pred, axis=1)))\n",
        "print('balanced accuracy on validation',balanced_accuracy_score(np.argmax(y_val, axis=1), np.argmax(y_val_pred, axis=1)))\n",
        "print('Score on val data: ',precision_recall_fscore_support(np.argmax(y_val, axis=1), np.argmax(y_val_pred, axis=1), average='macro'))"
      ]
    },
    {
      "cell_type": "code",
      "execution_count": 15,
      "metadata": {
        "colab": {
          "base_uri": "https://localhost:8080/"
        },
        "id": "W3IyWjdGG4Xq",
        "outputId": "f32586a1-947d-4bdd-f504-255a242d4115"
      },
      "outputs": [
        {
          "output_type": "stream",
          "name": "stdout",
          "text": [
            "accuracy on training 0.7178376074447681\n",
            "balanced accuracy on training 0.7178376074447682\n",
            "accuracy on validation 0.7150259067357513\n",
            "balanced accuracy on validation 0.4779386699247326\n",
            "Score on val data:  (0.4257849293563579, 0.4779386699247326, 0.4421298814042559, None)\n"
          ]
        }
      ],
      "source": [
        "best_model = load_model(best_model_fpath, custom_objects={'balanced_acc' : balanced_acc})\n",
        "y_train_pred = best_model.predict(X_train)\n",
        "y_val_pred = best_model.predict(X_val)\n",
        "\n",
        "print('accuracy on training',accuracy_score(np.argmax(y_train, axis=1), np.argmax(y_train_pred, axis=1)))\n",
        "print('balanced accuracy on training',balanced_accuracy_score(np.argmax(y_train, axis=1), np.argmax(y_train_pred, axis=1)))\n",
        "print('accuracy on validation',accuracy_score(np.argmax(y_val, axis=1), np.argmax(y_val_pred, axis=1)))\n",
        "print('balanced accuracy on validation',balanced_accuracy_score(np.argmax(y_val, axis=1), np.argmax(y_val_pred, axis=1)))\n",
        "print('Score on val data: ',precision_recall_fscore_support(np.argmax(y_val, axis=1), np.argmax(y_val_pred, axis=1), average='macro'))"
      ]
    },
    {
      "cell_type": "markdown",
      "metadata": {
        "id": "iDRWiTnO0MGh"
      },
      "source": [
        "#Cut-off"
      ]
    },
    {
      "cell_type": "code",
      "execution_count": null,
      "metadata": {
        "id": "tGnCoIdLyDHS"
      },
      "outputs": [],
      "source": [
        "df_val_pred = pd.DataFrame(y_val_pred, columns = ['AKIEC', 'BCC', 'BKL', 'DF', 'MEL', 'NV', 'VASC'])"
      ]
    },
    {
      "cell_type": "code",
      "execution_count": null,
      "metadata": {
        "id": "QdyCbloQyWTC"
      },
      "outputs": [],
      "source": [
        "numbers = [float(x)/40 for x in range(11)]\n",
        "for i in numbers:\n",
        "    df_val_pred[i]= df_val_pred.MEL.map(lambda x: 1 if x > i else 0)\n",
        "df_val_pred.head()"
      ]
    },
    {
      "cell_type": "code",
      "execution_count": null,
      "metadata": {
        "id": "G4SQsRx73kgk"
      },
      "outputs": [],
      "source": [
        "y_val_true= [1 if x == 4 else 0 for x in np.argmax(y_val, axis=1)]"
      ]
    },
    {
      "cell_type": "code",
      "execution_count": null,
      "metadata": {
        "id": "QcUISWFi0J05"
      },
      "outputs": [],
      "source": [
        "#num = [0.0,0.05,0.1,0.15,0.2,0.25,0.3,0.35,0.4,0.45,0.5]\n",
        "cutoff_df = pd.DataFrame( columns = ['Probability','Accuracy','Sensitivity','Specificity'])\n",
        "for i in numbers:\n",
        "    cm1 = confusion_matrix(y_val_true, df_val_pred[i])\n",
        "    total1=sum(sum(cm1))\n",
        "    Accuracy = (cm1[0,0]+cm1[1,1])/total1\n",
        "    Specificity = cm1[0,0]/(cm1[0,0]+cm1[0,1])\n",
        "    Sensitivity = cm1[1,1]/(cm1[1,0]+cm1[1,1])\n",
        "    cutoff_df.loc[i] =[ i ,Accuracy,Sensitivity,Specificity]"
      ]
    },
    {
      "cell_type": "code",
      "execution_count": null,
      "metadata": {
        "id": "W31LSzov1tCt"
      },
      "outputs": [],
      "source": [
        "cutoff_df[['Accuracy','Sensitivity','Specificity']].plot()\n",
        "\n",
        "plt.show()"
      ]
    },
    {
      "cell_type": "code",
      "execution_count": null,
      "metadata": {
        "id": "P6CIKT94Jqye"
      },
      "outputs": [],
      "source": [
        "i = 0.025\n",
        "cm1 = confusion_matrix(y_val_true, df_val_pred[i])\n",
        "total1=sum(sum(cm1))\n",
        "Accuracy = (cm1[0,0]+cm1[1,1])/total1\n",
        "Specificity = cm1[0,0]/(cm1[0,0]+cm1[0,1])\n",
        "Sensitivity = cm1[1,1]/(cm1[1,0]+cm1[1,1])"
      ]
    },
    {
      "cell_type": "code",
      "execution_count": null,
      "metadata": {
        "id": "3U2tkFebL_VC"
      },
      "outputs": [],
      "source": [
        "print('Accuracy: ', Accuracy)\n",
        "print('Sensitivity: ', Sensitivity)\n",
        "print('Specificity: ', Specificity)"
      ]
    },
    {
      "cell_type": "markdown",
      "metadata": {
        "id": "eaK4zbtoaAaC"
      },
      "source": [
        "#Confusion Metric on Validation Set"
      ]
    },
    {
      "cell_type": "code",
      "execution_count": null,
      "metadata": {
        "id": "YkPOFLehOmFg"
      },
      "outputs": [],
      "source": [
        "#change melanoma flag back to 4\n",
        "df_val_pred[df_val_pred[i] == 1] = 4\n",
        "#decode one-hot y_val_pred while use cut-off melanoma data\n",
        "condition = df_val_pred[i] == 4\n",
        "y_val_pred2 = np.where(condition, df_val_pred[i], np.argmax(y_val_pred, axis=1))"
      ]
    },
    {
      "cell_type": "code",
      "execution_count": null,
      "metadata": {
        "id": "LOVl6dWlTDLo"
      },
      "outputs": [],
      "source": [
        "print('Accuracy: ',accuracy_score(np.argmax(y_val, axis=1), y_val_pred2))\n",
        "print('Balanced accuracy: ',balanced_accuracy_score(np.argmax(y_val, axis=1), y_val_pred2))"
      ]
    },
    {
      "cell_type": "code",
      "execution_count": null,
      "metadata": {
        "id": "mqvYutTKRhR_"
      },
      "outputs": [],
      "source": [
        "#Get the confusion matrix\n",
        "cf_matrix = confusion_matrix(np.argmax(y_val, axis=1), y_val_pred2)\n",
        "print(cf_matrix)"
      ]
    },
    {
      "cell_type": "code",
      "execution_count": null,
      "metadata": {
        "id": "gVtvW3YeaLlC"
      },
      "outputs": [],
      "source": [
        "ax = sns.heatmap(cf_matrix / cf_matrix.sum(axis=1, keepdims=True), annot=True, \n",
        "            cmap='Blues')\n",
        "\n",
        "ax.set_title('Confusion Matrix \\n');\n",
        "ax.set_xlabel('\\nPredicted')\n",
        "ax.set_ylabel('Actual ');\n",
        "\n",
        "## Ticket labels - List must be in alphabetical order\n",
        "ax.xaxis.set_ticklabels(['AKIEC', 'BCC', 'BKL', 'DF', 'MEL', 'NV', 'VASC'])\n",
        "ax.yaxis.set_ticklabels(['AKIEC', 'BCC', 'BKL', 'DF', 'MEL', 'NV', 'VASC'])\n",
        "\n",
        "plt.rcParams[\"figure.figsize\"] = (15,3)\n",
        "\n",
        "## Display the visualization of the Confusion Matrix.\n",
        "plt.xticks(rotation=45, ha='right')\n",
        "plt.yticks(rotation=0, ha='right')\n",
        "plt.show()"
      ]
    },
    {
      "cell_type": "code",
      "execution_count": null,
      "metadata": {
        "id": "Ey-1yjWGeKs7"
      },
      "outputs": [],
      "source": [
        "# ordered count of rows per unique label\n",
        "#labels_count = df_val['Labels'].value_counts().sort_index()\n",
        "\n",
        "#f = plt.figure(figsize=(15, 6))\n",
        "#s = sns.barplot(x=labels_count.index,y=labels_count.values)\n",
        "#s.set_xticklabels(s.get_xticklabels(), rotation = 30)"
      ]
    },
    {
      "cell_type": "markdown",
      "metadata": {
        "id": "3K908bbiYwbS"
      },
      "source": [
        "#Testing"
      ]
    },
    {
      "cell_type": "code",
      "execution_count": null,
      "metadata": {
        "id": "NeMY2yvMYxsC"
      },
      "outputs": [],
      "source": [
        "dir_test = '/content/drive/MyDrive/PHD/Datasets/isic2018/ISIC2018_Task3_Test_Input/'\n",
        "filepaths = sorted( filter( lambda x: (os.path.isfile(os.path.join(dir_test, x))) and (x.endswith('.jpg')),\n",
        "                        os.listdir(dir_test) ) )"
      ]
    },
    {
      "cell_type": "code",
      "execution_count": null,
      "metadata": {
        "id": "6ic95mefkpG3"
      },
      "outputs": [],
      "source": [
        "df_test = pd.DataFrame(filepaths, columns =['image'])\n",
        "df_test['FilePaths'] = dir_test + df_test['image']\n",
        "#df_test"
      ]
    },
    {
      "cell_type": "code",
      "execution_count": null,
      "metadata": {
        "id": "NBa1TxPuY8ni"
      },
      "outputs": [],
      "source": [
        "df_test['image_px'] = df_test['FilePaths'].map(lambda x: np.asarray(Image.open(x).resize(IMG_SIZE)))"
      ]
    },
    {
      "cell_type": "code",
      "execution_count": null,
      "metadata": {
        "id": "60LYAT7VsNOZ"
      },
      "outputs": [],
      "source": [
        "X_test = np.asarray(df_test['image_px'].tolist())\n",
        "print(np.array(X_test).shape)"
      ]
    },
    {
      "cell_type": "code",
      "execution_count": null,
      "metadata": {
        "id": "cXnnIIwC4cHE"
      },
      "outputs": [],
      "source": [
        "#preprocess\n",
        "X_test = preprocess_image_input(X_test)"
      ]
    },
    {
      "cell_type": "markdown",
      "metadata": {
        "id": "FF7ml90JZ8FK"
      },
      "source": [
        "Calculate y_pred from training and testing for analysis"
      ]
    },
    {
      "cell_type": "code",
      "execution_count": null,
      "metadata": {
        "id": "KeDTXdaMLmyU"
      },
      "outputs": [],
      "source": [
        "#X_test = model.predict(X_test)"
      ]
    },
    {
      "cell_type": "code",
      "execution_count": null,
      "metadata": {
        "id": "dIX0AmEFNv3Y"
      },
      "outputs": [],
      "source": [
        "# predicting\n",
        "#CHANGE THE MODEL IF NECESSARY\n",
        "#X_test2 = model1.predict(X_test)\n",
        "Y_pred2 = model.predict(X_test2)\n",
        "print(\"Y_pred2\", Y_pred2.shape)"
      ]
    },
    {
      "cell_type": "code",
      "execution_count": null,
      "metadata": {
        "id": "7oeArO5CtxGb"
      },
      "outputs": [],
      "source": [
        "df_pred = pd.DataFrame(Y_pred2, columns = ['AKIEC', 'BCC', 'BKL', 'DF', 'MEL', 'NV', 'VASC'])\n",
        "df_pred['image'] = df_test['FilePaths'].map(lambda x: x.replace(dir_test, '').replace('.jpg', ''))\n",
        "df_pred = df_pred[['image', 'MEL', 'NV', 'BCC', 'AKIEC', 'BKL', 'DF', 'VASC']]\n",
        "df_pred.set_index(\"image\", inplace = True)"
      ]
    },
    {
      "cell_type": "code",
      "execution_count": null,
      "metadata": {
        "id": "9ynyd8PjT589"
      },
      "outputs": [],
      "source": [
        "#update MEL data using cut-off value\n",
        "df_pred.MEL[df_pred.MEL > i] = 1"
      ]
    },
    {
      "cell_type": "code",
      "execution_count": null,
      "metadata": {
        "id": "fjRdONoQVMq0"
      },
      "outputs": [],
      "source": [
        "df_pred.loc[df_pred.MEL > i, ['NV', 'BCC', 'AKIEC', 'BKL', 'DF', 'VASC']] = 0"
      ]
    },
    {
      "cell_type": "code",
      "execution_count": null,
      "metadata": {
        "id": "sOnjc3RJ0e4T"
      },
      "outputs": [],
      "source": [
        "df_pred.to_csv('/content/drive/MyDrive/PHD/Datasets/isic2018/response_SMOTE_Attention.csv')"
      ]
    },
    {
      "cell_type": "markdown",
      "metadata": {
        "id": "P0MghVs0tsGw"
      },
      "source": [
        "result: 0.656"
      ]
    },
    {
      "cell_type": "markdown",
      "metadata": {
        "id": "UswA0co2y1wl"
      },
      "source": [
        "#Exp"
      ]
    },
    {
      "cell_type": "code",
      "execution_count": null,
      "metadata": {
        "id": "dnqJYIONy34l"
      },
      "outputs": [],
      "source": [
        "input_tensor = Input(shape=(IMAGE_H, IMAGE_W, 3))\n",
        "base_model = ResNet50(input_shape=(224,224,3), weights='imagenet', include_top=False)\n",
        "x = base_model(input_tensor, training=False)\n",
        "x = Attention(2048,2048,7,8)(x)\n",
        "x = GlobalAveragePooling2D()(x)\n",
        "res50 = Model(inputs=input_tensor, outputs=x)"
      ]
    },
    {
      "cell_type": "code",
      "execution_count": null,
      "metadata": {
        "id": "Kcn8hQg3J8yP"
      },
      "outputs": [],
      "source": [
        "#Train i-last layer\n",
        "# summarize feature map shapes\n",
        "for i in range(len(model.layers)):\n",
        "    layer = model.layers[i]\n",
        "    # summarize output shape\n",
        "    print(i, layer.name, layer.output.shape)"
      ]
    },
    {
      "cell_type": "code",
      "execution_count": null,
      "metadata": {
        "id": "UA7Af2Y73FUv"
      },
      "outputs": [],
      "source": [
        "X_train = res50.predict(X_train)\n",
        "X_val = res50.predict(X_val)\n",
        "print(X_train.shape)\n",
        "print(y_train.shape)\n",
        "print(X_val.shape)\n",
        "print(y_val.shape)\n",
        "print('Counter train data: ', Counter(np.argmax(y_train, axis=1)))\n",
        "print('Counter val data: ', Counter(np.argmax(y_val, axis=1)))"
      ]
    },
    {
      "cell_type": "code",
      "execution_count": null,
      "metadata": {
        "id": "krJiAb1m3QNf"
      },
      "outputs": [],
      "source": [
        "X_train, y_train = SMOTE_Data2(X_train, y_train, True)\n",
        "print(X_train.shape)\n",
        "print(y_train.shape)\n",
        "print(X_val.shape)\n",
        "print(y_val.shape)\n",
        "print('Counter train data: ', Counter(np.argmax(y_train, axis=1)))\n",
        "print('Counter val data: ', Counter(np.argmax(y_val, axis=1)))"
      ]
    },
    {
      "cell_type": "markdown",
      "metadata": {
        "id": "LfcFpsBwM0d4"
      },
      "source": [
        "#Attention"
      ]
    },
    {
      "cell_type": "code",
      "execution_count": null,
      "metadata": {
        "id": "C_s6OIGKM26a",
        "colab": {
          "base_uri": "https://localhost:8080/",
          "height": 398
        },
        "outputId": "371bd24a-4bf9-491a-e0ec-78b7eb06e6d9"
      },
      "outputs": [
        {
          "output_type": "error",
          "ename": "AttributeError",
          "evalue": "ignored",
          "traceback": [
            "\u001b[0;31m---------------------------------------------------------------------------\u001b[0m",
            "\u001b[0;31mAttributeError\u001b[0m                            Traceback (most recent call last)",
            "\u001b[0;32m<ipython-input-3-ff488085aaa5>\u001b[0m in \u001b[0;36m<module>\u001b[0;34m\u001b[0m\n\u001b[0;32m----> 1\u001b[0;31m \u001b[0;32mimport\u001b[0m \u001b[0mtensorflow\u001b[0m \u001b[0;32mas\u001b[0m \u001b[0mtf\u001b[0m\u001b[0;34m\u001b[0m\u001b[0;34m\u001b[0m\u001b[0m\n\u001b[0m\u001b[1;32m      2\u001b[0m \u001b[0;32mimport\u001b[0m \u001b[0mtensorflow\u001b[0m\u001b[0;34m.\u001b[0m\u001b[0mkeras\u001b[0m \u001b[0;32mas\u001b[0m \u001b[0mtk\u001b[0m\u001b[0;34m\u001b[0m\u001b[0;34m\u001b[0m\u001b[0m\n\u001b[1;32m      3\u001b[0m \u001b[0;32mfrom\u001b[0m \u001b[0mtensorflow\u001b[0m\u001b[0;34m.\u001b[0m\u001b[0mkeras\u001b[0m\u001b[0;34m.\u001b[0m\u001b[0mlayers\u001b[0m \u001b[0;32mimport\u001b[0m \u001b[0mConv2D\u001b[0m\u001b[0;34m,\u001b[0m\u001b[0mMaxPooling2D\u001b[0m\u001b[0;34m,\u001b[0m\u001b[0mAveragePooling2D\u001b[0m\u001b[0;34m,\u001b[0m\u001b[0mBatchNormalization\u001b[0m\u001b[0;34m,\u001b[0m\u001b[0mAdd\u001b[0m\u001b[0;34m,\u001b[0m\u001b[0mZeroPadding2D\u001b[0m\u001b[0;34m,\u001b[0m\u001b[0mFlatten\u001b[0m\u001b[0;34m,\u001b[0m\u001b[0mDense\u001b[0m\u001b[0;34m,\u001b[0m\u001b[0mInput\u001b[0m\u001b[0;34m,\u001b[0m\u001b[0mLeakyReLU\u001b[0m\u001b[0;34m,\u001b[0m\u001b[0mSoftmax\u001b[0m\u001b[0;34m,\u001b[0m\u001b[0mReLU\u001b[0m\u001b[0;34m\u001b[0m\u001b[0;34m\u001b[0m\u001b[0m\n\u001b[1;32m      4\u001b[0m \u001b[0;32mfrom\u001b[0m \u001b[0mtensorflow\u001b[0m\u001b[0;34m.\u001b[0m\u001b[0mkeras\u001b[0m\u001b[0;34m.\u001b[0m\u001b[0moptimizers\u001b[0m \u001b[0;32mimport\u001b[0m \u001b[0mAdam\u001b[0m\u001b[0;34m\u001b[0m\u001b[0;34m\u001b[0m\u001b[0m\n\u001b[1;32m      5\u001b[0m \u001b[0;32mfrom\u001b[0m \u001b[0mtensorflow\u001b[0m\u001b[0;34m.\u001b[0m\u001b[0mkeras\u001b[0m\u001b[0;34m.\u001b[0m\u001b[0mmodels\u001b[0m \u001b[0;32mimport\u001b[0m \u001b[0mModel\u001b[0m\u001b[0;34m\u001b[0m\u001b[0;34m\u001b[0m\u001b[0m\n",
            "\u001b[0;32m/usr/local/lib/python3.7/dist-packages/tensorflow/__init__.py\u001b[0m in \u001b[0;36m<module>\u001b[0;34m\u001b[0m\n\u001b[1;32m    471\u001b[0m \u001b[0;32mif\u001b[0m \u001b[0mhasattr\u001b[0m\u001b[0;34m(\u001b[0m\u001b[0m_current_module\u001b[0m\u001b[0;34m,\u001b[0m \u001b[0;34m\"keras\"\u001b[0m\u001b[0;34m)\u001b[0m\u001b[0;34m:\u001b[0m\u001b[0;34m\u001b[0m\u001b[0;34m\u001b[0m\u001b[0m\n\u001b[1;32m    472\u001b[0m   \u001b[0;32mtry\u001b[0m\u001b[0;34m:\u001b[0m\u001b[0;34m\u001b[0m\u001b[0;34m\u001b[0m\u001b[0m\n\u001b[0;32m--> 473\u001b[0;31m     \u001b[0mkeras\u001b[0m\u001b[0;34m.\u001b[0m\u001b[0m_load\u001b[0m\u001b[0;34m(\u001b[0m\u001b[0;34m)\u001b[0m\u001b[0;34m\u001b[0m\u001b[0;34m\u001b[0m\u001b[0m\n\u001b[0m\u001b[1;32m    474\u001b[0m   \u001b[0;32mexcept\u001b[0m \u001b[0mImportError\u001b[0m\u001b[0;34m:\u001b[0m\u001b[0;34m\u001b[0m\u001b[0;34m\u001b[0m\u001b[0m\n\u001b[1;32m    475\u001b[0m     \u001b[0;32mpass\u001b[0m\u001b[0;34m\u001b[0m\u001b[0;34m\u001b[0m\u001b[0m\n",
            "\u001b[0;32m/usr/local/lib/python3.7/dist-packages/tensorflow/python/util/lazy_loader.py\u001b[0m in \u001b[0;36m_load\u001b[0;34m(self)\u001b[0m\n\u001b[1;32m     39\u001b[0m     \u001b[0;34m\"\"\"Load the module and insert it into the parent's globals.\"\"\"\u001b[0m\u001b[0;34m\u001b[0m\u001b[0;34m\u001b[0m\u001b[0m\n\u001b[1;32m     40\u001b[0m     \u001b[0;31m# Import the target module and insert it into the parent's namespace\u001b[0m\u001b[0;34m\u001b[0m\u001b[0;34m\u001b[0m\u001b[0;34m\u001b[0m\u001b[0m\n\u001b[0;32m---> 41\u001b[0;31m     \u001b[0mmodule\u001b[0m \u001b[0;34m=\u001b[0m \u001b[0mimportlib\u001b[0m\u001b[0;34m.\u001b[0m\u001b[0mimport_module\u001b[0m\u001b[0;34m(\u001b[0m\u001b[0mself\u001b[0m\u001b[0;34m.\u001b[0m\u001b[0m__name__\u001b[0m\u001b[0;34m)\u001b[0m\u001b[0;34m\u001b[0m\u001b[0;34m\u001b[0m\u001b[0m\n\u001b[0m\u001b[1;32m     42\u001b[0m     \u001b[0mself\u001b[0m\u001b[0;34m.\u001b[0m\u001b[0m_parent_module_globals\u001b[0m\u001b[0;34m[\u001b[0m\u001b[0mself\u001b[0m\u001b[0;34m.\u001b[0m\u001b[0m_local_name\u001b[0m\u001b[0;34m]\u001b[0m \u001b[0;34m=\u001b[0m \u001b[0mmodule\u001b[0m\u001b[0;34m\u001b[0m\u001b[0;34m\u001b[0m\u001b[0m\n\u001b[1;32m     43\u001b[0m \u001b[0;34m\u001b[0m\u001b[0m\n",
            "\u001b[0;32m/usr/lib/python3.7/importlib/__init__.py\u001b[0m in \u001b[0;36mimport_module\u001b[0;34m(name, package)\u001b[0m\n\u001b[1;32m    125\u001b[0m                 \u001b[0;32mbreak\u001b[0m\u001b[0;34m\u001b[0m\u001b[0;34m\u001b[0m\u001b[0m\n\u001b[1;32m    126\u001b[0m             \u001b[0mlevel\u001b[0m \u001b[0;34m+=\u001b[0m \u001b[0;36m1\u001b[0m\u001b[0;34m\u001b[0m\u001b[0;34m\u001b[0m\u001b[0m\n\u001b[0;32m--> 127\u001b[0;31m     \u001b[0;32mreturn\u001b[0m \u001b[0m_bootstrap\u001b[0m\u001b[0;34m.\u001b[0m\u001b[0m_gcd_import\u001b[0m\u001b[0;34m(\u001b[0m\u001b[0mname\u001b[0m\u001b[0;34m[\u001b[0m\u001b[0mlevel\u001b[0m\u001b[0;34m:\u001b[0m\u001b[0;34m]\u001b[0m\u001b[0;34m,\u001b[0m \u001b[0mpackage\u001b[0m\u001b[0;34m,\u001b[0m \u001b[0mlevel\u001b[0m\u001b[0;34m)\u001b[0m\u001b[0;34m\u001b[0m\u001b[0;34m\u001b[0m\u001b[0m\n\u001b[0m\u001b[1;32m    128\u001b[0m \u001b[0;34m\u001b[0m\u001b[0m\n\u001b[1;32m    129\u001b[0m \u001b[0;34m\u001b[0m\u001b[0m\n",
            "\u001b[0;32m/usr/local/lib/python3.7/dist-packages/keras/__init__.py\u001b[0m in \u001b[0;36m<module>\u001b[0;34m\u001b[0m\n\u001b[1;32m     23\u001b[0m \u001b[0;34m\u001b[0m\u001b[0m\n\u001b[1;32m     24\u001b[0m \u001b[0;31m# See b/110718070#comment18 for more details about this import.\u001b[0m\u001b[0;34m\u001b[0m\u001b[0;34m\u001b[0m\u001b[0;34m\u001b[0m\u001b[0m\n\u001b[0;32m---> 25\u001b[0;31m \u001b[0;32mfrom\u001b[0m \u001b[0mkeras\u001b[0m \u001b[0;32mimport\u001b[0m \u001b[0mmodels\u001b[0m\u001b[0;34m\u001b[0m\u001b[0;34m\u001b[0m\u001b[0m\n\u001b[0m\u001b[1;32m     26\u001b[0m \u001b[0;34m\u001b[0m\u001b[0m\n\u001b[1;32m     27\u001b[0m \u001b[0;32mfrom\u001b[0m \u001b[0mkeras\u001b[0m\u001b[0;34m.\u001b[0m\u001b[0mengine\u001b[0m\u001b[0;34m.\u001b[0m\u001b[0minput_layer\u001b[0m \u001b[0;32mimport\u001b[0m \u001b[0mInput\u001b[0m\u001b[0;34m\u001b[0m\u001b[0;34m\u001b[0m\u001b[0m\n",
            "\u001b[0;32m/usr/local/lib/python3.7/dist-packages/keras/models.py\u001b[0m in \u001b[0;36m<module>\u001b[0;34m\u001b[0m\n\u001b[1;32m     18\u001b[0m \u001b[0;32mimport\u001b[0m \u001b[0mtensorflow\u001b[0m\u001b[0;34m.\u001b[0m\u001b[0mcompat\u001b[0m\u001b[0;34m.\u001b[0m\u001b[0mv2\u001b[0m \u001b[0;32mas\u001b[0m \u001b[0mtf\u001b[0m\u001b[0;34m\u001b[0m\u001b[0;34m\u001b[0m\u001b[0m\n\u001b[1;32m     19\u001b[0m \u001b[0;32mfrom\u001b[0m \u001b[0mkeras\u001b[0m \u001b[0;32mimport\u001b[0m \u001b[0mbackend\u001b[0m\u001b[0;34m\u001b[0m\u001b[0;34m\u001b[0m\u001b[0m\n\u001b[0;32m---> 20\u001b[0;31m \u001b[0;32mfrom\u001b[0m \u001b[0mkeras\u001b[0m \u001b[0;32mimport\u001b[0m \u001b[0mmetrics\u001b[0m \u001b[0;32mas\u001b[0m \u001b[0mmetrics_module\u001b[0m\u001b[0;34m\u001b[0m\u001b[0;34m\u001b[0m\u001b[0m\n\u001b[0m\u001b[1;32m     21\u001b[0m \u001b[0;32mfrom\u001b[0m \u001b[0mkeras\u001b[0m \u001b[0;32mimport\u001b[0m \u001b[0moptimizer_v1\u001b[0m\u001b[0;34m\u001b[0m\u001b[0;34m\u001b[0m\u001b[0m\n\u001b[1;32m     22\u001b[0m \u001b[0;32mfrom\u001b[0m \u001b[0mkeras\u001b[0m\u001b[0;34m.\u001b[0m\u001b[0mengine\u001b[0m \u001b[0;32mimport\u001b[0m \u001b[0mfunctional\u001b[0m\u001b[0;34m\u001b[0m\u001b[0;34m\u001b[0m\u001b[0m\n",
            "\u001b[0;32m/usr/local/lib/python3.7/dist-packages/keras/metrics.py\u001b[0m in \u001b[0;36m<module>\u001b[0;34m\u001b[0m\n\u001b[1;32m     22\u001b[0m \u001b[0;32mimport\u001b[0m \u001b[0mwarnings\u001b[0m\u001b[0;34m\u001b[0m\u001b[0;34m\u001b[0m\u001b[0m\n\u001b[1;32m     23\u001b[0m \u001b[0;34m\u001b[0m\u001b[0m\n\u001b[0;32m---> 24\u001b[0;31m \u001b[0;32mfrom\u001b[0m \u001b[0mkeras\u001b[0m \u001b[0;32mimport\u001b[0m \u001b[0mactivations\u001b[0m\u001b[0;34m\u001b[0m\u001b[0;34m\u001b[0m\u001b[0m\n\u001b[0m\u001b[1;32m     25\u001b[0m \u001b[0;32mfrom\u001b[0m \u001b[0mkeras\u001b[0m \u001b[0;32mimport\u001b[0m \u001b[0mbackend\u001b[0m\u001b[0;34m\u001b[0m\u001b[0;34m\u001b[0m\u001b[0m\n\u001b[1;32m     26\u001b[0m \u001b[0;32mfrom\u001b[0m \u001b[0mkeras\u001b[0m\u001b[0;34m.\u001b[0m\u001b[0mengine\u001b[0m \u001b[0;32mimport\u001b[0m \u001b[0mbase_layer\u001b[0m\u001b[0;34m\u001b[0m\u001b[0;34m\u001b[0m\u001b[0m\n",
            "\u001b[0;32m/usr/local/lib/python3.7/dist-packages/keras/activations.py\u001b[0m in \u001b[0;36m<module>\u001b[0;34m\u001b[0m\n\u001b[1;32m     18\u001b[0m \u001b[0;34m\u001b[0m\u001b[0m\n\u001b[1;32m     19\u001b[0m \u001b[0;32mfrom\u001b[0m \u001b[0mkeras\u001b[0m \u001b[0;32mimport\u001b[0m \u001b[0mbackend\u001b[0m\u001b[0;34m\u001b[0m\u001b[0;34m\u001b[0m\u001b[0m\n\u001b[0;32m---> 20\u001b[0;31m \u001b[0;32mfrom\u001b[0m \u001b[0mkeras\u001b[0m\u001b[0;34m.\u001b[0m\u001b[0mlayers\u001b[0m \u001b[0;32mimport\u001b[0m \u001b[0madvanced_activations\u001b[0m\u001b[0;34m\u001b[0m\u001b[0;34m\u001b[0m\u001b[0m\n\u001b[0m\u001b[1;32m     21\u001b[0m \u001b[0;32mfrom\u001b[0m \u001b[0mkeras\u001b[0m\u001b[0;34m.\u001b[0m\u001b[0mutils\u001b[0m\u001b[0;34m.\u001b[0m\u001b[0mgeneric_utils\u001b[0m \u001b[0;32mimport\u001b[0m \u001b[0mdeserialize_keras_object\u001b[0m\u001b[0;34m\u001b[0m\u001b[0;34m\u001b[0m\u001b[0m\n\u001b[1;32m     22\u001b[0m \u001b[0;32mfrom\u001b[0m \u001b[0mkeras\u001b[0m\u001b[0;34m.\u001b[0m\u001b[0mutils\u001b[0m\u001b[0;34m.\u001b[0m\u001b[0mgeneric_utils\u001b[0m \u001b[0;32mimport\u001b[0m \u001b[0mserialize_keras_object\u001b[0m\u001b[0;34m\u001b[0m\u001b[0;34m\u001b[0m\u001b[0m\n",
            "\u001b[0;32m/usr/local/lib/python3.7/dist-packages/keras/layers/__init__.py\u001b[0m in \u001b[0;36m<module>\u001b[0;34m\u001b[0m\n\u001b[1;32m     25\u001b[0m \u001b[0;32mfrom\u001b[0m \u001b[0mkeras\u001b[0m\u001b[0;34m.\u001b[0m\u001b[0mengine\u001b[0m\u001b[0;34m.\u001b[0m\u001b[0minput_spec\u001b[0m \u001b[0;32mimport\u001b[0m \u001b[0mInputSpec\u001b[0m\u001b[0;34m\u001b[0m\u001b[0;34m\u001b[0m\u001b[0m\n\u001b[1;32m     26\u001b[0m \u001b[0;32mfrom\u001b[0m \u001b[0mkeras\u001b[0m\u001b[0;34m.\u001b[0m\u001b[0mengine\u001b[0m\u001b[0;34m.\u001b[0m\u001b[0mbase_layer\u001b[0m \u001b[0;32mimport\u001b[0m \u001b[0mLayer\u001b[0m\u001b[0;34m\u001b[0m\u001b[0;34m\u001b[0m\u001b[0m\n\u001b[0;32m---> 27\u001b[0;31m \u001b[0;32mfrom\u001b[0m \u001b[0mkeras\u001b[0m\u001b[0;34m.\u001b[0m\u001b[0mengine\u001b[0m\u001b[0;34m.\u001b[0m\u001b[0mbase_preprocessing_layer\u001b[0m \u001b[0;32mimport\u001b[0m \u001b[0mPreprocessingLayer\u001b[0m\u001b[0;34m\u001b[0m\u001b[0;34m\u001b[0m\u001b[0m\n\u001b[0m\u001b[1;32m     28\u001b[0m \u001b[0;34m\u001b[0m\u001b[0m\n\u001b[1;32m     29\u001b[0m \u001b[0;31m# Image preprocessing layers.\u001b[0m\u001b[0;34m\u001b[0m\u001b[0;34m\u001b[0m\u001b[0;34m\u001b[0m\u001b[0m\n",
            "\u001b[0;32m/usr/local/lib/python3.7/dist-packages/keras/engine/base_preprocessing_layer.py\u001b[0m in \u001b[0;36m<module>\u001b[0;34m\u001b[0m\n\u001b[1;32m     17\u001b[0m \u001b[0;32mimport\u001b[0m \u001b[0mabc\u001b[0m\u001b[0;34m\u001b[0m\u001b[0;34m\u001b[0m\u001b[0m\n\u001b[1;32m     18\u001b[0m \u001b[0;34m\u001b[0m\u001b[0m\n\u001b[0;32m---> 19\u001b[0;31m \u001b[0;32mfrom\u001b[0m \u001b[0mkeras\u001b[0m\u001b[0;34m.\u001b[0m\u001b[0mengine\u001b[0m \u001b[0;32mimport\u001b[0m \u001b[0mdata_adapter\u001b[0m\u001b[0;34m\u001b[0m\u001b[0;34m\u001b[0m\u001b[0m\n\u001b[0m\u001b[1;32m     20\u001b[0m \u001b[0;32mfrom\u001b[0m \u001b[0mkeras\u001b[0m\u001b[0;34m.\u001b[0m\u001b[0mengine\u001b[0m\u001b[0;34m.\u001b[0m\u001b[0mbase_layer\u001b[0m \u001b[0;32mimport\u001b[0m \u001b[0mLayer\u001b[0m\u001b[0;34m\u001b[0m\u001b[0;34m\u001b[0m\u001b[0m\n\u001b[1;32m     21\u001b[0m \u001b[0;32mfrom\u001b[0m \u001b[0mkeras\u001b[0m\u001b[0;34m.\u001b[0m\u001b[0mutils\u001b[0m \u001b[0;32mimport\u001b[0m \u001b[0mversion_utils\u001b[0m\u001b[0;34m\u001b[0m\u001b[0;34m\u001b[0m\u001b[0m\n",
            "\u001b[0;32m/usr/local/lib/python3.7/dist-packages/keras/engine/data_adapter.py\u001b[0m in \u001b[0;36m<module>\u001b[0;34m\u001b[0m\n\u001b[1;32m     36\u001b[0m \u001b[0;34m\u001b[0m\u001b[0m\n\u001b[1;32m     37\u001b[0m \u001b[0;32mtry\u001b[0m\u001b[0;34m:\u001b[0m\u001b[0;34m\u001b[0m\u001b[0;34m\u001b[0m\u001b[0m\n\u001b[0;32m---> 38\u001b[0;31m   \u001b[0;32mimport\u001b[0m \u001b[0mpandas\u001b[0m \u001b[0;32mas\u001b[0m \u001b[0mpd\u001b[0m  \u001b[0;31m# pylint: disable=g-import-not-at-top\u001b[0m\u001b[0;34m\u001b[0m\u001b[0;34m\u001b[0m\u001b[0m\n\u001b[0m\u001b[1;32m     39\u001b[0m \u001b[0;32mexcept\u001b[0m \u001b[0mImportError\u001b[0m\u001b[0;34m:\u001b[0m\u001b[0;34m\u001b[0m\u001b[0;34m\u001b[0m\u001b[0m\n\u001b[1;32m     40\u001b[0m   \u001b[0mpd\u001b[0m \u001b[0;34m=\u001b[0m \u001b[0;32mNone\u001b[0m\u001b[0;34m\u001b[0m\u001b[0;34m\u001b[0m\u001b[0m\n",
            "\u001b[0;32m/usr/local/lib/python3.7/dist-packages/pandas/__init__.py\u001b[0m in \u001b[0;36m<module>\u001b[0;34m\u001b[0m\n\u001b[1;32m    177\u001b[0m \u001b[0;34m\u001b[0m\u001b[0m\n\u001b[1;32m    178\u001b[0m \u001b[0;32mfrom\u001b[0m \u001b[0mpandas\u001b[0m\u001b[0;34m.\u001b[0m\u001b[0mutil\u001b[0m\u001b[0;34m.\u001b[0m\u001b[0m_tester\u001b[0m \u001b[0;32mimport\u001b[0m \u001b[0mtest\u001b[0m\u001b[0;34m\u001b[0m\u001b[0;34m\u001b[0m\u001b[0m\n\u001b[0;32m--> 179\u001b[0;31m \u001b[0;32mimport\u001b[0m \u001b[0mpandas\u001b[0m\u001b[0;34m.\u001b[0m\u001b[0mtesting\u001b[0m\u001b[0;34m\u001b[0m\u001b[0;34m\u001b[0m\u001b[0m\n\u001b[0m\u001b[1;32m    180\u001b[0m \u001b[0;32mimport\u001b[0m \u001b[0mpandas\u001b[0m\u001b[0;34m.\u001b[0m\u001b[0marrays\u001b[0m\u001b[0;34m\u001b[0m\u001b[0;34m\u001b[0m\u001b[0m\n\u001b[1;32m    181\u001b[0m \u001b[0;34m\u001b[0m\u001b[0m\n",
            "\u001b[0;32m/usr/local/lib/python3.7/dist-packages/pandas/testing.py\u001b[0m in \u001b[0;36m<module>\u001b[0;34m\u001b[0m\n\u001b[1;32m      4\u001b[0m \u001b[0;34m\u001b[0m\u001b[0m\n\u001b[1;32m      5\u001b[0m \u001b[0;34m\u001b[0m\u001b[0m\n\u001b[0;32m----> 6\u001b[0;31m from pandas._testing import (\n\u001b[0m\u001b[1;32m      7\u001b[0m     \u001b[0massert_extension_array_equal\u001b[0m\u001b[0;34m,\u001b[0m\u001b[0;34m\u001b[0m\u001b[0;34m\u001b[0m\u001b[0m\n\u001b[1;32m      8\u001b[0m     \u001b[0massert_frame_equal\u001b[0m\u001b[0;34m,\u001b[0m\u001b[0;34m\u001b[0m\u001b[0;34m\u001b[0m\u001b[0m\n",
            "\u001b[0;32m/usr/local/lib/python3.7/dist-packages/pandas/_testing/__init__.py\u001b[0m in \u001b[0;36m<module>\u001b[0;34m\u001b[0m\n\u001b[1;32m    946\u001b[0m \u001b[0;34m\u001b[0m\u001b[0m\n\u001b[1;32m    947\u001b[0m \u001b[0;34m\u001b[0m\u001b[0m\n\u001b[0;32m--> 948\u001b[0;31m \u001b[0mcython_table\u001b[0m \u001b[0;34m=\u001b[0m \u001b[0mpd\u001b[0m\u001b[0;34m.\u001b[0m\u001b[0mcore\u001b[0m\u001b[0;34m.\u001b[0m\u001b[0mcommon\u001b[0m\u001b[0;34m.\u001b[0m\u001b[0m_cython_table\u001b[0m\u001b[0;34m.\u001b[0m\u001b[0mitems\u001b[0m\u001b[0;34m(\u001b[0m\u001b[0;34m)\u001b[0m\u001b[0;34m\u001b[0m\u001b[0;34m\u001b[0m\u001b[0m\n\u001b[0m\u001b[1;32m    949\u001b[0m \u001b[0;34m\u001b[0m\u001b[0m\n\u001b[1;32m    950\u001b[0m \u001b[0;34m\u001b[0m\u001b[0m\n",
            "\u001b[0;31mAttributeError\u001b[0m: module 'pandas' has no attribute 'core'"
          ]
        }
      ],
      "source": [
        "import tensorflow as tf\n",
        "import tensorflow.keras as tk\n",
        "from tensorflow.keras.layers import Conv2D,MaxPooling2D,AveragePooling2D,BatchNormalization,Add,ZeroPadding2D,Flatten,Dense,Input,LeakyReLU,Softmax,ReLU\n",
        "from tensorflow.keras.optimizers import Adam\n",
        "from tensorflow.keras.models import Model\n",
        "import numpy as np\n",
        "import pickle\n",
        "import numpy as np\n",
        "from PIL import Image\n",
        "\n",
        "class Attention(tk.layers.Layer):\n",
        "    \n",
        "    def __init__(self,input_channels,output_channel,kernel_size,groups):\n",
        "        super().__init__()\n",
        "        self.input_channels = input_channels\n",
        "        self.output_channel = output_channel    \n",
        "        self.kernel_size = kernel_size\n",
        "        self.stride = 1\n",
        "        self.groups = groups\n",
        "\n",
        "        assert output_channel % groups == 0\n",
        "        \n",
        "        self.rel_h = tk.backend.variable(lambda : tk.backend.truncated_normal((1,1,kernel_size,1,output_channel//2),stddev = 0.1)) \n",
        "        #output_channels//2 is the number of channels on which the relative position will be considered,1 denotes the number of those filters and the one after that too and (kernel_size,1) denotes the size of that filter\n",
        "        self.rel_w = tk.backend.variable(lambda : tk.backend.truncated_normal((1,1,1,kernel_size,output_channel//2),stddev = 0.1)) \n",
        "\n",
        "        self.key_weights = Conv2D(self.output_channel,kernel_size = 1,strides = self.stride)\n",
        "        self.query_weights = Conv2D(self.output_channel,kernel_size = 1,strides = self.stride)\n",
        "        self.value_weights = Conv2D(self.output_channel,kernel_size = 1,strides = self.stride)\n",
        "\n",
        "    def call(self,x):\n",
        "        \n",
        "        batch,height,width,channels = x.shape\n",
        "        x_padded = ZeroPadding2D(padding=(self.kernel_size//2,self.kernel_size//2))(x)\n",
        "        query = self.query_weights(x)\n",
        "        value = self.value_weights(x_padded)\n",
        "        key = self.key_weights(x_padded)\n",
        "        #key,query and value will have the shape of (batch,height,width,depth)\n",
        "        keys = tf.image.extract_patches(images = key,sizes = [1,self.kernel_size,self.kernel_size,1],strides = [1,self.stride,self.stride,1],rates = [1,1,1,1], padding = \"VALID\")\n",
        "        value = tf.image.extract_patches(images = value,sizes = [1,self.kernel_size,self.kernel_size,1],strides = [1,self.stride,self.stride,1],rates = [1,1,1,1], padding = \"VALID\")\n",
        "        no_of_kernels = key.shape[-2] - self.kernel_size + 1\n",
        "        keys = tf.reshape(keys,shape = (-1,no_of_kernels, no_of_kernels,self.kernel_size,self.kernel_size,self.output_channel))\n",
        "        key_split_h,key_split_w = tf.split(keys,num_or_size_splits = 2,axis = -1)\n",
        "        key_with_rel = tk.layers.concatenate([key_split_h + self.rel_h,key_split_w + self.rel_w],axis = -1) \n",
        "        \n",
        "        #reshaping the query and key\n",
        "        key_with_rel = tf.reshape(key_with_rel,(-1,self.groups,no_of_kernels,no_of_kernels,self.kernel_size*self.kernel_size,self.output_channel//self.groups))\n",
        "        query  = tf.reshape(query,(-1,self.groups,no_of_kernels,no_of_kernels,1,self.output_channel//self.groups))        \n",
        "        value = tf.reshape(value,(-1,self.groups,no_of_kernels,no_of_kernels,self.kernel_size*self.kernel_size,self.output_channel//self.groups))\n",
        "        \n",
        "        #multiplication  of key and query\n",
        "        #assert key_with_rel.shape == query.shape        \n",
        "        key_prod_query = query*key_with_rel\n",
        "        \n",
        "        # Now the function is passed through the softmax and is multiplied with the values\n",
        "        s = Softmax(axis = -2)(key_prod_query)\n",
        "        y = tf.einsum('bnchwk,bnchwk->bnchk',s,value)\n",
        "        y = tf.reshape(y,(-1,height,width,self.output_channel))\n",
        "        return y\n",
        "\n",
        "    def get_config(self):\n",
        "        config = super().get_config().copy()\n",
        "        config.update({\n",
        "            \"input_channels\": self.input_channels, \n",
        "            \"output_channel\": self.output_channel, \n",
        "            \"kernel_size\": self.kernel_size, \n",
        "            \"stride\": self.stride, \n",
        "            \"groups\": self.groups, \n",
        "            \"rel_h\": self.rel_h, \n",
        "            \"rel_w\": self.rel_w, \n",
        "            \"key_weights\": self.key_weights, \n",
        "            \"query_weights\": self.query_weights, \n",
        "            \"value_weights\": self.value_weights\n",
        "        })\n",
        "        return config\n"
      ]
    },
    {
      "cell_type": "markdown",
      "metadata": {
        "id": "kE8Ziq-BlEP4"
      },
      "source": [
        "#Oversampling on feature map level"
      ]
    },
    {
      "cell_type": "code",
      "execution_count": null,
      "metadata": {
        "id": "PtgmvyhCndpB"
      },
      "outputs": [],
      "source": [
        "i = 176"
      ]
    },
    {
      "cell_type": "code",
      "execution_count": null,
      "metadata": {
        "id": "Lm05Zet_B5am"
      },
      "outputs": [],
      "source": [
        "for i in range(len(model.layers)):\n",
        "  layer = model.layers[i]\n",
        "  print(i, layer.name, layer.output_shape, layer.trainable)"
      ]
    },
    {
      "cell_type": "code",
      "execution_count": null,
      "metadata": {
        "id": "KqeSic6NmLsR"
      },
      "outputs": [],
      "source": [
        "# redefine model to output right after the first hidden layer\n",
        "model1 = Model(inputs=model.inputs, outputs=model.layers[i].output)"
      ]
    },
    {
      "cell_type": "code",
      "execution_count": null,
      "metadata": {
        "id": "ZVHYG9Rwm28i"
      },
      "outputs": [],
      "source": [
        "# get feature map for first hidden layer\n",
        "X_train_fm = model1.predict(X_train)\n",
        "X_val_fm = model1.predict(X_val)"
      ]
    },
    {
      "cell_type": "code",
      "execution_count": null,
      "metadata": {
        "id": "VNozN8-wDUNL"
      },
      "outputs": [],
      "source": [
        "X_train_fm.shape"
      ]
    },
    {
      "cell_type": "code",
      "execution_count": null,
      "metadata": {
        "id": "19hK7aQNeAQo"
      },
      "outputs": [],
      "source": [
        "X_train_fm_ov, y_train_ov = SMOTE_Data2(X_train_fm, y_train, True, 5)\n",
        "print(X_train_fm_ov.shape)\n",
        "print(y_train_ov.shape)\n",
        "print(X_val.shape)\n",
        "print(y_val.shape)\n",
        "print('Counter train data: ', Counter(np.argmax(y_train_ov, axis=1)))\n",
        "print('Counter val data: ', Counter(np.argmax(y_val, axis=1)))"
      ]
    },
    {
      "cell_type": "code",
      "execution_count": null,
      "metadata": {
        "id": "5qP4iyYcnAYa"
      },
      "outputs": [],
      "source": [
        "model2 = Model(inputs=model.layers[i].output, outputs=model.layers[len(model.layers)-1].output)"
      ]
    },
    {
      "cell_type": "code",
      "execution_count": null,
      "metadata": {
        "id": "Pzdjs0WbvDB0"
      },
      "outputs": [],
      "source": [
        "best_model_fpath = '/content/drive/MyDrive/PHD/Model/Feature-Map-Ov/best_model_no.h5'\n",
        "last_model_fpath = '/content/drive/MyDrive/PHD/Model/Feature-Map-Ov/last_model_no.h5'\n",
        "model2.compile(optimizer = opt_SGD , loss = \"categorical_crossentropy\", metrics=['accuracy', balanced_acc])\n",
        "hst = model2.fit(X_train_fm_ov, y_train_ov, epochs=EPOCHS, batch_size=BATCH_SIZE, validation_data=(X_val_fm, y_val), verbose=1,\n",
        "                    steps_per_epoch=X_train_fm_ov.shape[0] // BATCH_SIZE, \n",
        "                    callbacks=[learning_rate_reduction,early_stopping_monitor])"
      ]
    },
    {
      "cell_type": "code",
      "execution_count": null,
      "metadata": {
        "id": "8XhlbWn--8Or"
      },
      "outputs": [],
      "source": [
        "# summarize history for accuracy\n",
        "plt.plot(hst.history['accuracy'])\n",
        "plt.plot(hst.history['balanced_acc'])\n",
        "plt.plot(hst.history['val_accuracy'])\n",
        "plt.plot(hst.history['val_balanced_acc'])\n",
        "plt.title('Model accuracy')\n",
        "plt.ylabel('Performance')\n",
        "plt.xlabel('epoch')\n",
        "plt.legend(['train accuracy', 'train balanced acc.', 'val. accuracy', 'val. balanced acc.'], loc='lower right')\n",
        "plt.show()"
      ]
    },
    {
      "cell_type": "code",
      "execution_count": null,
      "metadata": {
        "id": "IW-_U6vFpIci"
      },
      "outputs": [],
      "source": [
        "# get feature map for first hidden layer\n",
        "y_train_pred = model2.predict(X_train_fm_ov)\n",
        "y_val_pred = model2.predict(X_val_fm)"
      ]
    },
    {
      "cell_type": "code",
      "execution_count": null,
      "metadata": {
        "id": "OLop0YK-ZK40"
      },
      "outputs": [],
      "source": [
        "print('accuracy on training',accuracy_score(np.argmax(y_train_ov, axis=1), np.argmax(y_train_pred, axis=1)))\n",
        "print('balanced accuracy on training',balanced_accuracy_score(np.argmax(y_train_ov, axis=1), np.argmax(y_train_pred, axis=1)))\n",
        "print('accuracy on validation',accuracy_score(np.argmax(y_val, axis=1), np.argmax(y_val_pred, axis=1)))\n",
        "print('balanced accuracy on validation',balanced_accuracy_score(np.argmax(y_val, axis=1), np.argmax(y_val_pred, axis=1)))\n",
        "print('Score on val data: ',precision_recall_fscore_support(np.argmax(y_val, axis=1), np.argmax(y_val_pred, axis=1), average='macro'))"
      ]
    },
    {
      "cell_type": "markdown",
      "metadata": {
        "id": "RcRGeofw-8tK"
      },
      "source": [
        "#Load ISIC 2018 Challange Data"
      ]
    },
    {
      "cell_type": "code",
      "execution_count": 7,
      "metadata": {
        "id": "l3P7IjyLuZGY"
      },
      "outputs": [],
      "source": [
        "X_train, y_train, X_val, y_val = load_isic2018_dataset(train_under_frac = 0.7)"
      ]
    },
    {
      "cell_type": "code",
      "execution_count": null,
      "metadata": {
        "id": "2IncA-_o_n5w"
      },
      "outputs": [],
      "source": [
        "# ordered count of rows per unique label\n",
        "labels_count = y_train.value_counts(ascending=True)\n",
        "\n",
        "f = plt.figure(figsize=(15, 6))\n",
        "s = sns.barplot(x=labels_count.index,y=labels_count.values)\n",
        "s.set_xticklabels(s.get_xticklabels(), rotation = 30)"
      ]
    },
    {
      "cell_type": "markdown",
      "metadata": {
        "id": "AnKMKSb4Bkym"
      },
      "source": [
        "Plot 3 images per label"
      ]
    },
    {
      "cell_type": "code",
      "execution_count": null,
      "metadata": {
        "id": "jdnVuqbFBW3K"
      },
      "outputs": [],
      "source": [
        "def plot_images_per_label(df, label, cols: int, size: tuple):\n",
        "    fig, axs = plt.subplots(nrows=1, ncols=cols, figsize=size)\n",
        "\n",
        "    cntMax = cols\n",
        "    cntCur = 0\n",
        "    for index, row in df.iterrows():\n",
        "        if(y_train == label and cntCur < cntMax):\n",
        "            axs[cntCur].imshow(plt.imread(df.FilePaths[index]))\n",
        "            axs[cntCur].set_title(df.Labels[index])\n",
        "\n",
        "            cntCur += 1\n",
        "        else:\n",
        "            if(cntCur >= cntMax):\n",
        "                break\n",
        "    \n",
        "    plt.tight_layout()\n",
        "    plt.show()\n",
        "\n",
        "\n",
        "# unique labels\n",
        "labels = sorted(df1['y_train'].unique())\n",
        "for label in range(7):\n",
        "    plot_images_per_label(df1, label, 3, (12,9))"
      ]
    },
    {
      "cell_type": "code",
      "execution_count": null,
      "metadata": {
        "id": "asV1O58Lrq-R"
      },
      "outputs": [],
      "source": [
        "from PIL import Image\n",
        "img = Image.fromarray(X_train[0], 'RGB')\n",
        "display(img)"
      ]
    },
    {
      "cell_type": "markdown",
      "metadata": {
        "id": "qRKKrNacAZtl"
      },
      "source": [
        "Drop duplicate images"
      ]
    },
    {
      "cell_type": "code",
      "execution_count": null,
      "metadata": {
        "id": "ERwfyPDHP-zC"
      },
      "outputs": [],
      "source": [
        "#df_group = pd.read_csv('/content/drive/MyDrive/PHD/Datasets/isic2018/ISIC2018_Task3_Training_LesionGroupings.csv') \n",
        "#df_train = df_train.set_index('image').join(df_group.set_index('image'))\n",
        "#df_train = df_train.drop_duplicates(subset=['lesion_id'])"
      ]
    },
    {
      "cell_type": "markdown",
      "metadata": {
        "id": "cNBXx28B9yGu"
      },
      "source": [
        "#DeepSMOTE Oversampling"
      ]
    },
    {
      "cell_type": "code",
      "execution_count": null,
      "metadata": {
        "id": "YmX_Uqbmj-tN"
      },
      "outputs": [],
      "source": [
        "from numpy import moveaxis\n",
        "from sklearn.neighbors import NearestNeighbors\n",
        "import torch\n",
        "import torch.nn as nn\n",
        "\n",
        "max_el = np.inf\n",
        "\n",
        "args = {}\n",
        "args['dim_h'] = 64         # factor controlling size of hidden layers\n",
        "args['n_channel'] = 3#1    # number of channels in the input data \n",
        "args['n_z'] = 600 #300     # number of dimensions in latent space. \n",
        "args['sigma'] = 1.0        # variance in n_z\n",
        "args['lambda'] = 0.01      # hyper param for weight of discriminator loss\n",
        "args['lr'] = 0.0002        # learning rate for Adam optimizer .000\n",
        "args['epochs'] = 300       # how many epochs to run for\n",
        "args['batch_size'] = 100   # batch size for SGD\n",
        "args['save'] = True        # save weights at each epoch of training if True\n",
        "args['train'] = True       # train networks if True, else load networks from\n",
        "args['patience'] = 20"
      ]
    },
    {
      "cell_type": "code",
      "execution_count": null,
      "metadata": {
        "id": "NydOdPMajEfT"
      },
      "outputs": [],
      "source": [
        "class Encoder(nn.Module):\n",
        "    def __init__(self, args):\n",
        "        super(Encoder, self).__init__()\n",
        "\n",
        "        self.n_channel = args['n_channel']\n",
        "        self.dim_h = args['dim_h']\n",
        "        self.n_z = args['n_z']\n",
        "        \n",
        "        # convolutional filters, work excellent with image data\n",
        "        # [(W−K+2P)/S]+1\n",
        "        self.conv = nn.Sequential(\n",
        "            nn.AvgPool2d(7, stride=7),\n",
        "            nn.Conv2d(self.n_channel, self.dim_h, 4, 2, 1, bias=False),# 16\n",
        "            nn.LeakyReLU(0.2, inplace=True),\n",
        "            nn.Conv2d(self.dim_h, self.dim_h * 2, 4, 2, 1, bias=False), # 8\n",
        "            nn.BatchNorm2d(self.dim_h * 2),\n",
        "            nn.LeakyReLU(0.2, inplace=True),\n",
        "            nn.Conv2d(self.dim_h * 2, self.dim_h * 4, 4, 2, 1, bias=False),# 4\n",
        "            nn.BatchNorm2d(self.dim_h * 4),\n",
        "            nn.LeakyReLU(0.2, inplace=True),\n",
        "            nn.Conv2d(self.dim_h * 4, self.dim_h * 8, 4, 2, 0, bias=False),#14\n",
        "            nn.BatchNorm2d(self.dim_h * 8),\n",
        "            nn.LeakyReLU(0.2, inplace=True))\n",
        "        self.fc = nn.Linear(self.dim_h * (2 ** 3), self.n_z)\n",
        "\n",
        "    def forward(self, x):\n",
        "        x = self.conv(x)\n",
        "        \n",
        "        x = x.squeeze()\n",
        "        x = self.fc(x)\n",
        "        return x\n",
        "\n",
        "\n",
        "class Decoder(nn.Module):\n",
        "    def __init__(self, args):\n",
        "        super(Decoder, self).__init__()\n",
        "\n",
        "        self.n_channel = args['n_channel']\n",
        "        self.dim_h = args['dim_h']\n",
        "        self.n_z = args['n_z']\n",
        "\n",
        "        # first layer is fully connected\n",
        "        self.fc = nn.Sequential(\n",
        "            nn.Linear(self.n_z, self.dim_h * 2**3 * 7 * 7),\n",
        "            nn.ReLU())\n",
        "\n",
        "        # deconvolutional filters, essentially inverse of convolutional filters\n",
        "        # H_out ​= (H_in​−1)*stride[0] − 2×padding[0] + dilation[0]×(kernel_size[0]−1) + output_padding[0] + 1\n",
        "        self.deconv = nn.Sequential(\n",
        "            nn.ConvTranspose2d(self.dim_h * 8, self.dim_h * 4, 4), #10\n",
        "            nn.BatchNorm2d(self.dim_h * 4),\n",
        "            nn.ReLU(True),\n",
        "            nn.ConvTranspose2d(self.dim_h * 4, self.dim_h * 2, 4), #13\n",
        "            nn.BatchNorm2d(self.dim_h * 2),\n",
        "            nn.ReLU(True),\n",
        "            nn.ConvTranspose2d(self.dim_h * 2, self.dim_h, 4),# 16\n",
        "            nn.BatchNorm2d(self.dim_h),\n",
        "            nn.ReLU(True),\n",
        "            nn.ConvTranspose2d(self.dim_h, 3, 4, 2, 1),# 32\n",
        "            nn.UpsamplingBilinear2d(scale_factor=7),\n",
        "            nn.Tanh())\n",
        "\n",
        "    def forward(self, x):\n",
        "        x = self.fc(x)\n",
        "        x = x.view(-1, self.dim_h * 2**3, 7, 7)\n",
        "        x = self.deconv(x)\n",
        "        return x\n",
        "\n",
        "##############################################################################\n",
        "\"\"\"set models, loss functions\"\"\"\n",
        "# control which parameters are frozen / free for optimization\n",
        "def free_params(module: nn.Module):\n",
        "    for p in module.parameters():\n",
        "        p.requires_grad = True\n",
        "\n",
        "def frozen_params(module: nn.Module):\n",
        "    for p in module.parameters():\n",
        "        p.requires_grad = False\n",
        "\n",
        "def biased_get_class(X, y, c):\n",
        "    \n",
        "    xbeg = X[y == c]\n",
        "    ybeg = y[y == c]\n",
        "    \n",
        "    return xbeg, ybeg\n",
        "    #return xclass, yclass\n",
        "\n",
        "def G_SM(X, y,n_to_sample,cl):\n",
        "    n_neigh = 5\n",
        "    nn = NearestNeighbors(n_neighbors=n_neigh, n_jobs=1)\n",
        "    nn.fit(X)\n",
        "    dist, ind = nn.kneighbors(X)\n",
        "\n",
        "    # generating samples\n",
        "    base_indices = np.random.choice(list(range(len(X))),n_to_sample)\n",
        "    neighbor_indices = np.random.choice(list(range(1, n_neigh)),n_to_sample)\n",
        "\n",
        "    X_base = X[base_indices]\n",
        "    X_neighbor = X[ind[base_indices, neighbor_indices]]\n",
        "\n",
        "    samples = X_base + np.multiply(np.random.rand(n_to_sample,1),\n",
        "            X_neighbor - X_base)\n",
        "\n",
        "    #use 10 as label because 0 to 9 real classes and 1 fake/smoted = 10\n",
        "    return samples, [cl]*n_to_sample\n",
        "\n",
        "def DeepSMOTE_train(X_train, y_train, one_hot = False):\n",
        "  from torch.utils.data import TensorDataset\n",
        "  import os\n",
        "\n",
        "  max_el = np.max(X_train)\n",
        "  X_train = X_train / max_el\n",
        "  X_train = moveaxis(X_train, 3, 1)\n",
        "  if one_hot:\n",
        "    y_train = np.argmax(y_train, axis=1)\n",
        "  #X_train = X_train.astype('float32') / 255.\n",
        "  \n",
        "  batch_size = args['batch_size']\n",
        "  patience = args['patience']\n",
        "  encoder = Encoder(args)\n",
        "  decoder = Decoder(args)\n",
        "\n",
        "  device = 'cuda' if torch.cuda.is_available() else 'cpu'\n",
        "  print(device)\n",
        "  decoder = decoder.to(device)\n",
        "  encoder = encoder.to(device)\n",
        "\n",
        "  train_on_gpu = torch.cuda.is_available()\n",
        "\n",
        "  #decoder loss function\n",
        "  criterion = nn.MSELoss()\n",
        "  criterion = criterion.to(device)\n",
        "\n",
        "  num_workers = 0\n",
        "\n",
        "  #torch.Tensor returns float so if want long then use torch.tensor\n",
        "  tensor_x = torch.from_numpy(X_train.copy())#torch.Tensor(X_train)\n",
        "  tensor_y = torch.tensor(y_train,dtype=torch.long)\n",
        "  mnist_bal = TensorDataset(tensor_x,tensor_y) \n",
        "  train_loader = torch.utils.data.DataLoader(mnist_bal, \n",
        "      batch_size=batch_size,shuffle=True,num_workers=num_workers)\n",
        "\n",
        "  best_loss = np.inf\n",
        "\n",
        "  enc_optim = torch.optim.Adam(encoder.parameters(), lr = args['lr'])\n",
        "  dec_optim = torch.optim.Adam(decoder.parameters(), lr = args['lr'])\n",
        "\n",
        "  for epoch in range(args['epochs']):\n",
        "      train_loss = 0.0\n",
        "      tmse_loss = 0.0\n",
        "      tdiscr_loss = 0.0\n",
        "      # train for one epoch -- set nets to train mode\n",
        "      encoder.train()\n",
        "      decoder.train()\n",
        "  \n",
        "      for images,labs in train_loader:\n",
        "      \n",
        "          # zero gradients for each batch\n",
        "          encoder.zero_grad()\n",
        "          decoder.zero_grad()\n",
        "          images, labs = images.to(device), labs.to(device)\n",
        "          labsn = labs.detach().cpu().numpy()\n",
        "#            print('images shape', images.shape)\n",
        "          # run images\n",
        "          z_hat = encoder(images)\n",
        "#            print('images shape after encoding', z_hat.shape)\n",
        "      \n",
        "          x_hat = decoder(z_hat) #decoder outputs tanh\n",
        "#            print('images shape after decoding', x_hat.shape)\n",
        "          mse = criterion(x_hat,images)\n",
        "                  \n",
        "          resx = []\n",
        "          resy = []\n",
        "      \n",
        "          tc = np.random.choice(num_classes,1)\n",
        "          #tc = 9\n",
        "          xbeg = X_train[y_train == tc]\n",
        "          ybeg = y_train[y_train == tc] \n",
        "          xlen = len(xbeg)\n",
        "          nsamp = min(xlen, 100)\n",
        "          ind = np.random.choice(list(range(len(xbeg))),nsamp,replace=False)\n",
        "          xclass = xbeg[ind]\n",
        "          yclass = ybeg[ind]\n",
        "      \n",
        "          xclen = len(xclass)\n",
        "          xcminus = np.arange(1,xclen)\n",
        "          \n",
        "          xcplus = np.append(xcminus,0)\n",
        "          xcnew = (xclass[[xcplus],:])\n",
        "          xcnew = xcnew.reshape(xcnew.shape[1],xcnew.shape[2],xcnew.shape[3],xcnew.shape[4])\n",
        "      \n",
        "          xcnew = torch.Tensor(xcnew)\n",
        "          xcnew = xcnew.to(device)\n",
        "      \n",
        "          #encode xclass to feature space\n",
        "          xclass = torch.Tensor(xclass)\n",
        "          xclass = xclass.to(device)\n",
        "          xclass = encoder(xclass)\n",
        "      \n",
        "          xclass = xclass.detach().cpu().numpy()\n",
        "      \n",
        "          xc_enc = (xclass[[xcplus],:])\n",
        "          xc_enc = np.squeeze(xc_enc)\n",
        "      \n",
        "          xc_enc = torch.Tensor(xc_enc)\n",
        "          xc_enc = xc_enc.to(device)\n",
        "          \n",
        "          ximg = decoder(xc_enc)\n",
        "          \n",
        "          mse2 = criterion(ximg,xcnew)\n",
        "      \n",
        "          comb_loss = mse2 + mse\n",
        "          comb_loss.backward()\n",
        "      \n",
        "          enc_optim.step()\n",
        "          dec_optim.step()\n",
        "      \n",
        "          train_loss += comb_loss.item()*images.size(0)\n",
        "          tmse_loss += mse.item()*images.size(0)\n",
        "          tdiscr_loss += mse2.item()*images.size(0)\n",
        "\n",
        "      train_loss = train_loss/len(train_loader)\n",
        "      tmse_loss = tmse_loss/len(train_loader)\n",
        "      tdiscr_loss = tdiscr_loss/len(train_loader)\n",
        "      print('Epoch: {} \\tTrain Loss: {:.6f} \\tmse loss: {:.6f} \\tmse2 loss: {:.6f}'.format(epoch,\n",
        "              train_loss,tmse_loss,tdiscr_loss))\n",
        "      \n",
        "  \n",
        "  \n",
        "      #store the best encoder and decoder models\n",
        "      #here, /crs5 is a reference to 5 way cross validation, but is not\n",
        "      #necessary for illustration purposes\n",
        "      if train_loss < best_loss:\n",
        "          print('Saving..')\n",
        "          patience = args['patience']\n",
        "          path_enc = '/content/drive/MyDrive/PHD/Model/DeepSMOTE/32/bst_enc.pth'\n",
        "          path_dec = '/content/drive/MyDrive/PHD/Model/DeepSMOTE/32/bst_dec.pth'\n",
        "        \n",
        "          torch.save(encoder.state_dict(), path_enc)\n",
        "          torch.save(decoder.state_dict(), path_dec)\n",
        "  \n",
        "          best_loss = train_loss\n",
        "      else:\n",
        "          patience = patience - 1\n",
        "\n",
        "      if patience == 0:\n",
        "          print('Out of patience. \\n')\n",
        "          break\n",
        "\n",
        "def DeepSMOTE_Data(X_train, y_train, one_hot = False):\n",
        "  batch_size = args['batch_size']\n",
        "  max_el = np.max(X_train)\n",
        "  X_train = X_train / max_el\n",
        "  X_train = moveaxis(X_train, 3, 1)\n",
        "  if one_hot:\n",
        "    y_train = np.argmax(y_train, axis=1)\n",
        "  #Generate artificial images\n",
        "  import torch\n",
        "  np.printoptions(precision=5,suppress=True)\n",
        "\n",
        "  #path on the computer where the models are stored\n",
        "  modpth = '/content/drive/MyDrive/PHD/Model/DeepSMOTE/32/'\n",
        "\n",
        "  path_enc = modpth + '/bst_enc.pth'\n",
        "  path_dec = modpth + '/bst_dec.pth'\n",
        "  \n",
        "  train_on_gpu = torch.cuda.is_available()\n",
        "  device = 'cuda' if torch.cuda.is_available() else 'cpu'\n",
        "\n",
        "  encoder = Encoder(args)\n",
        "  encoder.load_state_dict(torch.load(path_enc), strict=False)\n",
        "  encoder = encoder.to(device)\n",
        "\n",
        "  decoder = Decoder(args)\n",
        "  decoder.load_state_dict(torch.load(path_dec), strict=False)\n",
        "  decoder = decoder.to(device)\n",
        "\n",
        "  encoder.eval()\n",
        "  decoder.eval()\n",
        "\n",
        "  resx = []\n",
        "  resy = []\n",
        "  \n",
        "  counter = Counter(y_train)\n",
        "  counter = sorted(counter.items())\n",
        "  counter = [value for _, value in counter]\n",
        "\n",
        "  for i in range(num_classes):\n",
        "      torch.cuda.empty_cache()\n",
        "\n",
        "      xclass, yclass = biased_get_class(X_train, y_train, i)\n",
        "      #encode xclass to feature space\n",
        "      xclass = torch.Tensor(xclass)\n",
        "      xclass = xclass.to(device)\n",
        "      xclass = encoder(xclass)\n",
        "          \n",
        "      xclass = xclass.detach().cpu().numpy()\n",
        "      n = np.max(counter) - counter[i]\n",
        "      if n == 0:\n",
        "        continue\n",
        "#        resx2 = []\n",
        "#        resy2 = []\n",
        "#        for j in range(batch_size, n+batch_size+1, batch_size):\n",
        "#          if j <= n:\n",
        "#            batch_size_max = batch_size\n",
        "#          elif n % batch_size != 0:\n",
        "#            batch_size_max = n%batch_size\n",
        "#          else:\n",
        "#            break\n",
        "#          xsamp, ysamp = G_SM(xclass,yclass,batch_size_max,i)\n",
        "      xsamp, ysamp = G_SM(xclass,yclass,n,i)\n",
        "      ysamp = np.array(ysamp)\n",
        "  \n",
        "      \"\"\"to generate samples for resnet\"\"\"   \n",
        "      xsamp = torch.Tensor(xsamp)\n",
        "      xsamp = xsamp.to(device)\n",
        "      ximg = decoder(xsamp)\n",
        "\n",
        "      ximn = ximg.detach().cpu().numpy()\n",
        "#        resx2.append(ximn)\n",
        "#        resy2.append(ysamp)\n",
        "#        \n",
        "#        resx2 = np.vstack(resx2)\n",
        "#        resy2 = np.hstack(resy2)\n",
        "      resx.append(ximn)\n",
        "      resy.append(ysamp)\n",
        "  \n",
        "  resx1 = np.vstack(resx)\n",
        "  resy1 = np.hstack(resy)\n",
        "  resx1 = resx1.reshape(resx1.shape[0],-1)\n",
        "  X_train = X_train.reshape(X_train.shape[0],-1)\n",
        "  X_train = np.vstack((resx1,X_train))\n",
        "  y_train = np.hstack((resy1,y_train))\n",
        "  y_train = to_categorical(y_train)\n",
        "  X_train = X_train.reshape(-1, 3, IMAGE_W, IMAGE_H)\n",
        "  X_train = moveaxis(X_train, 1, 3)\n",
        "  X_train = X_train * max_el\n",
        "  return X_train, y_train"
      ]
    },
    {
      "cell_type": "markdown",
      "metadata": {
        "id": "0jrJ33lUDkCM"
      },
      "source": [
        "#Split dataset to train and val"
      ]
    },
    {
      "cell_type": "code",
      "execution_count": null,
      "metadata": {
        "id": "e6qneWL_Bs2U"
      },
      "outputs": [],
      "source": [
        "# stratified train and rem (20%) datasets\n",
        "from sklearn.model_selection import train_test_split\n",
        "X_train, X_val, y_train, y_val = train_test_split(X_train, y_train, test_size=0.2, stratify=y_train, random_state=1)\n",
        "\n",
        "print('Train Data: ', X_train.shape)\n",
        "print('Remaining Data: ', X_val.shape)"
      ]
    },
    {
      "cell_type": "code",
      "execution_count": null,
      "metadata": {
        "id": "8Kef4r_zxjgk"
      },
      "outputs": [],
      "source": [
        "#Data Augmentation\n",
        "dataaugment = ImageDataGenerator(\n",
        "        rotation_range=90,  # randomly rotate images in the range (degrees, 0 to 180)\n",
        "        zoom_range = 0.1, # Randomly zoom image \n",
        "        width_shift_range=0.1,  # randomly shift images horizontally (fraction of total width)\n",
        "        height_shift_range=0.1,  # randomly shift images vertically (fraction of total height)\n",
        "        horizontal_flip=True,  # randomly flip images\n",
        "        vertical_flip=True,  # randomly flip images\n",
        "        shear_range = 10) \n",
        "\n",
        "dataaugment.fit(X_train)"
      ]
    },
    {
      "cell_type": "markdown",
      "metadata": {
        "id": "B2PgksTFkOAq"
      },
      "source": [
        "#Fine Tune"
      ]
    },
    {
      "cell_type": "code",
      "execution_count": null,
      "metadata": {
        "id": "Nr1jnSM7yzJc"
      },
      "outputs": [],
      "source": [
        "limit = 171\n",
        "for layer in model.layers[:limit]:\n",
        "   layer.trainable = False\n",
        "for layer in model.layers[limit:]:\n",
        "   layer.trainable = True\n",
        "\n",
        "optimizer_SGD = SGD(learning_rate=0.0001, momentum=0.9)\n",
        "model.compile(optimizer = optimizer_SGD , loss = \"categorical_crossentropy\", metrics=['accuracy', balanced_acc])\n",
        "hst2 = model.fit(train_data_batches,\n",
        "                    epochs = EPOCHS, validation_data = valid_data_batches,\n",
        "                    callbacks=[learning_rate_reduction,early_stopping_monitor, mc])\n"
      ]
    },
    {
      "cell_type": "code",
      "execution_count": null,
      "metadata": {
        "id": "vO1aAQBmiy0K"
      },
      "outputs": [],
      "source": [
        "# summarize history for accuracy\n",
        "plt.plot(hst2.history['balanced_acc'])\n",
        "plt.plot(hst2.history['val_balanced_acc'])\n",
        "plt.title('model balance_acc after tunning')\n",
        "plt.ylabel('accuracy')\n",
        "plt.xlabel('epoch')\n",
        "plt.legend(['train', 'val'], loc='upper left')\n",
        "plt.show()"
      ]
    }
  ],
  "metadata": {
    "accelerator": "GPU",
    "colab": {
      "collapsed_sections": [
        "UswA0co2y1wl",
        "iDRWiTnO0MGh",
        "eaK4zbtoaAaC",
        "3K908bbiYwbS",
        "kE8Ziq-BlEP4",
        "RcRGeofw-8tK",
        "cNBXx28B9yGu",
        "0jrJ33lUDkCM",
        "B2PgksTFkOAq"
      ],
      "machine_shape": "hm",
      "provenance": [],
      "include_colab_link": true
    },
    "gpuClass": "standard",
    "kernelspec": {
      "display_name": "Python 3",
      "name": "python3"
    },
    "language_info": {
      "name": "python"
    }
  },
  "nbformat": 4,
  "nbformat_minor": 0
}