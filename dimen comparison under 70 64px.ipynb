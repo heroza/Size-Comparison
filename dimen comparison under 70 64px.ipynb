{
  "cells": [
    {
      "cell_type": "markdown",
      "metadata": {
        "id": "view-in-github",
        "colab_type": "text"
      },
      "source": [
        "<a href=\"https://colab.research.google.com/github/heroza/Size-Comparison/blob/main/dimen%20comparison%20under%2070%2064px.ipynb\" target=\"_parent\"><img src=\"https://colab.research.google.com/assets/colab-badge.svg\" alt=\"Open In Colab\"/></a>"
      ]
    },
    {
      "cell_type": "code",
      "execution_count": 1,
      "metadata": {
        "colab": {
          "base_uri": "https://localhost:8080/"
        },
        "id": "Eus_4tUgfEk9",
        "outputId": "55870f94-f722-475e-f6d5-6e66201256f4"
      },
      "outputs": [
        {
          "output_type": "stream",
          "name": "stdout",
          "text": [
            "Mounted at /content/drive\n"
          ]
        }
      ],
      "source": [
        "from google.colab import drive\n",
        "drive.mount('/content/drive')"
      ]
    },
    {
      "cell_type": "markdown",
      "metadata": {
        "id": "E_x4c0_DTkaa"
      },
      "source": [
        "#Library, atribut, and function"
      ]
    },
    {
      "cell_type": "code",
      "execution_count": 1,
      "metadata": {
        "id": "nR2MJBYq-oiB"
      },
      "outputs": [],
      "source": [
        "import pandas as pd\n",
        "import numpy as np\n",
        "import tensorflow as tf\n",
        "import matplotlib.pyplot as plt\n",
        "import seaborn as sns\n",
        "import os\n",
        "from collections import Counter\n",
        "from pathlib import Path\n",
        "from PIL import Image\n",
        "from sklearn import preprocessing\n",
        "from sklearn.neighbors import NearestNeighbors\n",
        "from sklearn.metrics import precision_recall_fscore_support, balanced_accuracy_score, confusion_matrix, accuracy_score\n",
        "from keras.callbacks import ReduceLROnPlateau, EarlyStopping, ModelCheckpoint\n",
        "from keras.preprocessing.image import ImageDataGenerator\n",
        "from keras.models import Sequential\n",
        "from keras.layers import Conv2D, MaxPooling2D, UpSampling2D\n",
        "from tensorflow import keras\n",
        "from tensorflow.keras import layers\n",
        "from tensorflow.keras.optimizers import Adam, SGD\n",
        "from tensorflow.keras.preprocessing import image\n",
        "from tensorflow.keras.applications.resnet50 import ResNet50, preprocess_input, decode_predictions\n",
        "from tensorflow.keras.applications.inception_v3 import InceptionV3, preprocess_input\n",
        "from tensorflow.keras.layers import GlobalAveragePooling2D, Dense, Input, Dropout, Flatten\n",
        "from tensorflow.keras.models import Model, load_model\n",
        "from keras.utils.np_utils import to_categorical\n",
        "import imblearn\n",
        "from imblearn.over_sampling import SMOTE, SVMSMOTE, ADASYN, KMeansSMOTE"
      ]
    },
    {
      "cell_type": "code",
      "execution_count": 11,
      "metadata": {
        "id": "9-c7Xghg4SB4"
      },
      "outputs": [],
      "source": [
        "# input image size\n",
        "IMAGE_W = 64\n",
        "IMAGE_H = 64\n",
        "IMG_SIZE = (IMAGE_W,IMAGE_H)\n",
        "num_classes = 7\n",
        "EPOCHS = 50\n",
        "BATCH_SIZE = 64\n",
        "opt_adam = Adam(learning_rate=0.001, beta_1=0.9, beta_2=0.999, epsilon=None, decay=0.0, amsgrad=False)\n",
        "opt_SGD = SGD(learning_rate=0.001)\n",
        "the_arch = 'resnet50'"
      ]
    },
    {
      "cell_type": "code",
      "execution_count": 14,
      "metadata": {
        "id": "JffFid9sOXeo"
      },
      "outputs": [],
      "source": [
        "# load train and test dataset\n",
        "def preprocess_image_input(input_images, arch = the_arch):\n",
        "  input_images = input_images.astype('float32')\n",
        "  if arch == 'inception_v3':\n",
        "    output_ims = tf.keras.applications.inception_v3.preprocess_input(input_images)\n",
        "  else:\n",
        "    output_ims = tf.keras.applications.resnet50.preprocess_input(input_images)\n",
        "  return output_ims\n",
        "\n",
        "def load_cifar10_dataset():\n",
        "  from keras.datasets import cifar10\n",
        "    # load dataset\n",
        "  (X_train, y_train), (X_val, y_val) = cifar10.load_data()\n",
        "    # one hot encode target values\n",
        "  y_train = to_categorical(y_train)\n",
        "  y_val = to_categorical(y_val)\n",
        "\n",
        "  return X_train, y_train, X_val, y_val\n",
        "\n",
        "def true_positive(l1,l2):\n",
        "  tp = 0\n",
        "  for i in range(len(l1)):\n",
        "    tp = tf.cond(l1[i]==l2[i]==1, lambda: tp+1)\n",
        "  return tp\n",
        "\n",
        "def true_negative(l1,l2):\n",
        "  tn = 0\n",
        "  for i in range(len(l1)):\n",
        "    tn = tf.cond(l1[i]==l2[i]==0, lambda: tn+1)\n",
        "  return tn\n",
        "\n",
        "def false_positive(l1,l2):\n",
        "  fp = 0\n",
        "  for i in range(len(l1)):\n",
        "    fp = tf.cond(l1[i] != l2[i] and l2[i]==1, lambda: fp+1)\n",
        "  return fp\n",
        "\n",
        "def false_negative(l1,l2):\n",
        "  fn = 0\n",
        "  for i in range(len(l1)):\n",
        "    fn = tf.cond(l1[i] != l2[i] and l2[i] == 0, lambda: fn+1)\n",
        "  return fn\n",
        "\n",
        "def balanced_acc(y_true,y_pred):\n",
        "    from keras import backend as K\n",
        "    tensor1 = tf.math.argmax(y_true, axis=1)\n",
        "    tensor2 = tf.math.argmax(y_pred, axis=1)\n",
        "    cm = tf.math.confusion_matrix(tensor1, tensor2)\n",
        "    diag = tf.linalg.tensor_diag_part (cm)\n",
        "    tpfn = tf.cast(K.sum(cm, axis = 1), tf.float32) + K.epsilon()\n",
        "    recall = tf.divide(tf.cast(diag, tf.float32),tpfn)\n",
        "    balanced_acc = K.mean(recall)\n",
        "    balanced_acc = K.mean(balanced_acc)\n",
        "\n",
        "    return balanced_acc\n",
        "\n",
        "def define_base_model(arch = the_arch, start_trainable_layer = 9999, attention=False):\n",
        "  #x = data_augmentation(input_tensor)\n",
        "  #x = layers.Rescaling(1.0 / 255)(input_tensor)  # Rescale inputs\n",
        "  if arch != 'dense':\n",
        "    input_tensor = Input(shape=(IMAGE_H, IMAGE_W, 3))\n",
        "    #x = UpSampling2D(size=(7,7))(input_tensor)\n",
        "    if arch == 'resnet50':\n",
        "      base_model = ResNet50(input_tensor=input_tensor, weights='imagenet', include_top=False)\n",
        "    elif arch == 'inception_v3':\n",
        "      base_model = InceptionV3(input_tensor=input_tensor, weights='imagenet', include_top=False)\n",
        "    elif arch == 'ResNet':\n",
        "      base_model = ResNet(classes ,image_shape)(input_tensor)\n",
        "    \n",
        "    for layer in base_model.layers:\n",
        "      layer.trainable = False\n",
        "    if start_trainable_layer != 9999:\n",
        "      for layer in base_model.layers[start_trainable_layer:]:\n",
        "        layer.trainable = True\n",
        "    \n",
        "    x = base_model.output\n",
        "    if attention:\n",
        "      x = Attention(1024,1024,7,8)(x)\n",
        "    \n",
        "    x = GlobalAveragePooling2D()(x)\n",
        "    x = Flatten()(x)\n",
        "  else:\n",
        "    input_tensor = Input(shape=(2048))\n",
        "    x = input_tensor\n",
        "  #x = Flatten()(x)\n",
        "  x = Dense(1024, activation='relu')(x)\n",
        "  #x = Dropout(0.2)(x)\n",
        "  x = Dense(512, activation='relu')(x)\n",
        "  predictions = Dense(num_classes, activation='softmax')(x)\n",
        "  model = Model(inputs=input_tensor, outputs=predictions)\n",
        "  model.compile(optimizer = opt_SGD , loss = \"categorical_crossentropy\", metrics=['accuracy', balanced_acc])\n",
        "  return model\n",
        "\n",
        "def define_model_resnet():\n",
        "  input_shape = (IMAGE_H, IMAGE_W, 3)\n",
        "  input_tensor = Input(shape=input_shape)\n",
        "  x = ResNet50(input_shape=input_shape, weights='imagenet', include_top=False)(input_tensor, training=False)\n",
        "  x = GlobalAveragePooling2D()(x)\n",
        "  x = Flatten()(x)\n",
        "  x = Dense(1024, activation='relu')(x)\n",
        "  x = Dense(512, activation='relu')(x)\n",
        "  predictions = Dense(num_classes, activation='softmax')(x)\n",
        "  model = Model(inputs=input_tensor, outputs=predictions)\n",
        "  model.compile(optimizer = opt_SGD , loss = \"categorical_crossentropy\", metrics=['accuracy', balanced_acc])\n",
        "  return model\n",
        "\n",
        "# plot diagnostic learning curves\n",
        "def summarize_diagnostics(history):\n",
        "    # plot loss\n",
        "    plt.subplot(211)\n",
        "    plt.title('Cross Entropy Loss')\n",
        "    plt.plot(history.history['loss'], color='blue', label='train')\n",
        "    plt.plot(history.history['val_loss'], color='orange', label='test')\n",
        "    # plot accuracy\n",
        "    plt.subplot(212)\n",
        "    plt.title('Classification Accuracy')\n",
        "    plt.plot(history.history['accuracy'], color='blue', label='train')\n",
        "    plt.plot(history.history['val_accuracy'], color='orange', label='test')\n",
        " \n",
        "# scale pixels\n",
        "def norm_pixels(train, test):\n",
        "    # convert from integers to floats\n",
        "    train_norm = train.astype('float32')\n",
        "    test_norm = test.astype('float32')\n",
        "    # normalize to range 0-1\n",
        "    train_norm = train_norm / 255.0\n",
        "    test_norm = test_norm / 255.0\n",
        "    # return normalized images\n",
        "    return train_norm, test_norm\n",
        "\n",
        "def load_isic2018_dataset(train_under_frac = 0):\n",
        "  df_train = pd.read_csv('/content/drive/MyDrive/PHD/Datasets/isic2018/ISIC2018_Task3_Training_GroundTruth/ISIC2018_Task3_Training_GroundTruth.csv') \n",
        "  df_val = pd.read_csv('/content/drive/MyDrive/PHD/Datasets/isic2018/ISIC2018_Task3_Validation_GroundTruth/ISIC2018_Task3_Validation_GroundTruth.csv') \n",
        "\n",
        "  #decode one hot label\n",
        "  df_train[\"Labels\"] = (df_train.iloc[:, 1:]).idxmax(axis=1)\n",
        "  df_val[\"Labels\"] = (df_val.iloc[:, 1:]).idxmax(axis=1)\n",
        "\n",
        "  #random undersampling for training dataset\n",
        "  if train_under_frac !=0:\n",
        "    df_train = df_train.drop(df_train[df_train['Labels'] == 'NV'].sample(frac=train_under_frac).index)\n",
        "\n",
        "  #drop one-hot column\n",
        "  df_train = df_train.drop(columns=['MEL', 'NV', 'BCC', 'AKIEC', 'BKL', 'DF', 'VASC'])\n",
        "  df_val = df_val.drop(columns=['MEL', 'NV', 'BCC', 'AKIEC', 'BKL', 'DF', 'VASC'])\n",
        "\n",
        "  #make filepaths of the image\n",
        "  dir_train = '/content/drive/MyDrive/PHD/Datasets/isic2018/ISIC2018_Task3_Training_Input/'\n",
        "  dir_val = '/content/drive/MyDrive/PHD/Datasets/isic2018/ISIC2018_Task3_Validation_Input/'\n",
        "  df_train['FilePaths'] = dir_train + df_train['image'] + '.jpg'\n",
        "  df_val['FilePaths'] = dir_val + df_val['image'] + '.jpg'\n",
        "  \n",
        "  #load image pixels to dataframe\n",
        "  df_train['image_px'] = df_train['FilePaths'].map(lambda x: np.asarray(Image.open(x).resize(IMG_SIZE)))\n",
        "  df_val['image_px'] = df_val['FilePaths'].map(lambda x: np.asarray(Image.open(x).resize(IMG_SIZE)))\n",
        "\n",
        "  X_train = np.asarray(df_train['image_px'].tolist())\n",
        "  X_val = np.asarray(df_val['image_px'].tolist())\n",
        "  y_train = np.array(df_train['Labels'].values)\n",
        "  y_val = np.array(df_val['Labels'].values)\n",
        "\n",
        "  label_encoder = preprocessing.LabelEncoder()\n",
        "  y_train = label_encoder.fit_transform(y_train)\n",
        "  y_val = label_encoder.fit_transform(y_val)\n",
        "  \n",
        "  y_train = to_categorical(y_train, num_classes = num_classes)\n",
        "  y_val = to_categorical(y_val, num_classes = num_classes)\n",
        "\n",
        "  return X_train, y_train, X_val, y_val\n",
        "\n",
        "def reset_dataset(df_train, df_val):\n",
        "  X_train = np.asarray(df_train['image_px'].tolist())\n",
        "  X_val = np.asarray(df_val['image_px'].tolist())\n",
        "  y_train = np.array(df_train['Labels'].values)\n",
        "  y_val = np.array(df_val['Labels'].values)\n",
        "\n",
        "  X_train = preprocess_image_input(X_train, the_arch)\n",
        "  X_val = preprocess_image_input(X_val, the_arch)\n",
        "\n",
        "  label_encoder = preprocessing.LabelEncoder()\n",
        "  y_train = label_encoder.fit_transform(y_train)\n",
        "  y_val = label_encoder.fit_transform(y_val)\n",
        "  \n",
        "  y_train = to_categorical(y_train, num_classes = num_classes)\n",
        "  y_val = to_categorical(y_val, num_classes = num_classes)\n",
        "  return X_train, y_train, X_val, y_val\n",
        "\n",
        "def SMOTE_Data(X, y, one_hot = False, k = 5, width = IMAGE_W, height = IMAGE_H, c = 3, type = 'smote'):\n",
        "  if one_hot:\n",
        "    y = np.argmax(y, axis=1)\n",
        "  if type == 'borderline':\n",
        "    sm = BorderlineSMOTE(random_state=42, k_neighbors=k)\n",
        "  elif type == 'svm':\n",
        "    sm = SVMSMOTE()\n",
        "  elif type == 'adasyn':\n",
        "    sm = ADASYN(random_state=42, n_neighbors=k)\n",
        "  elif type == 'kmeans':\n",
        "    sm = KMeansSMOTE(k_neighbors=k, kmeans_estimator=10)\n",
        "  else:\n",
        "    sm = SMOTE(random_state=42, k_neighbors=k)\n",
        "  \n",
        "  X_resampled, y_resampled = sm.fit_resample(X.reshape(-1, width * height * c), y)\n",
        "  X_resampled = X_resampled.reshape(-1, width, height, c)\n",
        "  if one_hot:\n",
        "    y_resampled = to_categorical(y_resampled, num_classes = num_classes)\n",
        "  else:\n",
        "    y_resampled = y_resampled.reshape(-1,1)\n",
        "  return X_resampled, y_resampled\n",
        "\n",
        "def SMOTE_Data2(X, y, one_hot = False, k = 5, type = 'smote'):\n",
        "  if one_hot:\n",
        "    y = np.argmax(y, axis=1)\n",
        "  if type == 'borderline':\n",
        "    sm = BorderlineSMOTE(random_state=42, k_neighbors=k)\n",
        "  elif type == 'svm':\n",
        "    sm = SVMSMOTE()\n",
        "  elif type == 'adasyn':\n",
        "    sm = ADASYN(random_state=42, n_neighbors=k)\n",
        "  elif type == 'kmeans':\n",
        "    sm = KMeansSMOTE(k_neighbors=k, kmeans_estimator=10)\n",
        "  else:\n",
        "    sm = SMOTE(random_state=42, k_neighbors=k)\n",
        "  X_resampled, y_resampled = sm.fit_resample(X, y)\n",
        "  if one_hot:\n",
        "    y_resampled = to_categorical(y_resampled, num_classes = num_classes)\n",
        "  else:\n",
        "    y_resampled = y_resampled.reshape(-1,1)\n",
        "  return X_resampled, y_resampled"
      ]
    },
    {
      "cell_type": "markdown",
      "metadata": {
        "id": "BE9FCWBe8deT"
      },
      "source": [
        "#Inner-Borderline SMOTE"
      ]
    },
    {
      "cell_type": "code",
      "execution_count": null,
      "metadata": {
        "id": "s3UnuaKz8kzJ"
      },
      "outputs": [],
      "source": [
        "def get_class(X, y, c):\n",
        "    xbeg = X[y == c]\n",
        "    ybeg = y[y == c]\n",
        "    \n",
        "    return xbeg, ybeg\n",
        "def find_border(xclass, yclass, X, y, cli, n_neigh=5):\n",
        "    nn = NearestNeighbors(n_neighbors=n_neigh, n_jobs=1)\n",
        "    nn.fit(X)\n",
        "    dist, ind = nn.kneighbors(xclass)\n",
        "    ret = []\n",
        "    for i in range(len(ind)):\n",
        "      ret.append(sum(y[ind[i,j]] != cli for j in range(1,len(ind[i]))))\n",
        "    ret = np.array(ret)\n",
        "    xclass = xclass[np.logical_and(ret < (n_neigh-1),ret > ((n_neigh-1)/2))]\n",
        "    yclass = yclass[np.logical_and(ret < (n_neigh-1),ret > ((n_neigh-1)/2))]\n",
        "\n",
        "    return xclass, yclass\n",
        "def find_inner_border(xclass, yclass, X, y, cli, n_neigh=5):\n",
        "    nn = NearestNeighbors(n_neighbors=n_neigh, n_jobs=1)\n",
        "    nn.fit(X)\n",
        "    dist, ind = nn.kneighbors(X)\n",
        "    ret = []\n",
        "    for i in range(len(ind)):\n",
        "      if y[i] != cli:\n",
        "        ret.append(n_neigh)  \n",
        "      else:\n",
        "        ret.append(sum(y[ind[i,j]] != cli for j in range(1,len(ind[i]))))\n",
        "    ret = np.array(ret)\n",
        "    is_border = np.logical_and(ret < (n_neigh-1),ret > ((n_neigh-1)/2))\n",
        "    \n",
        "    ret = []\n",
        "    for i in range(len(ind)):\n",
        "      ret.append(sum(is_border[ind[i,j]] for j in range(1,len(ind[i]))))\n",
        "    ret = np.array(ret)\n",
        "    xclass = X[np.logical_and(np.logical_not(is_border),ret > 0)]\n",
        "    yclass = y[np.logical_and(np.logical_not(is_border),ret > 0)]\n",
        "    return xclass, yclass\n",
        "\n",
        "def G_SM(xclass,n_to_sample,cl, n_neigh = 6):\n",
        "    \n",
        "    nn = NearestNeighbors(n_neighbors=n_neigh, n_jobs=1)\n",
        "    nn.fit(xclass)\n",
        "    dist, ind = nn.kneighbors(xclass)\n",
        "\n",
        "    # generating samples\n",
        "    base_indices = np.random.choice(list(range(len(xclass))),n_to_sample)\n",
        "    neighbor_indices = np.random.choice(list(range(1, n_neigh)),n_to_sample)\n",
        "\n",
        "    X_base = xclass[base_indices]\n",
        "    X_neighbor = xclass[ind[base_indices, neighbor_indices]]\n",
        "\n",
        "    samples = X_base + np.multiply(np.random.rand(n_to_sample,1),\n",
        "            X_neighbor - X_base)\n",
        "\n",
        "    #use 10 as label because 0 to 9 real classes and 1 fake/smoted = 10\n",
        "    return samples, [cl]*n_to_sample\n",
        "\n",
        "def Borderline_SMOTE(X_train, y_train, random_state=42, k_neighbors=5, start=0, n=7):\n",
        "  #reshape X_train\n",
        "  X_train = X_train.reshape(-1, IMAGE_W * IMAGE_H * 3)\n",
        "  #decode y_train from one-hot encoding\n",
        "  y_train = np.argmax(y_train, axis=1) \n",
        "\n",
        "  counter = Counter(y_train)\n",
        "  key_max = max(counter, key=counter.get)\n",
        "  class_max = counter[key_max]\n",
        "  resx=[]\n",
        "  resy=[]\n",
        "\n",
        "  for i in range(start,n):\n",
        "      xclass, yclass = get_class(X_train, y_train, i)\n",
        "      if xclass.shape[0] == class_max:\n",
        "        continue\n",
        "      xclass_bdr, yclass_bdr = find_inner_border(xclass, yclass, X_train, y_train, i, n_neigh=k_neighbors)\n",
        "      n = class_max - xclass.shape[0]\n",
        "      xsamp, ysamp = G_SM(xclass_bdr,n,i, n_neigh=k_neighbors)\n",
        "      ysamp = np.array(ysamp)\n",
        "      resx.append(xsamp)\n",
        "      resy.append(ysamp)\n",
        "  \n",
        "  resx = np.vstack(resx)\n",
        "  resy = np.hstack(resy)\n",
        "  X_train = np.vstack((resx,X_train))\n",
        "  y_train = np.hstack((resy,y_train))\n",
        "  y_train = to_categorical(y_train)\n",
        "  X_train = X_train.reshape(-1, IMAGE_W, IMAGE_H, 3)\n",
        "  return X_train, y_train"
      ]
    },
    {
      "cell_type": "markdown",
      "metadata": {
        "id": "5v7sLC2svMuJ"
      },
      "source": [
        "# Main"
      ]
    },
    {
      "cell_type": "code",
      "execution_count": 14,
      "metadata": {
        "id": "HIW7uLrYvZDv"
      },
      "outputs": [],
      "source": [
        "import sys\n",
        "sys.path.append('/content/drive/MyDrive/PHD/Src/imbalanced-learn/imblearn/')\n",
        "sys.path.append('/content/drive/MyDrive/PHD/Src/imbalanced-learn/imblearn/over_sampling/')\n",
        "sys.path.append('/content/drive/MyDrive/PHD/Src/imbalanced-learn/imblearn/over_sampling/_smote/')\n",
        "from filter import BorderlineSMOTE"
      ]
    },
    {
      "cell_type": "code",
      "execution_count": 9,
      "metadata": {
        "id": "udkMXcZHXglm",
        "colab": {
          "base_uri": "https://localhost:8080/"
        },
        "outputId": "a7d71862-09ad-4e88-9300-bad302b6502d"
      },
      "outputs": [
        {
          "output_type": "stream",
          "name": "stdout",
          "text": [
            "best_model_fpath:/content/drive/MyDrive/PHD/Model/best_model_dimen_comparison_under70_64px.h5\n"
          ]
        }
      ],
      "source": [
        "exp_name=\"dimen_comparison\"\n",
        "dataset_name=\"under70_64px\"\n",
        "train_under_frac = 0.7\n",
        "\n",
        "best_model_fpath = '/content/drive/MyDrive/PHD/Model/best_model_'+exp_name+'_'+dataset_name+'.h5'\n",
        "print(\"best_model_fpath:\"+best_model_fpath)"
      ]
    },
    {
      "cell_type": "code",
      "execution_count": 16,
      "metadata": {
        "colab": {
          "base_uri": "https://localhost:8080/"
        },
        "id": "qge6cnxQPnH6",
        "outputId": "90ab1822-5c86-4a34-a1a4-d3f316c12c0a"
      },
      "outputs": [
        {
          "output_type": "stream",
          "name": "stdout",
          "text": [
            "(5321, 128, 128, 3)\n",
            "(5321, 7)\n",
            "(193, 128, 128, 3)\n",
            "(193, 7)\n",
            "Counter train data:  Counter({5: 2011, 4: 1113, 2: 1099, 1: 514, 0: 327, 6: 142, 3: 115})\n",
            "Counter val data:  Counter({5: 123, 2: 22, 4: 21, 1: 15, 0: 8, 6: 3, 3: 1})\n"
          ]
        }
      ],
      "source": [
        "path = '/content/drive/MyDrive/PHD/Datasets/isic2018/'\n",
        "df1 = pd.read_pickle(path+\"isic2018_train_\"+dataset_name+\".pkl\")\n",
        "X_train = df1.loc[:, df1.columns != 'y_train'].to_numpy()\n",
        "X_train = X_train.reshape(-1,IMAGE_W,IMAGE_H,3)\n",
        "y_train = df1.loc[:, df1.columns == 'y_train'].to_numpy()\n",
        "y_train = to_categorical(y_train)\n",
        "\n",
        "#df1 = pd.read_pickle(path+\"isic2018_val_\"+dataset_name+\".pkl\")\n",
        "df1 = pd.read_pickle(path+\"isic2018_val.pkl\")\n",
        "X_val = df1.loc[:, df1.columns != 'y_val'].to_numpy()\n",
        "X_val = X_val.reshape(-1,IMAGE_W,IMAGE_H,3)\n",
        "y_val = df1.loc[:, df1.columns == 'y_val'].to_numpy()\n",
        "y_val = to_categorical(y_val)\n",
        "\n",
        "print(X_train.shape)\n",
        "print(y_train.shape)\n",
        "print(X_val.shape)\n",
        "print(y_val.shape)\n",
        "print('Counter train data: ', Counter(np.argmax(y_train, axis=1)))\n",
        "print('Counter val data: ', Counter(np.argmax(y_val, axis=1)))"
      ]
    },
    {
      "cell_type": "code",
      "execution_count": 15,
      "metadata": {
        "colab": {
          "base_uri": "https://localhost:8080/"
        },
        "id": "xArGWuciBt_-",
        "outputId": "4ca05f5e-a5a0-4337-fbd7-a4545c7901ab"
      },
      "outputs": [
        {
          "output_type": "stream",
          "name": "stdout",
          "text": [
            "(14077, 64, 64, 3)\n",
            "(14077, 7)\n",
            "(193, 64, 64, 3)\n",
            "(193, 7)\n",
            "Counter train data:  Counter({5: 2011, 4: 2011, 2: 2011, 3: 2011, 0: 2011, 1: 2011, 6: 2011})\n",
            "Counter val data:  Counter({5: 123, 2: 22, 4: 21, 1: 15, 0: 8, 6: 3, 3: 1})\n"
          ]
        }
      ],
      "source": [
        "X_train, y_train = SMOTE_Data(X_train, y_train, True, type = 'smote')\n",
        "#X_train, y_train = Borderline_SMOTE(X_train, y_train)\n",
        "print(X_train.shape)\n",
        "print(y_train.shape)\n",
        "print(X_val.shape)\n",
        "print(y_val.shape)\n",
        "print('Counter train data: ', Counter(np.argmax(y_train, axis=1)))\n",
        "print('Counter val data: ', Counter(np.argmax(y_val, axis=1)))"
      ]
    },
    {
      "cell_type": "code",
      "execution_count": null,
      "metadata": {
        "colab": {
          "base_uri": "https://localhost:8080/"
        },
        "id": "0V5PjA7jFhVU",
        "outputId": "38b5f38e-272e-483a-fa48-6186f4b7efcd"
      },
      "outputs": [
        {
          "name": "stdout",
          "output_type": "stream",
          "text": [
            "(9487, 2048)\n",
            "(9487, 7)\n",
            "Counter train data:  Counter({0: 1441, 5: 1341, 4: 1341, 2: 1341, 3: 1341, 1: 1341, 6: 1341})\n"
          ]
        }
      ],
      "source": [
        "n_new_samples = 100\n",
        "X_train = np.append(X_train_fm_ov, np.zeros(shape=(n_new_samples, 2048), dtype='object'), axis=0)\n",
        "y_train = np.argmax(y_train_ov, axis=1) \n",
        "y_train = y_train.reshape(-1,1)\n",
        "y_train = np.append(y_train, np.zeros(shape=(n_new_samples, 1), dtype='object'))\n",
        "y_train = to_categorical(y_train)\n",
        "print(X_train.shape)\n",
        "print(y_train.shape)\n",
        "print('Counter train data: ', Counter(np.argmax(y_train, axis=1)))"
      ]
    },
    {
      "cell_type": "code",
      "execution_count": null,
      "metadata": {
        "colab": {
          "base_uri": "https://localhost:8080/"
        },
        "id": "0lFpLlexMUaM",
        "outputId": "137599b4-6ee6-49de-8cd9-13e82b8c2c89"
      },
      "outputs": [
        {
          "name": "stdout",
          "output_type": "stream",
          "text": [
            "(9887, 2048)\n",
            "(9887, 7)\n",
            "Counter train data:  Counter({5: 1441, 4: 1441, 2: 1441, 1: 1441, 6: 1441, 3: 1341, 0: 1341})\n"
          ]
        }
      ],
      "source": [
        "# remove rows having all zeroes\n",
        "index = range(9387,9487)\n",
        "y_train = np.delete(y_train_ov, index, axis = 0)\n",
        "X_train = np.delete(X_train_fm_ov, index, axis = 0)\n",
        "print(X_train.shape)\n",
        "print(y_train.shape)\n",
        "print('Counter train data: ', Counter(np.argmax(y_train, axis=1)))"
      ]
    },
    {
      "cell_type": "code",
      "execution_count": null,
      "metadata": {
        "id": "V7Z_nccu6QjB"
      },
      "outputs": [],
      "source": [
        "#path = '/content/drive/MyDrive/PHD/Datasets/isic2018/'\n",
        "#df1 = pd.DataFrame(X_train.reshape(X_train.shape[0],-1))\n",
        "#df1['y_train'] = np.argmax(y_train, axis=1).tolist()\n",
        "#df2 = pd.DataFrame(X_val.reshape(X_val.shape[0],-1))\n",
        "#df2['y_val'] = np.argmax(y_val, axis=1).tolist()\n",
        "#df1.to_pickle(path+\"isic2018_train_under83.pkl\")\n",
        "#df2.to_pickle(path+\"isic2018_val.pkl\")"
      ]
    },
    {
      "cell_type": "code",
      "execution_count": 16,
      "metadata": {
        "colab": {
          "base_uri": "https://localhost:8080/",
          "height": 1000
        },
        "id": "vIygrW81Ln4z",
        "outputId": "afc1a243-7e40-496b-e771-b9a617dd78af"
      },
      "outputs": [
        {
          "output_type": "stream",
          "name": "stdout",
          "text": [
            "Downloading data from https://storage.googleapis.com/tensorflow/keras-applications/resnet/resnet50_weights_tf_dim_ordering_tf_kernels_notop.h5\n",
            "94765736/94765736 [==============================] - 1s 0us/step\n",
            "Epoch 1/50\n",
            "219/219 [==============================] - ETA: 0s - loss: 1.0378 - accuracy: 0.6157 - balanced_acc: 0.6144\n",
            "Epoch 1: val_balanced_acc improved from -inf to 0.55072, saving model to /content/drive/MyDrive/PHD/Model/best_model_dimen_comparison_under70_64px.h5\n",
            "219/219 [==============================] - 27s 82ms/step - loss: 1.0378 - accuracy: 0.6157 - balanced_acc: 0.6144 - val_loss: 0.9401 - val_accuracy: 0.6425 - val_balanced_acc: 0.5507 - lr: 0.0010\n",
            "Epoch 2/50\n",
            "219/219 [==============================] - ETA: 0s - loss: 0.6136 - accuracy: 0.7751 - balanced_acc: 0.7724\n",
            "Epoch 2: val_balanced_acc improved from 0.55072 to 0.57750, saving model to /content/drive/MyDrive/PHD/Model/best_model_dimen_comparison_under70_64px.h5\n",
            "219/219 [==============================] - 19s 81ms/step - loss: 0.6136 - accuracy: 0.7751 - balanced_acc: 0.7724 - val_loss: 0.7686 - val_accuracy: 0.7150 - val_balanced_acc: 0.5775 - lr: 0.0010\n",
            "Epoch 3/50\n",
            "219/219 [==============================] - ETA: 0s - loss: 0.4630 - accuracy: 0.8295 - balanced_acc: 0.8317\n",
            "Epoch 3: val_balanced_acc improved from 0.57750 to 0.60519, saving model to /content/drive/MyDrive/PHD/Model/best_model_dimen_comparison_under70_64px.h5\n",
            "219/219 [==============================] - 18s 80ms/step - loss: 0.4630 - accuracy: 0.8295 - balanced_acc: 0.8317 - val_loss: 0.9097 - val_accuracy: 0.6788 - val_balanced_acc: 0.6052 - lr: 0.0010\n",
            "Epoch 4/50\n",
            "219/219 [==============================] - ETA: 0s - loss: 0.3643 - accuracy: 0.8676 - balanced_acc: 0.8679\n",
            "Epoch 4: val_balanced_acc improved from 0.60519 to 0.61608, saving model to /content/drive/MyDrive/PHD/Model/best_model_dimen_comparison_under70_64px.h5\n",
            "219/219 [==============================] - 18s 81ms/step - loss: 0.3643 - accuracy: 0.8676 - balanced_acc: 0.8679 - val_loss: 0.6483 - val_accuracy: 0.7720 - val_balanced_acc: 0.6161 - lr: 0.0010\n",
            "Epoch 5/50\n",
            "219/219 [==============================] - ETA: 0s - loss: 0.2927 - accuracy: 0.8967 - balanced_acc: 0.8964\n",
            "Epoch 5: val_balanced_acc did not improve from 0.61608\n",
            "219/219 [==============================] - 17s 76ms/step - loss: 0.2927 - accuracy: 0.8967 - balanced_acc: 0.8964 - val_loss: 0.9009 - val_accuracy: 0.6632 - val_balanced_acc: 0.5559 - lr: 0.0010\n",
            "Epoch 6/50\n",
            "219/219 [==============================] - ETA: 0s - loss: 0.2313 - accuracy: 0.9206 - balanced_acc: 0.9196\n",
            "Epoch 6: val_balanced_acc did not improve from 0.61608\n",
            "219/219 [==============================] - 17s 77ms/step - loss: 0.2313 - accuracy: 0.9206 - balanced_acc: 0.9196 - val_loss: 0.8025 - val_accuracy: 0.7150 - val_balanced_acc: 0.5350 - lr: 0.0010\n",
            "Epoch 7/50\n",
            "219/219 [==============================] - ETA: 0s - loss: 0.1794 - accuracy: 0.9399 - balanced_acc: 0.9390\n",
            "Epoch 7: val_balanced_acc did not improve from 0.61608\n",
            "219/219 [==============================] - 17s 78ms/step - loss: 0.1794 - accuracy: 0.9399 - balanced_acc: 0.9390 - val_loss: 0.6583 - val_accuracy: 0.7461 - val_balanced_acc: 0.5617 - lr: 0.0010\n",
            "Epoch 8/50\n",
            "219/219 [==============================] - ETA: 0s - loss: 0.1532 - accuracy: 0.9513 - balanced_acc: 0.9506\n",
            "Epoch 8: val_balanced_acc did not improve from 0.61608\n",
            "219/219 [==============================] - 17s 79ms/step - loss: 0.1532 - accuracy: 0.9513 - balanced_acc: 0.9506 - val_loss: 0.7031 - val_accuracy: 0.7617 - val_balanced_acc: 0.5809 - lr: 0.0010\n",
            "Epoch 9/50\n",
            "219/219 [==============================] - ETA: 0s - loss: 0.0982 - accuracy: 0.9712 - balanced_acc: 0.9712\n",
            "Epoch 9: val_balanced_acc did not improve from 0.61608\n",
            "219/219 [==============================] - 17s 79ms/step - loss: 0.0982 - accuracy: 0.9712 - balanced_acc: 0.9712 - val_loss: 0.6906 - val_accuracy: 0.7720 - val_balanced_acc: 0.5840 - lr: 0.0010\n",
            "Epoch 10/50\n",
            "219/219 [==============================] - ETA: 0s - loss: 0.0947 - accuracy: 0.9727 - balanced_acc: 0.9735\n",
            "Epoch 10: val_balanced_acc did not improve from 0.61608\n",
            "219/219 [==============================] - 17s 80ms/step - loss: 0.0947 - accuracy: 0.9727 - balanced_acc: 0.9735 - val_loss: 0.8054 - val_accuracy: 0.7202 - val_balanced_acc: 0.5542 - lr: 0.0010\n",
            "Epoch 11/50\n",
            "219/219 [==============================] - ETA: 0s - loss: 0.0609 - accuracy: 0.9858 - balanced_acc: 0.9859\n",
            "Epoch 11: val_balanced_acc did not improve from 0.61608\n",
            "219/219 [==============================] - 17s 79ms/step - loss: 0.0609 - accuracy: 0.9858 - balanced_acc: 0.9859 - val_loss: 0.7543 - val_accuracy: 0.8031 - val_balanced_acc: 0.5825 - lr: 0.0010\n",
            "Epoch 12/50\n",
            "219/219 [==============================] - ETA: 0s - loss: 0.1648 - accuracy: 0.9553 - balanced_acc: 0.9560\n",
            "Epoch 12: val_balanced_acc improved from 0.61608 to 0.63351, saving model to /content/drive/MyDrive/PHD/Model/best_model_dimen_comparison_under70_64px.h5\n",
            "219/219 [==============================] - 19s 85ms/step - loss: 0.1648 - accuracy: 0.9553 - balanced_acc: 0.9560 - val_loss: 0.7558 - val_accuracy: 0.7772 - val_balanced_acc: 0.6335 - lr: 0.0010\n",
            "Epoch 13/50\n",
            "219/219 [==============================] - ETA: 0s - loss: 0.0431 - accuracy: 0.9910 - balanced_acc: 0.9909\n",
            "Epoch 13: val_balanced_acc did not improve from 0.63351\n",
            "219/219 [==============================] - 17s 79ms/step - loss: 0.0431 - accuracy: 0.9910 - balanced_acc: 0.9909 - val_loss: 0.7867 - val_accuracy: 0.7979 - val_balanced_acc: 0.6226 - lr: 0.0010\n",
            "Epoch 14/50\n",
            "219/219 [==============================] - ETA: 0s - loss: 0.0197 - accuracy: 0.9981 - balanced_acc: 0.9980\n",
            "Epoch 14: val_balanced_acc improved from 0.63351 to 0.64939, saving model to /content/drive/MyDrive/PHD/Model/best_model_dimen_comparison_under70_64px.h5\n",
            "219/219 [==============================] - 19s 85ms/step - loss: 0.0197 - accuracy: 0.9981 - balanced_acc: 0.9980 - val_loss: 0.8400 - val_accuracy: 0.7927 - val_balanced_acc: 0.6494 - lr: 0.0010\n",
            "Epoch 15/50\n",
            "219/219 [==============================] - ETA: 0s - loss: 0.0124 - accuracy: 0.9992 - balanced_acc: 0.9993\n",
            "Epoch 15: val_balanced_acc did not improve from 0.64939\n",
            "219/219 [==============================] - 17s 80ms/step - loss: 0.0124 - accuracy: 0.9992 - balanced_acc: 0.9993 - val_loss: 0.8778 - val_accuracy: 0.7824 - val_balanced_acc: 0.6321 - lr: 0.0010\n",
            "Epoch 16/50\n",
            "219/219 [==============================] - ETA: 0s - loss: 0.0078 - accuracy: 0.9999 - balanced_acc: 0.9999\n",
            "Epoch 16: val_balanced_acc did not improve from 0.64939\n",
            "219/219 [==============================] - 17s 80ms/step - loss: 0.0078 - accuracy: 0.9999 - balanced_acc: 0.9999 - val_loss: 0.8766 - val_accuracy: 0.8083 - val_balanced_acc: 0.6347 - lr: 0.0010\n",
            "Epoch 17/50\n",
            "219/219 [==============================] - ETA: 0s - loss: 0.0055 - accuracy: 0.9999 - balanced_acc: 0.9999\n",
            "Epoch 17: val_balanced_acc did not improve from 0.64939\n",
            "219/219 [==============================] - 17s 80ms/step - loss: 0.0055 - accuracy: 0.9999 - balanced_acc: 0.9999 - val_loss: 0.9542 - val_accuracy: 0.7824 - val_balanced_acc: 0.6398 - lr: 0.0010\n",
            "Epoch 18/50\n",
            "219/219 [==============================] - ETA: 0s - loss: 0.0043 - accuracy: 1.0000 - balanced_acc: 1.0000\n",
            "Epoch 18: val_balanced_acc did not improve from 0.64939\n",
            "219/219 [==============================] - 17s 80ms/step - loss: 0.0043 - accuracy: 1.0000 - balanced_acc: 1.0000 - val_loss: 0.9838 - val_accuracy: 0.7927 - val_balanced_acc: 0.6395 - lr: 0.0010\n",
            "Epoch 19/50\n",
            "219/219 [==============================] - ETA: 0s - loss: 0.0035 - accuracy: 1.0000 - balanced_acc: 1.0000\n",
            "Epoch 19: val_balanced_acc did not improve from 0.64939\n",
            "219/219 [==============================] - 17s 80ms/step - loss: 0.0035 - accuracy: 1.0000 - balanced_acc: 1.0000 - val_loss: 1.0244 - val_accuracy: 0.7720 - val_balanced_acc: 0.6301 - lr: 0.0010\n",
            "Epoch 20/50\n",
            "219/219 [==============================] - ETA: 0s - loss: 0.0029 - accuracy: 1.0000 - balanced_acc: 1.0000\n",
            "Epoch 20: val_balanced_acc did not improve from 0.64939\n",
            "219/219 [==============================] - 17s 80ms/step - loss: 0.0029 - accuracy: 1.0000 - balanced_acc: 1.0000 - val_loss: 1.0216 - val_accuracy: 0.7772 - val_balanced_acc: 0.6267 - lr: 0.0010\n",
            "Epoch 21/50\n",
            "219/219 [==============================] - ETA: 0s - loss: 0.0025 - accuracy: 1.0000 - balanced_acc: 1.0000\n",
            "Epoch 21: val_balanced_acc did not improve from 0.64939\n",
            "219/219 [==============================] - 17s 80ms/step - loss: 0.0025 - accuracy: 1.0000 - balanced_acc: 1.0000 - val_loss: 1.0148 - val_accuracy: 0.7927 - val_balanced_acc: 0.6362 - lr: 0.0010\n",
            "Epoch 22/50\n",
            "219/219 [==============================] - ETA: 0s - loss: 0.0022 - accuracy: 1.0000 - balanced_acc: 0.9993\n",
            "Epoch 22: val_balanced_acc did not improve from 0.64939\n",
            "219/219 [==============================] - 17s 80ms/step - loss: 0.0022 - accuracy: 1.0000 - balanced_acc: 0.9993 - val_loss: 1.0608 - val_accuracy: 0.7927 - val_balanced_acc: 0.6415 - lr: 0.0010\n",
            "Epoch 23/50\n",
            "219/219 [==============================] - ETA: 0s - loss: 0.0020 - accuracy: 1.0000 - balanced_acc: 1.0000\n",
            "Epoch 23: val_balanced_acc did not improve from 0.64939\n",
            "219/219 [==============================] - 17s 80ms/step - loss: 0.0020 - accuracy: 1.0000 - balanced_acc: 1.0000 - val_loss: 1.0743 - val_accuracy: 0.7720 - val_balanced_acc: 0.6079 - lr: 0.0010\n",
            "Epoch 24/50\n",
            "219/219 [==============================] - ETA: 0s - loss: 0.0018 - accuracy: 1.0000 - balanced_acc: 1.0000\n",
            "Epoch 24: val_balanced_acc did not improve from 0.64939\n",
            "219/219 [==============================] - 17s 80ms/step - loss: 0.0018 - accuracy: 1.0000 - balanced_acc: 1.0000 - val_loss: 1.0712 - val_accuracy: 0.7824 - val_balanced_acc: 0.6124 - lr: 0.0010\n",
            "Epoch 25/50\n",
            "219/219 [==============================] - ETA: 0s - loss: 0.0016 - accuracy: 1.0000 - balanced_acc: 1.0000\n",
            "Epoch 25: val_balanced_acc did not improve from 0.64939\n",
            "219/219 [==============================] - 17s 80ms/step - loss: 0.0016 - accuracy: 1.0000 - balanced_acc: 1.0000 - val_loss: 1.1123 - val_accuracy: 0.7876 - val_balanced_acc: 0.6264 - lr: 0.0010\n",
            "Epoch 26/50\n",
            "219/219 [==============================] - ETA: 0s - loss: 0.0015 - accuracy: 1.0000 - balanced_acc: 1.0000\n",
            "Epoch 26: val_balanced_acc did not improve from 0.64939\n",
            "219/219 [==============================] - 17s 80ms/step - loss: 0.0015 - accuracy: 1.0000 - balanced_acc: 1.0000 - val_loss: 1.1128 - val_accuracy: 0.7824 - val_balanced_acc: 0.6302 - lr: 0.0010\n",
            "Epoch 27/50\n",
            "219/219 [==============================] - ETA: 0s - loss: 0.0014 - accuracy: 1.0000 - balanced_acc: 1.0000\n",
            "Epoch 27: val_balanced_acc did not improve from 0.64939\n",
            "219/219 [==============================] - 17s 80ms/step - loss: 0.0014 - accuracy: 1.0000 - balanced_acc: 1.0000 - val_loss: 1.1079 - val_accuracy: 0.7772 - val_balanced_acc: 0.6163 - lr: 0.0010\n",
            "Epoch 28/50\n",
            "219/219 [==============================] - ETA: 0s - loss: 0.0013 - accuracy: 1.0000 - balanced_acc: 1.0000\n",
            "Epoch 28: val_balanced_acc did not improve from 0.64939\n",
            "219/219 [==============================] - 17s 80ms/step - loss: 0.0013 - accuracy: 1.0000 - balanced_acc: 1.0000 - val_loss: 1.1187 - val_accuracy: 0.7720 - val_balanced_acc: 0.6074 - lr: 0.0010\n",
            "Epoch 29/50\n",
            "219/219 [==============================] - ETA: 0s - loss: 0.0012 - accuracy: 1.0000 - balanced_acc: 1.0000\n",
            "Epoch 29: val_balanced_acc did not improve from 0.64939\n",
            "219/219 [==============================] - 17s 80ms/step - loss: 0.0012 - accuracy: 1.0000 - balanced_acc: 1.0000 - val_loss: 1.1482 - val_accuracy: 0.7824 - val_balanced_acc: 0.6171 - lr: 0.0010\n",
            "Epoch 30/50\n",
            "219/219 [==============================] - ETA: 0s - loss: 0.0011 - accuracy: 1.0000 - balanced_acc: 1.0000\n",
            "Epoch 30: val_balanced_acc did not improve from 0.64939\n",
            "219/219 [==============================] - 18s 80ms/step - loss: 0.0011 - accuracy: 1.0000 - balanced_acc: 1.0000 - val_loss: 1.1608 - val_accuracy: 0.7617 - val_balanced_acc: 0.5971 - lr: 0.0010\n",
            "Epoch 31/50\n",
            "219/219 [==============================] - ETA: 0s - loss: 0.0010 - accuracy: 1.0000 - balanced_acc: 1.0000\n",
            "Epoch 31: val_balanced_acc did not improve from 0.64939\n",
            "219/219 [==============================] - 17s 80ms/step - loss: 0.0010 - accuracy: 1.0000 - balanced_acc: 1.0000 - val_loss: 1.1581 - val_accuracy: 0.7824 - val_balanced_acc: 0.6153 - lr: 0.0010\n",
            "Epoch 32/50\n",
            "219/219 [==============================] - ETA: 0s - loss: 9.6483e-04 - accuracy: 1.0000 - balanced_acc: 0.9993\n",
            "Epoch 32: val_balanced_acc did not improve from 0.64939\n",
            "219/219 [==============================] - 17s 80ms/step - loss: 9.6483e-04 - accuracy: 1.0000 - balanced_acc: 0.9993 - val_loss: 1.1806 - val_accuracy: 0.7772 - val_balanced_acc: 0.6163 - lr: 0.0010\n",
            "Epoch 33/50\n",
            "219/219 [==============================] - ETA: 0s - loss: 9.0382e-04 - accuracy: 1.0000 - balanced_acc: 1.0000\n",
            "Epoch 33: val_balanced_acc did not improve from 0.64939\n",
            "219/219 [==============================] - 17s 80ms/step - loss: 9.0382e-04 - accuracy: 1.0000 - balanced_acc: 1.0000 - val_loss: 1.1713 - val_accuracy: 0.7824 - val_balanced_acc: 0.6153 - lr: 0.0010\n",
            "Epoch 34/50\n",
            "219/219 [==============================] - ETA: 0s - loss: 8.3710e-04 - accuracy: 1.0000 - balanced_acc: 1.0000\n",
            "Epoch 34: ReduceLROnPlateau reducing learning rate to 0.0005000000237487257.\n",
            "\n",
            "Epoch 34: val_balanced_acc did not improve from 0.64939\n",
            "219/219 [==============================] - 17s 80ms/step - loss: 8.3710e-04 - accuracy: 1.0000 - balanced_acc: 1.0000 - val_loss: 1.2002 - val_accuracy: 0.7772 - val_balanced_acc: 0.6145 - lr: 0.0010\n",
            "Epoch 35/50\n",
            "219/219 [==============================] - ETA: 0s - loss: 8.0633e-04 - accuracy: 1.0000 - balanced_acc: 1.0000\n",
            "Epoch 35: val_balanced_acc did not improve from 0.64939\n",
            "219/219 [==============================] - 17s 80ms/step - loss: 8.0633e-04 - accuracy: 1.0000 - balanced_acc: 1.0000 - val_loss: 1.2069 - val_accuracy: 0.7772 - val_balanced_acc: 0.6136 - lr: 5.0000e-04\n",
            "Epoch 36/50\n",
            "219/219 [==============================] - ETA: 0s - loss: 7.5270e-04 - accuracy: 1.0000 - balanced_acc: 1.0000\n",
            "Epoch 36: val_balanced_acc did not improve from 0.64939\n",
            "219/219 [==============================] - 17s 80ms/step - loss: 7.5270e-04 - accuracy: 1.0000 - balanced_acc: 1.0000 - val_loss: 1.2092 - val_accuracy: 0.7772 - val_balanced_acc: 0.6145 - lr: 5.0000e-04\n",
            "Epoch 37/50\n",
            "219/219 [==============================] - ETA: 0s - loss: 7.5122e-04 - accuracy: 1.0000 - balanced_acc: 1.0000\n",
            "Epoch 37: val_balanced_acc did not improve from 0.64939\n",
            "219/219 [==============================] - 17s 80ms/step - loss: 7.5122e-04 - accuracy: 1.0000 - balanced_acc: 1.0000 - val_loss: 1.2163 - val_accuracy: 0.7824 - val_balanced_acc: 0.6234 - lr: 5.0000e-04\n",
            "Epoch 38/50\n",
            "219/219 [==============================] - ETA: 0s - loss: 7.4701e-04 - accuracy: 1.0000 - balanced_acc: 1.0000\n",
            "Epoch 38: val_balanced_acc did not improve from 0.64939\n",
            "219/219 [==============================] - 17s 80ms/step - loss: 7.4701e-04 - accuracy: 1.0000 - balanced_acc: 1.0000 - val_loss: 1.2135 - val_accuracy: 0.7772 - val_balanced_acc: 0.6136 - lr: 5.0000e-04\n",
            "Epoch 39/50\n",
            "219/219 [==============================] - ETA: 0s - loss: 7.0969e-04 - accuracy: 1.0000 - balanced_acc: 1.0000\n",
            "Epoch 39: val_balanced_acc did not improve from 0.64939\n",
            "219/219 [==============================] - 18s 80ms/step - loss: 7.0969e-04 - accuracy: 1.0000 - balanced_acc: 1.0000 - val_loss: 1.2218 - val_accuracy: 0.7876 - val_balanced_acc: 0.6276 - lr: 5.0000e-04\n",
            "Epoch 40/50\n",
            "219/219 [==============================] - ETA: 0s - loss: 6.9528e-04 - accuracy: 1.0000 - balanced_acc: 1.0000\n",
            "Epoch 40: val_balanced_acc did not improve from 0.64939\n",
            "219/219 [==============================] - 17s 80ms/step - loss: 6.9528e-04 - accuracy: 1.0000 - balanced_acc: 1.0000 - val_loss: 1.2243 - val_accuracy: 0.7772 - val_balanced_acc: 0.6136 - lr: 5.0000e-04\n",
            "Epoch 41/50\n",
            "219/219 [==============================] - ETA: 0s - loss: 6.9004e-04 - accuracy: 1.0000 - balanced_acc: 1.0000\n",
            "Epoch 41: val_balanced_acc did not improve from 0.64939\n",
            "219/219 [==============================] - 17s 80ms/step - loss: 6.9004e-04 - accuracy: 1.0000 - balanced_acc: 1.0000 - val_loss: 1.2246 - val_accuracy: 0.7772 - val_balanced_acc: 0.6136 - lr: 5.0000e-04\n",
            "Epoch 42/50\n",
            "219/219 [==============================] - ETA: 0s - loss: 6.5682e-04 - accuracy: 1.0000 - balanced_acc: 1.0000\n",
            "Epoch 42: val_balanced_acc did not improve from 0.64939\n",
            "219/219 [==============================] - 17s 80ms/step - loss: 6.5682e-04 - accuracy: 1.0000 - balanced_acc: 1.0000 - val_loss: 1.2302 - val_accuracy: 0.7824 - val_balanced_acc: 0.6234 - lr: 5.0000e-04\n",
            "Epoch 43/50\n",
            "219/219 [==============================] - ETA: 0s - loss: 6.4701e-04 - accuracy: 1.0000 - balanced_acc: 1.0000\n",
            "Epoch 43: val_balanced_acc did not improve from 0.64939\n",
            "219/219 [==============================] - 17s 80ms/step - loss: 6.4701e-04 - accuracy: 1.0000 - balanced_acc: 1.0000 - val_loss: 1.2334 - val_accuracy: 0.7772 - val_balanced_acc: 0.6136 - lr: 5.0000e-04\n",
            "Epoch 44/50\n",
            "219/219 [==============================] - ETA: 0s - loss: 6.4410e-04 - accuracy: 1.0000 - balanced_acc: 1.0000\n",
            "Epoch 44: val_balanced_acc did not improve from 0.64939\n",
            "219/219 [==============================] - 17s 80ms/step - loss: 6.4410e-04 - accuracy: 1.0000 - balanced_acc: 1.0000 - val_loss: 1.2282 - val_accuracy: 0.7824 - val_balanced_acc: 0.6225 - lr: 5.0000e-04\n",
            "Epoch 45/50\n",
            "219/219 [==============================] - ETA: 0s - loss: 6.2894e-04 - accuracy: 1.0000 - balanced_acc: 1.0000\n",
            "Epoch 45: val_balanced_acc did not improve from 0.64939\n",
            "219/219 [==============================] - 17s 80ms/step - loss: 6.2894e-04 - accuracy: 1.0000 - balanced_acc: 1.0000 - val_loss: 1.2384 - val_accuracy: 0.7824 - val_balanced_acc: 0.6234 - lr: 5.0000e-04\n",
            "Epoch 46/50\n",
            "219/219 [==============================] - ETA: 0s - loss: 6.0729e-04 - accuracy: 1.0000 - balanced_acc: 1.0000\n",
            "Epoch 46: val_balanced_acc did not improve from 0.64939\n",
            "219/219 [==============================] - 18s 80ms/step - loss: 6.0729e-04 - accuracy: 1.0000 - balanced_acc: 1.0000 - val_loss: 1.2503 - val_accuracy: 0.7824 - val_balanced_acc: 0.6234 - lr: 5.0000e-04\n",
            "Epoch 47/50\n",
            "219/219 [==============================] - ETA: 0s - loss: 5.9029e-04 - accuracy: 1.0000 - balanced_acc: 1.0000\n",
            "Epoch 47: val_balanced_acc did not improve from 0.64939\n",
            "219/219 [==============================] - 18s 80ms/step - loss: 5.9029e-04 - accuracy: 1.0000 - balanced_acc: 1.0000 - val_loss: 1.2462 - val_accuracy: 0.7927 - val_balanced_acc: 0.6365 - lr: 5.0000e-04\n",
            "Epoch 48/50\n",
            "219/219 [==============================] - ETA: 0s - loss: 5.9704e-04 - accuracy: 1.0000 - balanced_acc: 1.0000\n",
            "Epoch 48: val_balanced_acc did not improve from 0.64939\n",
            "219/219 [==============================] - 18s 80ms/step - loss: 5.9704e-04 - accuracy: 1.0000 - balanced_acc: 1.0000 - val_loss: 1.2463 - val_accuracy: 0.7824 - val_balanced_acc: 0.6234 - lr: 5.0000e-04\n",
            "Epoch 49/50\n",
            "219/219 [==============================] - ETA: 0s - loss: 5.6345e-04 - accuracy: 1.0000 - balanced_acc: 1.0000\n",
            "Epoch 49: val_balanced_acc did not improve from 0.64939\n",
            "219/219 [==============================] - 17s 80ms/step - loss: 5.6345e-04 - accuracy: 1.0000 - balanced_acc: 1.0000 - val_loss: 1.2466 - val_accuracy: 0.7824 - val_balanced_acc: 0.6225 - lr: 5.0000e-04\n",
            "Epoch 50/50\n",
            "219/219 [==============================] - ETA: 0s - loss: 5.6059e-04 - accuracy: 1.0000 - balanced_acc: 1.0000\n",
            "Epoch 50: val_balanced_acc did not improve from 0.64939\n",
            "219/219 [==============================] - 17s 80ms/step - loss: 5.6059e-04 - accuracy: 1.0000 - balanced_acc: 1.0000 - val_loss: 1.2532 - val_accuracy: 0.7824 - val_balanced_acc: 0.6225 - lr: 5.0000e-04\n"
          ]
        },
        {
          "output_type": "display_data",
          "data": {
            "text/plain": [
              "<Figure size 432x288 with 2 Axes>"
            ],
            "image/png": "[encoded data removed]"
          },
          "metadata": {
            "needs_background": "light"
          }
        }
      ],
      "source": [
        "# define model\n",
        "model = define_model_resnet()\n",
        "#Callbacks\n",
        "mc = ModelCheckpoint(best_model_fpath, monitor='val_balanced_acc', mode='max', verbose=1, save_best_only=True)\n",
        "learning_rate_reduction = ReduceLROnPlateau(monitor='val_balanced_acc', patience=20, verbose=1, factor=0.5, min_lr=0.00001)\n",
        "early_stopping_monitor = EarlyStopping(patience=40,monitor='val_balanced_acc')\n",
        "#model.summary()\n",
        "hst = model.fit(X_train, y_train, epochs=EPOCHS, batch_size=BATCH_SIZE, validation_data=(X_val, y_val), verbose=1,\n",
        "                    steps_per_epoch=X_train.shape[0] // BATCH_SIZE, \n",
        "                    #callbacks=[learning_rate_reduction,early_stopping_monitor, mc])\n",
        "                    callbacks=[learning_rate_reduction,mc])\n",
        "# learning curves\n",
        "summarize_diagnostics(hst)"
      ]
    },
    {
      "cell_type": "code",
      "execution_count": 17,
      "metadata": {
        "colab": {
          "base_uri": "https://localhost:8080/"
        },
        "id": "SPz8NH1Oylv9",
        "outputId": "3cec57ad-fcff-40a7-a6b9-0880141aecad"
      },
      "outputs": [
        {
          "output_type": "stream",
          "name": "stdout",
          "text": [
            "model saved\n"
          ]
        }
      ],
      "source": [
        "#save last model\n",
        "last_model_fpath = '/content/drive/MyDrive/PHD/Model/last_model_'+exp_name+'_'+dataset_name+'.h5'\n",
        "model.save(last_model_fpath)\n",
        "print(\"model saved\")"
      ]
    },
    {
      "cell_type": "code",
      "execution_count": 18,
      "metadata": {
        "colab": {
          "base_uri": "https://localhost:8080/",
          "height": 295
        },
        "id": "vXnW3lmCgln3",
        "outputId": "ac434d73-6b05-43b3-805d-8bf48adde8d0"
      },
      "outputs": [
        {
          "output_type": "display_data",
          "data": {
            "text/plain": [
              "<Figure size 432x288 with 1 Axes>"
            ],
            "image/png": "[encoded data removed]"
          },
          "metadata": {
            "needs_background": "light"
          }
        }
      ],
      "source": [
        "# summarize history for accuracy\n",
        "plt.plot(hst.history['accuracy'])\n",
        "plt.plot(hst.history['balanced_acc'])\n",
        "plt.plot(hst.history['val_accuracy'])\n",
        "plt.plot(hst.history['val_balanced_acc'])\n",
        "plt.title('Model accuracy')\n",
        "plt.ylabel('Performance')\n",
        "plt.xlabel('epoch')\n",
        "plt.legend(['train accuracy', 'train balanced acc.', 'val. accuracy', 'val. balanced acc.'], loc='lower right')\n",
        "plt.show()"
      ]
    },
    {
      "cell_type": "markdown",
      "metadata": {
        "id": "icgjmi-4UIT-"
      },
      "source": [
        "#Evaluate"
      ]
    },
    {
      "cell_type": "code",
      "execution_count": 19,
      "metadata": {
        "colab": {
          "base_uri": "https://localhost:8080/"
        },
        "id": "lS3ewyxO_anU",
        "outputId": "f933aff2-f5cd-4c3b-c51e-4a3f42d67d20"
      },
      "outputs": [
        {
          "output_type": "stream",
          "name": "stdout",
          "text": [
            "440/440 [==============================] - 8s 16ms/step\n",
            "7/7 [==============================] - 0s 14ms/step\n",
            "accuracy on training 1.0\n",
            "balanced accuracy on training 1.0\n",
            "accuracy on validation 0.7823834196891192\n",
            "balanced accuracy on validation 0.7998793308897838\n",
            "Score on val data:  (0.6390462897138465, 0.7998793308897838, 0.6838565065574777, None)\n"
          ]
        }
      ],
      "source": [
        "#last_model_fpath = '/content/drive/MyDrive/PHD/Model/last_model_'+exp_name+'_'+dataset_name+'.h5'\n",
        "last_model = load_model(last_model_fpath, custom_objects={'balanced_acc' : balanced_acc})\n",
        "y_train_pred = last_model.predict(X_train)\n",
        "y_val_pred = last_model.predict(X_val)\n",
        "\n",
        "#print('accuracy on training',accuracy_score(np.argmax(y_train, axis=1), np.argmax(y_train_pred, axis=1)))\n",
        "print('accuracy on training',accuracy_score(np.argmax(y_train, axis=1), np.argmax(y_train_pred, axis=1)))\n",
        "print('balanced accuracy on training',balanced_accuracy_score(np.argmax(y_train, axis=1), np.argmax(y_train_pred, axis=1)))\n",
        "print('accuracy on validation',accuracy_score(np.argmax(y_val, axis=1), np.argmax(y_val_pred, axis=1)))\n",
        "print('balanced accuracy on validation',balanced_accuracy_score(np.argmax(y_val, axis=1), np.argmax(y_val_pred, axis=1)))\n",
        "print('Score on val data: ',precision_recall_fscore_support(np.argmax(y_val, axis=1), np.argmax(y_val_pred, axis=1), average='macro'))"
      ]
    },
    {
      "cell_type": "code",
      "execution_count": 20,
      "metadata": {
        "id": "W3IyWjdGG4Xq",
        "colab": {
          "base_uri": "https://localhost:8080/"
        },
        "outputId": "9bf41419-3e6c-46e1-f051-1fc491c23309"
      },
      "outputs": [
        {
          "output_type": "stream",
          "name": "stdout",
          "text": [
            "440/440 [==============================] - 8s 15ms/step\n",
            "7/7 [==============================] - 0s 14ms/step\n",
            "accuracy on training 0.9996448106840946\n",
            "balanced accuracy on training 0.9996448106840947\n",
            "accuracy on validation 0.7927461139896373\n",
            "balanced accuracy on validation 0.8215379278097048\n",
            "Score on val data:  (0.6290384046595227, 0.8215379278097048, 0.6907090015187508, None)\n"
          ]
        }
      ],
      "source": [
        "best_model = load_model(best_model_fpath, custom_objects={'balanced_acc' : balanced_acc})\n",
        "y_train_pred = best_model.predict(X_train)\n",
        "y_val_pred = best_model.predict(X_val)\n",
        "\n",
        "print('accuracy on training',accuracy_score(np.argmax(y_train, axis=1), np.argmax(y_train_pred, axis=1)))\n",
        "print('balanced accuracy on training',balanced_accuracy_score(np.argmax(y_train, axis=1), np.argmax(y_train_pred, axis=1)))\n",
        "print('accuracy on validation',accuracy_score(np.argmax(y_val, axis=1), np.argmax(y_val_pred, axis=1)))\n",
        "print('balanced accuracy on validation',balanced_accuracy_score(np.argmax(y_val, axis=1), np.argmax(y_val_pred, axis=1)))\n",
        "print('Score on val data: ',precision_recall_fscore_support(np.argmax(y_val, axis=1), np.argmax(y_val_pred, axis=1), average='macro'))"
      ]
    },
    {
      "cell_type": "markdown",
      "metadata": {
        "id": "iDRWiTnO0MGh"
      },
      "source": [
        "#Cut-off"
      ]
    },
    {
      "cell_type": "code",
      "execution_count": 21,
      "metadata": {
        "id": "tGnCoIdLyDHS"
      },
      "outputs": [],
      "source": [
        "df_val_pred = pd.DataFrame(y_val_pred, columns = ['AKIEC', 'BCC', 'BKL', 'DF', 'MEL', 'NV', 'VASC'])"
      ]
    },
    {
      "cell_type": "code",
      "execution_count": 22,
      "metadata": {
        "id": "QdyCbloQyWTC",
        "colab": {
          "base_uri": "https://localhost:8080/",
          "height": 337
        },
        "outputId": "dbf28bf2-39b1-48fc-870f-b9d49bf06c37"
      },
      "outputs": [
        {
          "output_type": "execute_result",
          "data": {
            "text/plain": [
              "          AKIEC           BCC       BKL            DF           MEL  \\\n",
              "0  6.858632e-05  9.347001e-01  0.000088  1.030894e-03  5.681600e-02   \n",
              "1  3.763358e-09  3.471821e-11  0.000035  6.378121e-11  4.305929e-06   \n",
              "2  3.644304e-07  9.999733e-01  0.000010  2.673791e-08  1.521226e-09   \n",
              "3  4.945608e-12  8.832291e-11  0.000008  3.340741e-12  8.074949e-05   \n",
              "4  3.491452e-10  2.854118e-13  0.000004  4.878277e-14  1.720363e-06   \n",
              "\n",
              "             NV          VASC  0.0  0.025  0.05  0.075  0.1  0.125  0.15  \\\n",
              "0  5.578888e-03  1.717629e-03    1      1     1      0    0      0     0   \n",
              "1  9.999605e-01  4.474993e-12    1      0     0      0    0      0     0   \n",
              "2  7.551364e-08  1.634976e-05    1      0     0      0    0      0     0   \n",
              "3  9.999113e-01  1.441763e-11    1      0     0      0    0      0     0   \n",
              "4  9.999946e-01  2.775056e-14    1      0     0      0    0      0     0   \n",
              "\n",
              "   0.175  0.2  0.225  0.25  \n",
              "0      0    0      0     0  \n",
              "1      0    0      0     0  \n",
              "2      0    0      0     0  \n",
              "3      0    0      0     0  \n",
              "4      0    0      0     0  "
            ],
            "text/html": [
              "\n",
              "  <div id=\"df-d9c6d17e-3581-4f19-972c-3c237a94993e\">\n",
              "    <div class=\"colab-df-container\">\n",
              "      <div>\n",
              "<style scoped>\n",
              "    .dataframe tbody tr th:only-of-type {\n",
              "        vertical-align: middle;\n",
              "    }\n",
              "\n",
              "    .dataframe tbody tr th {\n",
              "        vertical-align: top;\n",
              "    }\n",
              "\n",
              "    .dataframe thead th {\n",
              "        text-align: right;\n",
              "    }\n",
              "</style>\n",
              "<table border=\"1\" class=\"dataframe\">\n",
              "  <thead>\n",
              "    <tr style=\"text-align: right;\">\n",
              "      <th></th>\n",
              "      <th>AKIEC</th>\n",
              "      <th>BCC</th>\n",
              "      <th>BKL</th>\n",
              "      <th>DF</th>\n",
              "      <th>MEL</th>\n",
              "      <th>NV</th>\n",
              "      <th>VASC</th>\n",
              "      <th>0.0</th>\n",
              "      <th>0.025</th>\n",
              "      <th>0.05</th>\n",
              "      <th>0.075</th>\n",
              "      <th>0.1</th>\n",
              "      <th>0.125</th>\n",
              "      <th>0.15</th>\n",
              "      <th>0.175</th>\n",
              "      <th>0.2</th>\n",
              "      <th>0.225</th>\n",
              "      <th>0.25</th>\n",
              "    </tr>\n",
              "  </thead>\n",
              "  <tbody>\n",
              "    <tr>\n",
              "      <th>0</th>\n",
              "      <td>6.858632e-05</td>\n",
              "      <td>9.347001e-01</td>\n",
              "      <td>0.000088</td>\n",
              "      <td>1.030894e-03</td>\n",
              "      <td>5.681600e-02</td>\n",
              "      <td>5.578888e-03</td>\n",
              "      <td>1.717629e-03</td>\n",
              "      <td>1</td>\n",
              "      <td>1</td>\n",
              "      <td>1</td>\n",
              "      <td>0</td>\n",
              "      <td>0</td>\n",
              "      <td>0</td>\n",
              "      <td>0</td>\n",
              "      <td>0</td>\n",
              "      <td>0</td>\n",
              "      <td>0</td>\n",
              "      <td>0</td>\n",
              "    </tr>\n",
              "    <tr>\n",
              "      <th>1</th>\n",
              "      <td>3.763358e-09</td>\n",
              "      <td>3.471821e-11</td>\n",
              "      <td>0.000035</td>\n",
              "      <td>6.378121e-11</td>\n",
              "      <td>4.305929e-06</td>\n",
              "      <td>9.999605e-01</td>\n",
              "      <td>4.474993e-12</td>\n",
              "      <td>1</td>\n",
              "      <td>0</td>\n",
              "      <td>0</td>\n",
              "      <td>0</td>\n",
              "      <td>0</td>\n",
              "      <td>0</td>\n",
              "      <td>0</td>\n",
              "      <td>0</td>\n",
              "      <td>0</td>\n",
              "      <td>0</td>\n",
              "      <td>0</td>\n",
              "    </tr>\n",
              "    <tr>\n",
              "      <th>2</th>\n",
              "      <td>3.644304e-07</td>\n",
              "      <td>9.999733e-01</td>\n",
              "      <td>0.000010</td>\n",
              "      <td>2.673791e-08</td>\n",
              "      <td>1.521226e-09</td>\n",
              "      <td>7.551364e-08</td>\n",
              "      <td>1.634976e-05</td>\n",
              "      <td>1</td>\n",
              "      <td>0</td>\n",
              "      <td>0</td>\n",
              "      <td>0</td>\n",
              "      <td>0</td>\n",
              "      <td>0</td>\n",
              "      <td>0</td>\n",
              "      <td>0</td>\n",
              "      <td>0</td>\n",
              "      <td>0</td>\n",
              "      <td>0</td>\n",
              "    </tr>\n",
              "    <tr>\n",
              "      <th>3</th>\n",
              "      <td>4.945608e-12</td>\n",
              "      <td>8.832291e-11</td>\n",
              "      <td>0.000008</td>\n",
              "      <td>3.340741e-12</td>\n",
              "      <td>8.074949e-05</td>\n",
              "      <td>9.999113e-01</td>\n",
              "      <td>1.441763e-11</td>\n",
              "      <td>1</td>\n",
              "      <td>0</td>\n",
              "      <td>0</td>\n",
              "      <td>0</td>\n",
              "      <td>0</td>\n",
              "      <td>0</td>\n",
              "      <td>0</td>\n",
              "      <td>0</td>\n",
              "      <td>0</td>\n",
              "      <td>0</td>\n",
              "      <td>0</td>\n",
              "    </tr>\n",
              "    <tr>\n",
              "      <th>4</th>\n",
              "      <td>3.491452e-10</td>\n",
              "      <td>2.854118e-13</td>\n",
              "      <td>0.000004</td>\n",
              "      <td>4.878277e-14</td>\n",
              "      <td>1.720363e-06</td>\n",
              "      <td>9.999946e-01</td>\n",
              "      <td>2.775056e-14</td>\n",
              "      <td>1</td>\n",
              "      <td>0</td>\n",
              "      <td>0</td>\n",
              "      <td>0</td>\n",
              "      <td>0</td>\n",
              "      <td>0</td>\n",
              "      <td>0</td>\n",
              "      <td>0</td>\n",
              "      <td>0</td>\n",
              "      <td>0</td>\n",
              "      <td>0</td>\n",
              "    </tr>\n",
              "  </tbody>\n",
              "</table>\n",
              "</div>\n",
              "      <button class=\"colab-df-convert\" onclick=\"convertToInteractive('df-d9c6d17e-3581-4f19-972c-3c237a94993e')\"\n",
              "              title=\"Convert this dataframe to an interactive table.\"\n",
              "              style=\"display:none;\">\n",
              "        \n",
              "  <svg xmlns=\"http://www.w3.org/2000/svg\" height=\"24px\"viewBox=\"0 0 24 24\"\n",
              "       width=\"24px\">\n",
              "    <path d=\"M0 0h24v24H0V0z\" fill=\"none\"/>\n",
              "    <path d=\"M18.56 5.44l.94 2.06.94-2.06 2.06-.94-2.06-.94-.94-2.06-.94 2.06-2.06.94zm-11 1L8.5 8.5l.94-2.06 2.06-.94-2.06-.94L8.5 2.5l-.94 2.06-2.06.94zm10 10l.94 2.06.94-2.06 2.06-.94-2.06-.94-.94-2.06-.94 2.06-2.06.94z\"/><path d=\"M17.41 7.96l-1.37-1.37c-.4-.4-.92-.59-1.43-.59-.52 0-1.04.2-1.43.59L10.3 9.45l-7.72 7.72c-.78.78-.78 2.05 0 2.83L4 21.41c.39.39.9.59 1.41.59.51 0 1.02-.2 1.41-.59l7.78-7.78 2.81-2.81c.8-.78.8-2.07 0-2.86zM5.41 20L4 18.59l7.72-7.72 1.47 1.35L5.41 20z\"/>\n",
              "  </svg>\n",
              "      </button>\n",
              "      \n",
              "  <style>\n",
              "    .colab-df-container {\n",
              "      display:flex;\n",
              "      flex-wrap:wrap;\n",
              "      gap: 12px;\n",
              "    }\n",
              "\n",
              "    .colab-df-convert {\n",
              "      background-color: #E8F0FE;\n",
              "      border: none;\n",
              "      border-radius: 50%;\n",
              "      cursor: pointer;\n",
              "      display: none;\n",
              "      fill: #1967D2;\n",
              "      height: 32px;\n",
              "      padding: 0 0 0 0;\n",
              "      width: 32px;\n",
              "    }\n",
              "\n",
              "    .colab-df-convert:hover {\n",
              "      background-color: #E2EBFA;\n",
              "      box-shadow: 0px 1px 2px rgba(60, 64, 67, 0.3), 0px 1px 3px 1px rgba(60, 64, 67, 0.15);\n",
              "      fill: #174EA6;\n",
              "    }\n",
              "\n",
              "    [theme=dark] .colab-df-convert {\n",
              "      background-color: #3B4455;\n",
              "      fill: #D2E3FC;\n",
              "    }\n",
              "\n",
              "    [theme=dark] .colab-df-convert:hover {\n",
              "      background-color: #434B5C;\n",
              "      box-shadow: 0px 1px 3px 1px rgba(0, 0, 0, 0.15);\n",
              "      filter: drop-shadow(0px 1px 2px rgba(0, 0, 0, 0.3));\n",
              "      fill: #FFFFFF;\n",
              "    }\n",
              "  </style>\n",
              "\n",
              "      <script>\n",
              "        const buttonEl =\n",
              "          document.querySelector('#df-d9c6d17e-3581-4f19-972c-3c237a94993e button.colab-df-convert');\n",
              "        buttonEl.style.display =\n",
              "          google.colab.kernel.accessAllowed ? 'block' : 'none';\n",
              "\n",
              "        async function convertToInteractive(key) {\n",
              "          const element = document.querySelector('#df-d9c6d17e-3581-4f19-972c-3c237a94993e');\n",
              "          const dataTable =\n",
              "            await google.colab.kernel.invokeFunction('convertToInteractive',\n",
              "                                                     [key], {});\n",
              "          if (!dataTable) return;\n",
              "\n",
              "          const docLinkHtml = 'Like what you see? Visit the ' +\n",
              "            '<a target=\"_blank\" href=https://colab.research.google.com/notebooks/data_table.ipynb>data table notebook</a>'\n",
              "            + ' to learn more about interactive tables.';\n",
              "          element.innerHTML = '';\n",
              "          dataTable['output_type'] = 'display_data';\n",
              "          await google.colab.output.renderOutput(dataTable, element);\n",
              "          const docLink = document.createElement('div');\n",
              "          docLink.innerHTML = docLinkHtml;\n",
              "          element.appendChild(docLink);\n",
              "        }\n",
              "      </script>\n",
              "    </div>\n",
              "  </div>\n",
              "  "
            ]
          },
          "metadata": {},
          "execution_count": 22
        }
      ],
      "source": [
        "numbers = [float(x)/40 for x in range(11)]\n",
        "for i in numbers:\n",
        "    df_val_pred[i]= df_val_pred.MEL.map(lambda x: 1 if x > i else 0)\n",
        "df_val_pred.head()"
      ]
    },
    {
      "cell_type": "code",
      "execution_count": 23,
      "metadata": {
        "id": "G4SQsRx73kgk"
      },
      "outputs": [],
      "source": [
        "y_val_true= [1 if x == 4 else 0 for x in np.argmax(y_val, axis=1)]"
      ]
    },
    {
      "cell_type": "code",
      "execution_count": 24,
      "metadata": {
        "id": "QcUISWFi0J05"
      },
      "outputs": [],
      "source": [
        "#num = [0.0,0.05,0.1,0.15,0.2,0.25,0.3,0.35,0.4,0.45,0.5]\n",
        "cutoff_df = pd.DataFrame( columns = ['Probability','Accuracy','Sensitivity','Specificity'])\n",
        "for i in numbers:\n",
        "    cm1 = confusion_matrix(y_val_true, df_val_pred[i])\n",
        "    total1=sum(sum(cm1))\n",
        "    Accuracy = (cm1[0,0]+cm1[1,1])/total1\n",
        "    Specificity = cm1[0,0]/(cm1[0,0]+cm1[0,1])\n",
        "    Sensitivity = cm1[1,1]/(cm1[1,0]+cm1[1,1])\n",
        "    cutoff_df.loc[i] =[ i ,Accuracy,Sensitivity,Specificity]"
      ]
    },
    {
      "cell_type": "code",
      "execution_count": 25,
      "metadata": {
        "id": "W31LSzov1tCt",
        "colab": {
          "base_uri": "https://localhost:8080/",
          "height": 265
        },
        "outputId": "1199b689-573e-489b-b487-82976d1f5681"
      },
      "outputs": [
        {
          "output_type": "display_data",
          "data": {
            "text/plain": [
              "<Figure size 432x288 with 1 Axes>"
            ],
            "image/png": "[encoded data removed]"
          },
          "metadata": {
            "needs_background": "light"
          }
        }
      ],
      "source": [
        "cutoff_df[['Accuracy','Sensitivity','Specificity']].plot()\n",
        "\n",
        "plt.show()"
      ]
    },
    {
      "cell_type": "code",
      "execution_count": 26,
      "metadata": {
        "id": "P6CIKT94Jqye"
      },
      "outputs": [],
      "source": [
        "i = 0.125\n",
        "cm1 = confusion_matrix(y_val_true, df_val_pred[i])\n",
        "total1=sum(sum(cm1))\n",
        "Accuracy = (cm1[0,0]+cm1[1,1])/total1\n",
        "Specificity = cm1[0,0]/(cm1[0,0]+cm1[0,1])\n",
        "Sensitivity = cm1[1,1]/(cm1[1,0]+cm1[1,1])"
      ]
    },
    {
      "cell_type": "code",
      "execution_count": 27,
      "metadata": {
        "id": "3U2tkFebL_VC",
        "colab": {
          "base_uri": "https://localhost:8080/"
        },
        "outputId": "f53fcf0b-afbd-4934-a8ff-c39bfe8861da"
      },
      "outputs": [
        {
          "output_type": "stream",
          "name": "stdout",
          "text": [
            "Accuracy:  0.8549222797927462\n",
            "Sensitivity:  0.8571428571428571\n",
            "Specificity:  0.8546511627906976\n"
          ]
        }
      ],
      "source": [
        "print('Accuracy: ', Accuracy)\n",
        "print('Sensitivity: ', Sensitivity)\n",
        "print('Specificity: ', Specificity)"
      ]
    },
    {
      "cell_type": "markdown",
      "metadata": {
        "id": "eaK4zbtoaAaC"
      },
      "source": [
        "#Confusion Metric on Validation Set"
      ]
    },
    {
      "cell_type": "code",
      "execution_count": 28,
      "metadata": {
        "id": "YkPOFLehOmFg"
      },
      "outputs": [],
      "source": [
        "#change melanoma flag back to 4\n",
        "df_val_pred[df_val_pred[i] == 1] = 4\n",
        "#decode one-hot y_val_pred while use cut-off melanoma data\n",
        "condition = df_val_pred[i] == 4\n",
        "y_val_pred2 = np.where(condition, df_val_pred[i], np.argmax(y_val_pred, axis=1))"
      ]
    },
    {
      "cell_type": "code",
      "execution_count": 29,
      "metadata": {
        "id": "LOVl6dWlTDLo",
        "colab": {
          "base_uri": "https://localhost:8080/"
        },
        "outputId": "cae43fc6-896e-485d-ef2c-7bb71849fc6a"
      },
      "outputs": [
        {
          "output_type": "stream",
          "name": "stdout",
          "text": [
            "Accuracy:  0.7357512953367875\n",
            "Balanced accuracy:  0.7953768647148438\n"
          ]
        }
      ],
      "source": [
        "print('Accuracy: ',accuracy_score(np.argmax(y_val, axis=1), y_val_pred2))\n",
        "print('Balanced accuracy: ',balanced_accuracy_score(np.argmax(y_val, axis=1), y_val_pred2))"
      ]
    },
    {
      "cell_type": "code",
      "execution_count": 30,
      "metadata": {
        "id": "mqvYutTKRhR_",
        "colab": {
          "base_uri": "https://localhost:8080/"
        },
        "outputId": "b8f773d5-5f7a-46bd-e366-495bab05a55d"
      },
      "outputs": [
        {
          "output_type": "stream",
          "name": "stdout",
          "text": [
            "[[ 4  2  2  0  0  0  0]\n",
            " [ 0 14  0  0  1  0  0]\n",
            " [ 2  0 12  1  4  3  0]\n",
            " [ 0  0  0  1  0  0  0]\n",
            " [ 1  1  1  0 18  0  0]\n",
            " [ 1  5  5  1 20 90  1]\n",
            " [ 0  0  0  0  0  0  3]]\n"
          ]
        }
      ],
      "source": [
        "#Get the confusion matrix\n",
        "cf_matrix = confusion_matrix(np.argmax(y_val, axis=1), y_val_pred2)\n",
        "print(cf_matrix)"
      ]
    },
    {
      "cell_type": "code",
      "execution_count": 31,
      "metadata": {
        "id": "gVtvW3YeaLlC",
        "colab": {
          "base_uri": "https://localhost:8080/",
          "height": 340
        },
        "outputId": "8a76dd9c-1c22-49ef-ba07-89e2086bc6ca"
      },
      "outputs": [
        {
          "output_type": "display_data",
          "data": {
            "text/plain": [
              "<Figure size 432x288 with 2 Axes>"
            ],
            "image/png": "[encoded data removed]"
          },
          "metadata": {
            "needs_background": "light"
          }
        }
      ],
      "source": [
        "ax = sns.heatmap(cf_matrix / cf_matrix.sum(axis=1, keepdims=True), annot=True, \n",
        "            cmap='Blues')\n",
        "\n",
        "ax.set_title('Confusion Matrix \\n');\n",
        "ax.set_xlabel('\\nPredicted')\n",
        "ax.set_ylabel('Actual ');\n",
        "\n",
        "## Ticket labels - List must be in alphabetical order\n",
        "ax.xaxis.set_ticklabels(['AKIEC', 'BCC', 'BKL', 'DF', 'MEL', 'NV', 'VASC'])\n",
        "ax.yaxis.set_ticklabels(['AKIEC', 'BCC', 'BKL', 'DF', 'MEL', 'NV', 'VASC'])\n",
        "\n",
        "plt.rcParams[\"figure.figsize\"] = (15,3)\n",
        "\n",
        "## Display the visualization of the Confusion Matrix.\n",
        "plt.xticks(rotation=45, ha='right')\n",
        "plt.yticks(rotation=0, ha='right')\n",
        "plt.show()"
      ]
    },
    {
      "cell_type": "code",
      "execution_count": null,
      "metadata": {
        "id": "Ey-1yjWGeKs7"
      },
      "outputs": [],
      "source": [
        "# ordered count of rows per unique label\n",
        "#labels_count = df_val['Labels'].value_counts().sort_index()\n",
        "\n",
        "#f = plt.figure(figsize=(15, 6))\n",
        "#s = sns.barplot(x=labels_count.index,y=labels_count.values)\n",
        "#s.set_xticklabels(s.get_xticklabels(), rotation = 30)"
      ]
    },
    {
      "cell_type": "markdown",
      "metadata": {
        "id": "3K908bbiYwbS"
      },
      "source": [
        "#Testing"
      ]
    },
    {
      "cell_type": "code",
      "execution_count": null,
      "metadata": {
        "colab": {
          "base_uri": "https://localhost:8080/"
        },
        "id": "cN98sOWPyT3P",
        "outputId": "2316c488-05c7-4494-8159-333a4ec5c717"
      },
      "outputs": [
        {
          "data": {
            "text/plain": [
              "(1512, 224, 224, 3)"
            ]
          },
          "execution_count": 19,
          "metadata": {},
          "output_type": "execute_result"
        }
      ],
      "source": [
        "df_test = pd.read_pickle(path+\"isic2018_test.pkl\")\n",
        "X_test = df_test.loc[:, df_test.columns != 'y_train'].to_numpy()\n",
        "X_test = X_test.reshape(-1,IMAGE_W,IMAGE_H,3)\n",
        "X_test.shape"
      ]
    },
    {
      "cell_type": "code",
      "execution_count": 32,
      "metadata": {
        "id": "NeMY2yvMYxsC"
      },
      "outputs": [],
      "source": [
        "dir_test = '/content/drive/MyDrive/PHD/Datasets/isic2018/ISIC2018_Task3_Test_Input/'\n",
        "filepaths = sorted( filter( lambda x: (os.path.isfile(os.path.join(dir_test, x))) and (x.endswith('.jpg')),\n",
        "                        os.listdir(dir_test) ) )"
      ]
    },
    {
      "cell_type": "code",
      "execution_count": 33,
      "metadata": {
        "id": "6ic95mefkpG3"
      },
      "outputs": [],
      "source": [
        "df_test = pd.DataFrame(filepaths, columns =['image'])\n",
        "df_test['FilePaths'] = dir_test + df_test['image']"
      ]
    },
    {
      "cell_type": "code",
      "execution_count": 34,
      "metadata": {
        "id": "NBa1TxPuY8ni"
      },
      "outputs": [],
      "source": [
        "df_test['image_px'] = df_test['FilePaths'].map(lambda x: np.asarray(Image.open(x).resize(IMG_SIZE)))"
      ]
    },
    {
      "cell_type": "code",
      "execution_count": 35,
      "metadata": {
        "colab": {
          "base_uri": "https://localhost:8080/"
        },
        "id": "60LYAT7VsNOZ",
        "outputId": "1ce27f9e-f02a-45e5-c508-205fec67cd28"
      },
      "outputs": [
        {
          "output_type": "stream",
          "name": "stdout",
          "text": [
            "(1512, 64, 64, 3)\n"
          ]
        }
      ],
      "source": [
        "X_test = np.asarray(df_test['image_px'].tolist())\n",
        "print(np.array(X_test).shape)"
      ]
    },
    {
      "cell_type": "code",
      "execution_count": 36,
      "metadata": {
        "id": "cXnnIIwC4cHE"
      },
      "outputs": [],
      "source": [
        "#preprocess\n",
        "X_test = preprocess_image_input(X_test)"
      ]
    },
    {
      "cell_type": "code",
      "execution_count": 37,
      "metadata": {
        "id": "JC17MArBxhSW"
      },
      "outputs": [],
      "source": [
        "df3 = pd.DataFrame(X_test.reshape(X_test.shape[0],-1))\n",
        "df3.to_pickle(path+\"isic2018_test_\"+dataset_name+\".pkl\")"
      ]
    },
    {
      "cell_type": "markdown",
      "metadata": {
        "id": "FF7ml90JZ8FK"
      },
      "source": [
        "Calculate y_pred from training and testing for analysis"
      ]
    },
    {
      "cell_type": "code",
      "execution_count": null,
      "metadata": {
        "colab": {
          "base_uri": "https://localhost:8080/"
        },
        "id": "KeDTXdaMLmyU",
        "outputId": "a6ea64da-79f0-424f-f913-5b0bd6c66170"
      },
      "outputs": [
        {
          "data": {
            "text/plain": [
              "(1512, 2048)"
            ]
          },
          "execution_count": 34,
          "metadata": {},
          "output_type": "execute_result"
        }
      ],
      "source": [
        "#FOR MAKING FEATURE SPACE DATA\n",
        "X_test = model1.predict(X_test)\n",
        "X_test.shape"
      ]
    },
    {
      "cell_type": "code",
      "execution_count": 38,
      "metadata": {
        "colab": {
          "base_uri": "https://localhost:8080/"
        },
        "id": "dIX0AmEFNv3Y",
        "outputId": "88ce5e16-eb05-42e9-e734-aeb6c96bcbed"
      },
      "outputs": [
        {
          "output_type": "stream",
          "name": "stdout",
          "text": [
            "48/48 [==============================] - 1s 23ms/step\n",
            "Y_pred2 (1512, 7)\n"
          ]
        }
      ],
      "source": [
        "# predicting\n",
        "#CHANGE THE MODEL IF NECESSARY\n",
        "Y_pred2 = best_model.predict(X_test)\n",
        "#Y_pred2 = model2.predict(X_test)\n",
        "print(\"Y_pred2\", Y_pred2.shape)"
      ]
    },
    {
      "cell_type": "code",
      "execution_count": 39,
      "metadata": {
        "id": "7oeArO5CtxGb"
      },
      "outputs": [],
      "source": [
        "df_pred = pd.DataFrame(Y_pred2, columns = ['AKIEC', 'BCC', 'BKL', 'DF', 'MEL', 'NV', 'VASC'])\n",
        "df_pred['image'] = df_test['FilePaths'].map(lambda x: x.replace(dir_test, '').replace('.jpg', ''))\n",
        "df_pred = df_pred[['image', 'MEL', 'NV', 'BCC', 'AKIEC', 'BKL', 'DF', 'VASC']]\n",
        "df_pred.set_index(\"image\", inplace = True)"
      ]
    },
    {
      "cell_type": "code",
      "execution_count": null,
      "metadata": {
        "id": "9ynyd8PjT589"
      },
      "outputs": [],
      "source": [
        "#update MEL data using cut-off value\n",
        "df_pred.MEL[df_pred.MEL > i] = 1"
      ]
    },
    {
      "cell_type": "code",
      "execution_count": null,
      "metadata": {
        "id": "fjRdONoQVMq0"
      },
      "outputs": [],
      "source": [
        "df_pred.loc[df_pred.MEL > i, ['NV', 'BCC', 'AKIEC', 'BKL', 'DF', 'VASC']] = 0"
      ]
    },
    {
      "cell_type": "code",
      "execution_count": null,
      "metadata": {
        "id": "K4Iv_3s4z0R9"
      },
      "outputs": [],
      "source": [
        "df_pred.head(5)"
      ]
    },
    {
      "cell_type": "code",
      "execution_count": 40,
      "metadata": {
        "id": "sOnjc3RJ0e4T"
      },
      "outputs": [],
      "source": [
        "df_pred.to_csv('/content/drive/MyDrive/PHD/Datasets/isic2018/response_'+exp_name+'_'+dataset_name+'.csv')"
      ]
    },
    {
      "cell_type": "markdown",
      "metadata": {
        "id": "P0MghVs0tsGw"
      },
      "source": [
        "result: 0.601"
      ]
    },
    {
      "cell_type": "markdown",
      "metadata": {
        "id": "UswA0co2y1wl"
      },
      "source": [
        "#Exp"
      ]
    },
    {
      "cell_type": "code",
      "execution_count": null,
      "metadata": {
        "id": "dnqJYIONy34l"
      },
      "outputs": [],
      "source": [
        "input_tensor = Input(shape=(IMAGE_H, IMAGE_W, 3))\n",
        "base_model = ResNet50(input_shape=(224,224,3), weights='imagenet', include_top=False)\n",
        "x = base_model(input_tensor, training=False)\n",
        "x = Attention(2048,2048,7,8)(x)\n",
        "x = GlobalAveragePooling2D()(x)\n",
        "res50 = Model(inputs=input_tensor, outputs=x)"
      ]
    },
    {
      "cell_type": "code",
      "execution_count": null,
      "metadata": {
        "id": "Kcn8hQg3J8yP"
      },
      "outputs": [],
      "source": [
        "#Train i-last layer\n",
        "# summarize feature map shapes\n",
        "for i in range(len(model.layers)):\n",
        "    layer = model.layers[i]\n",
        "    # summarize output shape\n",
        "    print(i, layer.name, layer.output.shape)"
      ]
    },
    {
      "cell_type": "code",
      "execution_count": null,
      "metadata": {
        "id": "UA7Af2Y73FUv"
      },
      "outputs": [],
      "source": [
        "X_train = res50.predict(X_train)\n",
        "X_val = res50.predict(X_val)\n",
        "print(X_train.shape)\n",
        "print(y_train.shape)\n",
        "print(X_val.shape)\n",
        "print(y_val.shape)\n",
        "print('Counter train data: ', Counter(np.argmax(y_train, axis=1)))\n",
        "print('Counter val data: ', Counter(np.argmax(y_val, axis=1)))"
      ]
    },
    {
      "cell_type": "code",
      "execution_count": null,
      "metadata": {
        "id": "krJiAb1m3QNf"
      },
      "outputs": [],
      "source": [
        "X_train, y_train = SMOTE_Data2(X_train, y_train, True)\n",
        "print(X_train.shape)\n",
        "print(y_train.shape)\n",
        "print(X_val.shape)\n",
        "print(y_val.shape)\n",
        "print('Counter train data: ', Counter(np.argmax(y_train, axis=1)))\n",
        "print('Counter val data: ', Counter(np.argmax(y_val, axis=1)))"
      ]
    },
    {
      "cell_type": "markdown",
      "metadata": {
        "id": "LfcFpsBwM0d4"
      },
      "source": [
        "#Attention"
      ]
    },
    {
      "cell_type": "code",
      "execution_count": null,
      "metadata": {
        "colab": {
          "base_uri": "https://localhost:8080/",
          "height": 398
        },
        "id": "C_s6OIGKM26a",
        "outputId": "371bd24a-4bf9-491a-e0ec-78b7eb06e6d9"
      },
      "outputs": [
        {
          "ename": "AttributeError",
          "evalue": "ignored",
          "output_type": "error",
          "traceback": [
            "\u001b[0;31m---------------------------------------------------------------------------\u001b[0m",
            "\u001b[0;31mAttributeError\u001b[0m                            Traceback (most recent call last)",
            "\u001b[0;32m<ipython-input-3-ff488085aaa5>\u001b[0m in \u001b[0;36m<module>\u001b[0;34m\u001b[0m\n\u001b[0;32m----> 1\u001b[0;31m \u001b[0;32mimport\u001b[0m \u001b[0mtensorflow\u001b[0m \u001b[0;32mas\u001b[0m \u001b[0mtf\u001b[0m\u001b[0;34m\u001b[0m\u001b[0;34m\u001b[0m\u001b[0m\n\u001b[0m\u001b[1;32m      2\u001b[0m \u001b[0;32mimport\u001b[0m \u001b[0mtensorflow\u001b[0m\u001b[0;34m.\u001b[0m\u001b[0mkeras\u001b[0m \u001b[0;32mas\u001b[0m \u001b[0mtk\u001b[0m\u001b[0;34m\u001b[0m\u001b[0;34m\u001b[0m\u001b[0m\n\u001b[1;32m      3\u001b[0m \u001b[0;32mfrom\u001b[0m \u001b[0mtensorflow\u001b[0m\u001b[0;34m.\u001b[0m\u001b[0mkeras\u001b[0m\u001b[0;34m.\u001b[0m\u001b[0mlayers\u001b[0m \u001b[0;32mimport\u001b[0m \u001b[0mConv2D\u001b[0m\u001b[0;34m,\u001b[0m\u001b[0mMaxPooling2D\u001b[0m\u001b[0;34m,\u001b[0m\u001b[0mAveragePooling2D\u001b[0m\u001b[0;34m,\u001b[0m\u001b[0mBatchNormalization\u001b[0m\u001b[0;34m,\u001b[0m\u001b[0mAdd\u001b[0m\u001b[0;34m,\u001b[0m\u001b[0mZeroPadding2D\u001b[0m\u001b[0;34m,\u001b[0m\u001b[0mFlatten\u001b[0m\u001b[0;34m,\u001b[0m\u001b[0mDense\u001b[0m\u001b[0;34m,\u001b[0m\u001b[0mInput\u001b[0m\u001b[0;34m,\u001b[0m\u001b[0mLeakyReLU\u001b[0m\u001b[0;34m,\u001b[0m\u001b[0mSoftmax\u001b[0m\u001b[0;34m,\u001b[0m\u001b[0mReLU\u001b[0m\u001b[0;34m\u001b[0m\u001b[0;34m\u001b[0m\u001b[0m\n\u001b[1;32m      4\u001b[0m \u001b[0;32mfrom\u001b[0m \u001b[0mtensorflow\u001b[0m\u001b[0;34m.\u001b[0m\u001b[0mkeras\u001b[0m\u001b[0;34m.\u001b[0m\u001b[0moptimizers\u001b[0m \u001b[0;32mimport\u001b[0m \u001b[0mAdam\u001b[0m\u001b[0;34m\u001b[0m\u001b[0;34m\u001b[0m\u001b[0m\n\u001b[1;32m      5\u001b[0m \u001b[0;32mfrom\u001b[0m \u001b[0mtensorflow\u001b[0m\u001b[0;34m.\u001b[0m\u001b[0mkeras\u001b[0m\u001b[0;34m.\u001b[0m\u001b[0mmodels\u001b[0m \u001b[0;32mimport\u001b[0m \u001b[0mModel\u001b[0m\u001b[0;34m\u001b[0m\u001b[0;34m\u001b[0m\u001b[0m\n",
            "\u001b[0;32m/usr/local/lib/python3.7/dist-packages/tensorflow/__init__.py\u001b[0m in \u001b[0;36m<module>\u001b[0;34m\u001b[0m\n\u001b[1;32m    471\u001b[0m \u001b[0;32mif\u001b[0m \u001b[0mhasattr\u001b[0m\u001b[0;34m(\u001b[0m\u001b[0m_current_module\u001b[0m\u001b[0;34m,\u001b[0m \u001b[0;34m\"keras\"\u001b[0m\u001b[0;34m)\u001b[0m\u001b[0;34m:\u001b[0m\u001b[0;34m\u001b[0m\u001b[0;34m\u001b[0m\u001b[0m\n\u001b[1;32m    472\u001b[0m   \u001b[0;32mtry\u001b[0m\u001b[0;34m:\u001b[0m\u001b[0;34m\u001b[0m\u001b[0;34m\u001b[0m\u001b[0m\n\u001b[0;32m--> 473\u001b[0;31m     \u001b[0mkeras\u001b[0m\u001b[0;34m.\u001b[0m\u001b[0m_load\u001b[0m\u001b[0;34m(\u001b[0m\u001b[0;34m)\u001b[0m\u001b[0;34m\u001b[0m\u001b[0;34m\u001b[0m\u001b[0m\n\u001b[0m\u001b[1;32m    474\u001b[0m   \u001b[0;32mexcept\u001b[0m \u001b[0mImportError\u001b[0m\u001b[0;34m:\u001b[0m\u001b[0;34m\u001b[0m\u001b[0;34m\u001b[0m\u001b[0m\n\u001b[1;32m    475\u001b[0m     \u001b[0;32mpass\u001b[0m\u001b[0;34m\u001b[0m\u001b[0;34m\u001b[0m\u001b[0m\n",
            "\u001b[0;32m/usr/local/lib/python3.7/dist-packages/tensorflow/python/util/lazy_loader.py\u001b[0m in \u001b[0;36m_load\u001b[0;34m(self)\u001b[0m\n\u001b[1;32m     39\u001b[0m     \u001b[0;34m\"\"\"Load the module and insert it into the parent's globals.\"\"\"\u001b[0m\u001b[0;34m\u001b[0m\u001b[0;34m\u001b[0m\u001b[0m\n\u001b[1;32m     40\u001b[0m     \u001b[0;31m# Import the target module and insert it into the parent's namespace\u001b[0m\u001b[0;34m\u001b[0m\u001b[0;34m\u001b[0m\u001b[0;34m\u001b[0m\u001b[0m\n\u001b[0;32m---> 41\u001b[0;31m     \u001b[0mmodule\u001b[0m \u001b[0;34m=\u001b[0m \u001b[0mimportlib\u001b[0m\u001b[0;34m.\u001b[0m\u001b[0mimport_module\u001b[0m\u001b[0;34m(\u001b[0m\u001b[0mself\u001b[0m\u001b[0;34m.\u001b[0m\u001b[0m__name__\u001b[0m\u001b[0;34m)\u001b[0m\u001b[0;34m\u001b[0m\u001b[0;34m\u001b[0m\u001b[0m\n\u001b[0m\u001b[1;32m     42\u001b[0m     \u001b[0mself\u001b[0m\u001b[0;34m.\u001b[0m\u001b[0m_parent_module_globals\u001b[0m\u001b[0;34m[\u001b[0m\u001b[0mself\u001b[0m\u001b[0;34m.\u001b[0m\u001b[0m_local_name\u001b[0m\u001b[0;34m]\u001b[0m \u001b[0;34m=\u001b[0m \u001b[0mmodule\u001b[0m\u001b[0;34m\u001b[0m\u001b[0;34m\u001b[0m\u001b[0m\n\u001b[1;32m     43\u001b[0m \u001b[0;34m\u001b[0m\u001b[0m\n",
            "\u001b[0;32m/usr/lib/python3.7/importlib/__init__.py\u001b[0m in \u001b[0;36mimport_module\u001b[0;34m(name, package)\u001b[0m\n\u001b[1;32m    125\u001b[0m                 \u001b[0;32mbreak\u001b[0m\u001b[0;34m\u001b[0m\u001b[0;34m\u001b[0m\u001b[0m\n\u001b[1;32m    126\u001b[0m             \u001b[0mlevel\u001b[0m \u001b[0;34m+=\u001b[0m \u001b[0;36m1\u001b[0m\u001b[0;34m\u001b[0m\u001b[0;34m\u001b[0m\u001b[0m\n\u001b[0;32m--> 127\u001b[0;31m     \u001b[0;32mreturn\u001b[0m \u001b[0m_bootstrap\u001b[0m\u001b[0;34m.\u001b[0m\u001b[0m_gcd_import\u001b[0m\u001b[0;34m(\u001b[0m\u001b[0mname\u001b[0m\u001b[0;34m[\u001b[0m\u001b[0mlevel\u001b[0m\u001b[0;34m:\u001b[0m\u001b[0;34m]\u001b[0m\u001b[0;34m,\u001b[0m \u001b[0mpackage\u001b[0m\u001b[0;34m,\u001b[0m \u001b[0mlevel\u001b[0m\u001b[0;34m)\u001b[0m\u001b[0;34m\u001b[0m\u001b[0;34m\u001b[0m\u001b[0m\n\u001b[0m\u001b[1;32m    128\u001b[0m \u001b[0;34m\u001b[0m\u001b[0m\n\u001b[1;32m    129\u001b[0m \u001b[0;34m\u001b[0m\u001b[0m\n",
            "\u001b[0;32m/usr/local/lib/python3.7/dist-packages/keras/__init__.py\u001b[0m in \u001b[0;36m<module>\u001b[0;34m\u001b[0m\n\u001b[1;32m     23\u001b[0m \u001b[0;34m\u001b[0m\u001b[0m\n\u001b[1;32m     24\u001b[0m \u001b[0;31m# See b/110718070#comment18 for more details about this import.\u001b[0m\u001b[0;34m\u001b[0m\u001b[0;34m\u001b[0m\u001b[0;34m\u001b[0m\u001b[0m\n\u001b[0;32m---> 25\u001b[0;31m \u001b[0;32mfrom\u001b[0m \u001b[0mkeras\u001b[0m \u001b[0;32mimport\u001b[0m \u001b[0mmodels\u001b[0m\u001b[0;34m\u001b[0m\u001b[0;34m\u001b[0m\u001b[0m\n\u001b[0m\u001b[1;32m     26\u001b[0m \u001b[0;34m\u001b[0m\u001b[0m\n\u001b[1;32m     27\u001b[0m \u001b[0;32mfrom\u001b[0m \u001b[0mkeras\u001b[0m\u001b[0;34m.\u001b[0m\u001b[0mengine\u001b[0m\u001b[0;34m.\u001b[0m\u001b[0minput_layer\u001b[0m \u001b[0;32mimport\u001b[0m \u001b[0mInput\u001b[0m\u001b[0;34m\u001b[0m\u001b[0;34m\u001b[0m\u001b[0m\n",
            "\u001b[0;32m/usr/local/lib/python3.7/dist-packages/keras/models.py\u001b[0m in \u001b[0;36m<module>\u001b[0;34m\u001b[0m\n\u001b[1;32m     18\u001b[0m \u001b[0;32mimport\u001b[0m \u001b[0mtensorflow\u001b[0m\u001b[0;34m.\u001b[0m\u001b[0mcompat\u001b[0m\u001b[0;34m.\u001b[0m\u001b[0mv2\u001b[0m \u001b[0;32mas\u001b[0m \u001b[0mtf\u001b[0m\u001b[0;34m\u001b[0m\u001b[0;34m\u001b[0m\u001b[0m\n\u001b[1;32m     19\u001b[0m \u001b[0;32mfrom\u001b[0m \u001b[0mkeras\u001b[0m \u001b[0;32mimport\u001b[0m \u001b[0mbackend\u001b[0m\u001b[0;34m\u001b[0m\u001b[0;34m\u001b[0m\u001b[0m\n\u001b[0;32m---> 20\u001b[0;31m \u001b[0;32mfrom\u001b[0m \u001b[0mkeras\u001b[0m \u001b[0;32mimport\u001b[0m \u001b[0mmetrics\u001b[0m \u001b[0;32mas\u001b[0m \u001b[0mmetrics_module\u001b[0m\u001b[0;34m\u001b[0m\u001b[0;34m\u001b[0m\u001b[0m\n\u001b[0m\u001b[1;32m     21\u001b[0m \u001b[0;32mfrom\u001b[0m \u001b[0mkeras\u001b[0m \u001b[0;32mimport\u001b[0m \u001b[0moptimizer_v1\u001b[0m\u001b[0;34m\u001b[0m\u001b[0;34m\u001b[0m\u001b[0m\n\u001b[1;32m     22\u001b[0m \u001b[0;32mfrom\u001b[0m \u001b[0mkeras\u001b[0m\u001b[0;34m.\u001b[0m\u001b[0mengine\u001b[0m \u001b[0;32mimport\u001b[0m \u001b[0mfunctional\u001b[0m\u001b[0;34m\u001b[0m\u001b[0;34m\u001b[0m\u001b[0m\n",
            "\u001b[0;32m/usr/local/lib/python3.7/dist-packages/keras/metrics.py\u001b[0m in \u001b[0;36m<module>\u001b[0;34m\u001b[0m\n\u001b[1;32m     22\u001b[0m \u001b[0;32mimport\u001b[0m \u001b[0mwarnings\u001b[0m\u001b[0;34m\u001b[0m\u001b[0;34m\u001b[0m\u001b[0m\n\u001b[1;32m     23\u001b[0m \u001b[0;34m\u001b[0m\u001b[0m\n\u001b[0;32m---> 24\u001b[0;31m \u001b[0;32mfrom\u001b[0m \u001b[0mkeras\u001b[0m \u001b[0;32mimport\u001b[0m \u001b[0mactivations\u001b[0m\u001b[0;34m\u001b[0m\u001b[0;34m\u001b[0m\u001b[0m\n\u001b[0m\u001b[1;32m     25\u001b[0m \u001b[0;32mfrom\u001b[0m \u001b[0mkeras\u001b[0m \u001b[0;32mimport\u001b[0m \u001b[0mbackend\u001b[0m\u001b[0;34m\u001b[0m\u001b[0;34m\u001b[0m\u001b[0m\n\u001b[1;32m     26\u001b[0m \u001b[0;32mfrom\u001b[0m \u001b[0mkeras\u001b[0m\u001b[0;34m.\u001b[0m\u001b[0mengine\u001b[0m \u001b[0;32mimport\u001b[0m \u001b[0mbase_layer\u001b[0m\u001b[0;34m\u001b[0m\u001b[0;34m\u001b[0m\u001b[0m\n",
            "\u001b[0;32m/usr/local/lib/python3.7/dist-packages/keras/activations.py\u001b[0m in \u001b[0;36m<module>\u001b[0;34m\u001b[0m\n\u001b[1;32m     18\u001b[0m \u001b[0;34m\u001b[0m\u001b[0m\n\u001b[1;32m     19\u001b[0m \u001b[0;32mfrom\u001b[0m \u001b[0mkeras\u001b[0m \u001b[0;32mimport\u001b[0m \u001b[0mbackend\u001b[0m\u001b[0;34m\u001b[0m\u001b[0;34m\u001b[0m\u001b[0m\n\u001b[0;32m---> 20\u001b[0;31m \u001b[0;32mfrom\u001b[0m \u001b[0mkeras\u001b[0m\u001b[0;34m.\u001b[0m\u001b[0mlayers\u001b[0m \u001b[0;32mimport\u001b[0m \u001b[0madvanced_activations\u001b[0m\u001b[0;34m\u001b[0m\u001b[0;34m\u001b[0m\u001b[0m\n\u001b[0m\u001b[1;32m     21\u001b[0m \u001b[0;32mfrom\u001b[0m \u001b[0mkeras\u001b[0m\u001b[0;34m.\u001b[0m\u001b[0mutils\u001b[0m\u001b[0;34m.\u001b[0m\u001b[0mgeneric_utils\u001b[0m \u001b[0;32mimport\u001b[0m \u001b[0mdeserialize_keras_object\u001b[0m\u001b[0;34m\u001b[0m\u001b[0;34m\u001b[0m\u001b[0m\n\u001b[1;32m     22\u001b[0m \u001b[0;32mfrom\u001b[0m \u001b[0mkeras\u001b[0m\u001b[0;34m.\u001b[0m\u001b[0mutils\u001b[0m\u001b[0;34m.\u001b[0m\u001b[0mgeneric_utils\u001b[0m \u001b[0;32mimport\u001b[0m \u001b[0mserialize_keras_object\u001b[0m\u001b[0;34m\u001b[0m\u001b[0;34m\u001b[0m\u001b[0m\n",
            "\u001b[0;32m/usr/local/lib/python3.7/dist-packages/keras/layers/__init__.py\u001b[0m in \u001b[0;36m<module>\u001b[0;34m\u001b[0m\n\u001b[1;32m     25\u001b[0m \u001b[0;32mfrom\u001b[0m \u001b[0mkeras\u001b[0m\u001b[0;34m.\u001b[0m\u001b[0mengine\u001b[0m\u001b[0;34m.\u001b[0m\u001b[0minput_spec\u001b[0m \u001b[0;32mimport\u001b[0m \u001b[0mInputSpec\u001b[0m\u001b[0;34m\u001b[0m\u001b[0;34m\u001b[0m\u001b[0m\n\u001b[1;32m     26\u001b[0m \u001b[0;32mfrom\u001b[0m \u001b[0mkeras\u001b[0m\u001b[0;34m.\u001b[0m\u001b[0mengine\u001b[0m\u001b[0;34m.\u001b[0m\u001b[0mbase_layer\u001b[0m \u001b[0;32mimport\u001b[0m \u001b[0mLayer\u001b[0m\u001b[0;34m\u001b[0m\u001b[0;34m\u001b[0m\u001b[0m\n\u001b[0;32m---> 27\u001b[0;31m \u001b[0;32mfrom\u001b[0m \u001b[0mkeras\u001b[0m\u001b[0;34m.\u001b[0m\u001b[0mengine\u001b[0m\u001b[0;34m.\u001b[0m\u001b[0mbase_preprocessing_layer\u001b[0m \u001b[0;32mimport\u001b[0m \u001b[0mPreprocessingLayer\u001b[0m\u001b[0;34m\u001b[0m\u001b[0;34m\u001b[0m\u001b[0m\n\u001b[0m\u001b[1;32m     28\u001b[0m \u001b[0;34m\u001b[0m\u001b[0m\n\u001b[1;32m     29\u001b[0m \u001b[0;31m# Image preprocessing layers.\u001b[0m\u001b[0;34m\u001b[0m\u001b[0;34m\u001b[0m\u001b[0;34m\u001b[0m\u001b[0m\n",
            "\u001b[0;32m/usr/local/lib/python3.7/dist-packages/keras/engine/base_preprocessing_layer.py\u001b[0m in \u001b[0;36m<module>\u001b[0;34m\u001b[0m\n\u001b[1;32m     17\u001b[0m \u001b[0;32mimport\u001b[0m \u001b[0mabc\u001b[0m\u001b[0;34m\u001b[0m\u001b[0;34m\u001b[0m\u001b[0m\n\u001b[1;32m     18\u001b[0m \u001b[0;34m\u001b[0m\u001b[0m\n\u001b[0;32m---> 19\u001b[0;31m \u001b[0;32mfrom\u001b[0m \u001b[0mkeras\u001b[0m\u001b[0;34m.\u001b[0m\u001b[0mengine\u001b[0m \u001b[0;32mimport\u001b[0m \u001b[0mdata_adapter\u001b[0m\u001b[0;34m\u001b[0m\u001b[0;34m\u001b[0m\u001b[0m\n\u001b[0m\u001b[1;32m     20\u001b[0m \u001b[0;32mfrom\u001b[0m \u001b[0mkeras\u001b[0m\u001b[0;34m.\u001b[0m\u001b[0mengine\u001b[0m\u001b[0;34m.\u001b[0m\u001b[0mbase_layer\u001b[0m \u001b[0;32mimport\u001b[0m \u001b[0mLayer\u001b[0m\u001b[0;34m\u001b[0m\u001b[0;34m\u001b[0m\u001b[0m\n\u001b[1;32m     21\u001b[0m \u001b[0;32mfrom\u001b[0m \u001b[0mkeras\u001b[0m\u001b[0;34m.\u001b[0m\u001b[0mutils\u001b[0m \u001b[0;32mimport\u001b[0m \u001b[0mversion_utils\u001b[0m\u001b[0;34m\u001b[0m\u001b[0;34m\u001b[0m\u001b[0m\n",
            "\u001b[0;32m/usr/local/lib/python3.7/dist-packages/keras/engine/data_adapter.py\u001b[0m in \u001b[0;36m<module>\u001b[0;34m\u001b[0m\n\u001b[1;32m     36\u001b[0m \u001b[0;34m\u001b[0m\u001b[0m\n\u001b[1;32m     37\u001b[0m \u001b[0;32mtry\u001b[0m\u001b[0;34m:\u001b[0m\u001b[0;34m\u001b[0m\u001b[0;34m\u001b[0m\u001b[0m\n\u001b[0;32m---> 38\u001b[0;31m   \u001b[0;32mimport\u001b[0m \u001b[0mpandas\u001b[0m \u001b[0;32mas\u001b[0m \u001b[0mpd\u001b[0m  \u001b[0;31m# pylint: disable=g-import-not-at-top\u001b[0m\u001b[0;34m\u001b[0m\u001b[0;34m\u001b[0m\u001b[0m\n\u001b[0m\u001b[1;32m     39\u001b[0m \u001b[0;32mexcept\u001b[0m \u001b[0mImportError\u001b[0m\u001b[0;34m:\u001b[0m\u001b[0;34m\u001b[0m\u001b[0;34m\u001b[0m\u001b[0m\n\u001b[1;32m     40\u001b[0m   \u001b[0mpd\u001b[0m \u001b[0;34m=\u001b[0m \u001b[0;32mNone\u001b[0m\u001b[0;34m\u001b[0m\u001b[0;34m\u001b[0m\u001b[0m\n",
            "\u001b[0;32m/usr/local/lib/python3.7/dist-packages/pandas/__init__.py\u001b[0m in \u001b[0;36m<module>\u001b[0;34m\u001b[0m\n\u001b[1;32m    177\u001b[0m \u001b[0;34m\u001b[0m\u001b[0m\n\u001b[1;32m    178\u001b[0m \u001b[0;32mfrom\u001b[0m \u001b[0mpandas\u001b[0m\u001b[0;34m.\u001b[0m\u001b[0mutil\u001b[0m\u001b[0;34m.\u001b[0m\u001b[0m_tester\u001b[0m \u001b[0;32mimport\u001b[0m \u001b[0mtest\u001b[0m\u001b[0;34m\u001b[0m\u001b[0;34m\u001b[0m\u001b[0m\n\u001b[0;32m--> 179\u001b[0;31m \u001b[0;32mimport\u001b[0m \u001b[0mpandas\u001b[0m\u001b[0;34m.\u001b[0m\u001b[0mtesting\u001b[0m\u001b[0;34m\u001b[0m\u001b[0;34m\u001b[0m\u001b[0m\n\u001b[0m\u001b[1;32m    180\u001b[0m \u001b[0;32mimport\u001b[0m \u001b[0mpandas\u001b[0m\u001b[0;34m.\u001b[0m\u001b[0marrays\u001b[0m\u001b[0;34m\u001b[0m\u001b[0;34m\u001b[0m\u001b[0m\n\u001b[1;32m    181\u001b[0m \u001b[0;34m\u001b[0m\u001b[0m\n",
            "\u001b[0;32m/usr/local/lib/python3.7/dist-packages/pandas/testing.py\u001b[0m in \u001b[0;36m<module>\u001b[0;34m\u001b[0m\n\u001b[1;32m      4\u001b[0m \u001b[0;34m\u001b[0m\u001b[0m\n\u001b[1;32m      5\u001b[0m \u001b[0;34m\u001b[0m\u001b[0m\n\u001b[0;32m----> 6\u001b[0;31m from pandas._testing import (\n\u001b[0m\u001b[1;32m      7\u001b[0m     \u001b[0massert_extension_array_equal\u001b[0m\u001b[0;34m,\u001b[0m\u001b[0;34m\u001b[0m\u001b[0;34m\u001b[0m\u001b[0m\n\u001b[1;32m      8\u001b[0m     \u001b[0massert_frame_equal\u001b[0m\u001b[0;34m,\u001b[0m\u001b[0;34m\u001b[0m\u001b[0;34m\u001b[0m\u001b[0m\n",
            "\u001b[0;32m/usr/local/lib/python3.7/dist-packages/pandas/_testing/__init__.py\u001b[0m in \u001b[0;36m<module>\u001b[0;34m\u001b[0m\n\u001b[1;32m    946\u001b[0m \u001b[0;34m\u001b[0m\u001b[0m\n\u001b[1;32m    947\u001b[0m \u001b[0;34m\u001b[0m\u001b[0m\n\u001b[0;32m--> 948\u001b[0;31m \u001b[0mcython_table\u001b[0m \u001b[0;34m=\u001b[0m \u001b[0mpd\u001b[0m\u001b[0;34m.\u001b[0m\u001b[0mcore\u001b[0m\u001b[0;34m.\u001b[0m\u001b[0mcommon\u001b[0m\u001b[0;34m.\u001b[0m\u001b[0m_cython_table\u001b[0m\u001b[0;34m.\u001b[0m\u001b[0mitems\u001b[0m\u001b[0;34m(\u001b[0m\u001b[0;34m)\u001b[0m\u001b[0;34m\u001b[0m\u001b[0;34m\u001b[0m\u001b[0m\n\u001b[0m\u001b[1;32m    949\u001b[0m \u001b[0;34m\u001b[0m\u001b[0m\n\u001b[1;32m    950\u001b[0m \u001b[0;34m\u001b[0m\u001b[0m\n",
            "\u001b[0;31mAttributeError\u001b[0m: module 'pandas' has no attribute 'core'"
          ]
        }
      ],
      "source": [
        "import tensorflow as tf\n",
        "import tensorflow.keras as tk\n",
        "from tensorflow.keras.layers import Conv2D,MaxPooling2D,AveragePooling2D,BatchNormalization,Add,ZeroPadding2D,Flatten,Dense,Input,LeakyReLU,Softmax,ReLU\n",
        "from tensorflow.keras.optimizers import Adam\n",
        "from tensorflow.keras.models import Model\n",
        "import numpy as np\n",
        "import pickle\n",
        "import numpy as np\n",
        "from PIL import Image\n",
        "\n",
        "class Attention(tk.layers.Layer):\n",
        "    \n",
        "    def __init__(self,input_channels,output_channel,kernel_size,groups):\n",
        "        super().__init__()\n",
        "        self.input_channels = input_channels\n",
        "        self.output_channel = output_channel    \n",
        "        self.kernel_size = kernel_size\n",
        "        self.stride = 1\n",
        "        self.groups = groups\n",
        "\n",
        "        assert output_channel % groups == 0\n",
        "        \n",
        "        self.rel_h = tk.backend.variable(lambda : tk.backend.truncated_normal((1,1,kernel_size,1,output_channel//2),stddev = 0.1)) \n",
        "        #output_channels//2 is the number of channels on which the relative position will be considered,1 denotes the number of those filters and the one after that too and (kernel_size,1) denotes the size of that filter\n",
        "        self.rel_w = tk.backend.variable(lambda : tk.backend.truncated_normal((1,1,1,kernel_size,output_channel//2),stddev = 0.1)) \n",
        "\n",
        "        self.key_weights = Conv2D(self.output_channel,kernel_size = 1,strides = self.stride)\n",
        "        self.query_weights = Conv2D(self.output_channel,kernel_size = 1,strides = self.stride)\n",
        "        self.value_weights = Conv2D(self.output_channel,kernel_size = 1,strides = self.stride)\n",
        "\n",
        "    def call(self,x):\n",
        "        \n",
        "        batch,height,width,channels = x.shape\n",
        "        x_padded = ZeroPadding2D(padding=(self.kernel_size//2,self.kernel_size//2))(x)\n",
        "        query = self.query_weights(x)\n",
        "        value = self.value_weights(x_padded)\n",
        "        key = self.key_weights(x_padded)\n",
        "        #key,query and value will have the shape of (batch,height,width,depth)\n",
        "        keys = tf.image.extract_patches(images = key,sizes = [1,self.kernel_size,self.kernel_size,1],strides = [1,self.stride,self.stride,1],rates = [1,1,1,1], padding = \"VALID\")\n",
        "        value = tf.image.extract_patches(images = value,sizes = [1,self.kernel_size,self.kernel_size,1],strides = [1,self.stride,self.stride,1],rates = [1,1,1,1], padding = \"VALID\")\n",
        "        no_of_kernels = key.shape[-2] - self.kernel_size + 1\n",
        "        keys = tf.reshape(keys,shape = (-1,no_of_kernels, no_of_kernels,self.kernel_size,self.kernel_size,self.output_channel))\n",
        "        key_split_h,key_split_w = tf.split(keys,num_or_size_splits = 2,axis = -1)\n",
        "        key_with_rel = tk.layers.concatenate([key_split_h + self.rel_h,key_split_w + self.rel_w],axis = -1) \n",
        "        \n",
        "        #reshaping the query and key\n",
        "        key_with_rel = tf.reshape(key_with_rel,(-1,self.groups,no_of_kernels,no_of_kernels,self.kernel_size*self.kernel_size,self.output_channel//self.groups))\n",
        "        query  = tf.reshape(query,(-1,self.groups,no_of_kernels,no_of_kernels,1,self.output_channel//self.groups))        \n",
        "        value = tf.reshape(value,(-1,self.groups,no_of_kernels,no_of_kernels,self.kernel_size*self.kernel_size,self.output_channel//self.groups))\n",
        "        \n",
        "        #multiplication  of key and query\n",
        "        #assert key_with_rel.shape == query.shape        \n",
        "        key_prod_query = query*key_with_rel\n",
        "        \n",
        "        # Now the function is passed through the softmax and is multiplied with the values\n",
        "        s = Softmax(axis = -2)(key_prod_query)\n",
        "        y = tf.einsum('bnchwk,bnchwk->bnchk',s,value)\n",
        "        y = tf.reshape(y,(-1,height,width,self.output_channel))\n",
        "        return y\n",
        "\n",
        "    def get_config(self):\n",
        "        config = super().get_config().copy()\n",
        "        config.update({\n",
        "            \"input_channels\": self.input_channels, \n",
        "            \"output_channel\": self.output_channel, \n",
        "            \"kernel_size\": self.kernel_size, \n",
        "            \"stride\": self.stride, \n",
        "            \"groups\": self.groups, \n",
        "            \"rel_h\": self.rel_h, \n",
        "            \"rel_w\": self.rel_w, \n",
        "            \"key_weights\": self.key_weights, \n",
        "            \"query_weights\": self.query_weights, \n",
        "            \"value_weights\": self.value_weights\n",
        "        })\n",
        "        return config\n"
      ]
    },
    {
      "cell_type": "markdown",
      "metadata": {
        "id": "kE8Ziq-BlEP4"
      },
      "source": [
        "#Oversampling on feature map level"
      ]
    },
    {
      "cell_type": "code",
      "execution_count": null,
      "metadata": {
        "id": "wqfEP5L9BgcF"
      },
      "outputs": [],
      "source": [
        "model = best_model"
      ]
    },
    {
      "cell_type": "code",
      "execution_count": null,
      "metadata": {
        "colab": {
          "base_uri": "https://localhost:8080/"
        },
        "id": "Lm05Zet_B5am",
        "outputId": "fbfdf6eb-85ab-47da-dd67-9144153e76fe"
      },
      "outputs": [
        {
          "name": "stdout",
          "output_type": "stream",
          "text": [
            "0 input_1 [(None, 128, 128, 3)] True\n",
            "1 resnet50 (None, 4, 4, 2048) True\n",
            "2 global_average_pooling2d (None, 2048) True\n",
            "3 flatten (None, 2048) True\n",
            "4 dense (None, 1024) True\n",
            "5 dense_1 (None, 512) True\n",
            "6 dense_2 (None, 7) True\n"
          ]
        }
      ],
      "source": [
        "for i in range(len(model.layers)):\n",
        "  layer = model.layers[i]\n",
        "  print(i, layer.name, layer.output_shape, layer.trainable)"
      ]
    },
    {
      "cell_type": "code",
      "execution_count": null,
      "metadata": {
        "id": "KqeSic6NmLsR"
      },
      "outputs": [],
      "source": [
        "# redefine model to output right after the first hidden layer\n",
        "end = 2\n",
        "model1 = Model(inputs=model.inputs, outputs=model.layers[end].output)"
      ]
    },
    {
      "cell_type": "code",
      "execution_count": null,
      "metadata": {
        "colab": {
          "base_uri": "https://localhost:8080/"
        },
        "id": "ZVHYG9Rwm28i",
        "outputId": "458bfcaa-caad-4ada-9451-8f940b72defa"
      },
      "outputs": [
        {
          "name": "stdout",
          "output_type": "stream",
          "text": [
            "146/146 [==============================] - 6s 33ms/step\n",
            "7/7 [==============================] - 0s 31ms/step\n"
          ]
        }
      ],
      "source": [
        "# get feature map for first hidden layer\n",
        "X_train_fm = model1.predict(X_train)\n",
        "X_val_fm = model1.predict(X_val)"
      ]
    },
    {
      "cell_type": "code",
      "execution_count": null,
      "metadata": {
        "colab": {
          "base_uri": "https://localhost:8080/"
        },
        "id": "Xx0OnnZPl7_t",
        "outputId": "dfdab64b-92ae-4ca5-b79f-80072a38ff32"
      },
      "outputs": [
        {
          "name": "stdout",
          "output_type": "stream",
          "text": [
            "(4651, 2048)\n",
            "(4651, 7)\n",
            "(193, 2048)\n",
            "(193, 7)\n",
            "Counter train data:  Counter({5: 1341, 4: 1113, 2: 1099, 1: 514, 0: 327, 6: 142, 3: 115})\n",
            "Counter val data:  Counter({5: 123, 2: 22, 4: 21, 1: 15, 0: 8, 6: 3, 3: 1})\n"
          ]
        }
      ],
      "source": [
        "print(X_train_fm.shape)\n",
        "print(y_train.shape)\n",
        "print(X_val_fm.shape)\n",
        "print(y_val.shape)\n",
        "print('Counter train data: ', Counter(np.argmax(y_train, axis=1)))\n",
        "print('Counter val data: ', Counter(np.argmax(y_val, axis=1)))"
      ]
    },
    {
      "cell_type": "code",
      "execution_count": null,
      "metadata": {
        "colab": {
          "base_uri": "https://localhost:8080/"
        },
        "id": "19hK7aQNeAQo",
        "outputId": "692063d8-a6c6-4ed3-d48b-ad35990afbaf"
      },
      "outputs": [
        {
          "name": "stdout",
          "output_type": "stream",
          "text": [
            "(9987, 2048)\n",
            "(9987, 7)\n",
            "(193, 2048)\n",
            "(193, 7)\n",
            "Counter train data:  Counter({5: 1441, 4: 1441, 2: 1441, 0: 1441, 1: 1441, 6: 1441, 3: 1341})\n",
            "Counter val data:  Counter({5: 123, 2: 22, 4: 21, 1: 15, 0: 8, 6: 3, 3: 1})\n"
          ]
        }
      ],
      "source": [
        "X_train_fm_ov, y_train_ov = SMOTE_Data2(X_train, y_train, True, 5, type=\"borderline\")\n",
        "print(X_train_fm_ov.shape)\n",
        "print(y_train_ov.shape)\n",
        "print(X_val_fm.shape)\n",
        "print(y_val.shape)\n",
        "print('Counter train data: ', Counter(np.argmax(y_train_ov, axis=1)))\n",
        "print('Counter val data: ', Counter(np.argmax(y_val, axis=1)))"
      ]
    },
    {
      "cell_type": "code",
      "execution_count": null,
      "metadata": {
        "id": "5qP4iyYcnAYa"
      },
      "outputs": [],
      "source": [
        "model2 = Model(inputs=model.layers[end+1].input, outputs=model.layers[len(model.layers)-1].output)\n",
        "#model2 = define_base_model(arch = 'dense')"
      ]
    },
    {
      "cell_type": "code",
      "execution_count": null,
      "metadata": {
        "colab": {
          "base_uri": "https://localhost:8080/"
        },
        "id": "Pzdjs0WbvDB0",
        "outputId": "2f3c4624-af07-4c16-cfe6-295695195aff"
      },
      "outputs": [
        {
          "name": "stdout",
          "output_type": "stream",
          "text": [
            "best_model_fpath:/content/drive/MyDrive/PHD/Model/best_model_borderline_after_smote_on_featurespace_under80_128px.h5\n",
            "last_model_fpath:/content/drive/MyDrive/PHD/Model/last_model_borderline_after_smote_on_featurespace_under80_128px.h5\n",
            "Epoch 1/50\n",
            "153/156 [============================>.] - ETA: 0s - loss: 0.4016 - accuracy: 0.8682 - balanced_acc: 0.8692\n",
            "Epoch 1: val_balanced_acc improved from -inf to 0.42675, saving model to /content/drive/MyDrive/PHD/Model/best_model_borderline_after_smote_on_featurespace_under80_128px.h5\n",
            "156/156 [==============================] - 2s 6ms/step - loss: 0.4016 - accuracy: 0.8682 - balanced_acc: 0.8693 - val_loss: 0.6877 - val_accuracy: 0.7202 - val_balanced_acc: 0.4267 - lr: 0.0010\n",
            "Epoch 2/50\n",
            "149/156 [===========================>..] - ETA: 0s - loss: 0.3630 - accuracy: 0.8827 - balanced_acc: 0.8791\n",
            "Epoch 2: val_balanced_acc did not improve from 0.42675\n",
            "156/156 [==============================] - 1s 4ms/step - loss: 0.3636 - accuracy: 0.8818 - balanced_acc: 0.8785 - val_loss: 0.6546 - val_accuracy: 0.7617 - val_balanced_acc: 0.4160 - lr: 0.0010\n",
            "Epoch 3/50\n",
            "144/156 [==========================>...] - ETA: 0s - loss: 0.3374 - accuracy: 0.8924 - balanced_acc: 0.8888\n",
            "Epoch 3: val_balanced_acc did not improve from 0.42675\n",
            "156/156 [==============================] - 1s 4ms/step - loss: 0.3386 - accuracy: 0.8919 - balanced_acc: 0.8887 - val_loss: 0.6659 - val_accuracy: 0.7461 - val_balanced_acc: 0.4081 - lr: 0.0010\n",
            "Epoch 4/50\n",
            "153/156 [============================>.] - ETA: 0s - loss: 0.3193 - accuracy: 0.9011 - balanced_acc: 0.8976\n",
            "Epoch 4: val_balanced_acc improved from 0.42675 to 0.43782, saving model to /content/drive/MyDrive/PHD/Model/best_model_borderline_after_smote_on_featurespace_under80_128px.h5\n",
            "156/156 [==============================] - 1s 4ms/step - loss: 0.3201 - accuracy: 0.9005 - balanced_acc: 0.8972 - val_loss: 0.6597 - val_accuracy: 0.7513 - val_balanced_acc: 0.4378 - lr: 0.0010\n",
            "Epoch 5/50\n",
            "145/156 [==========================>...] - ETA: 0s - loss: 0.3072 - accuracy: 0.9042 - balanced_acc: 0.9002\n",
            "Epoch 5: val_balanced_acc did not improve from 0.43782\n",
            "156/156 [==============================] - 1s 4ms/step - loss: 0.3089 - accuracy: 0.9024 - balanced_acc: 0.8986 - val_loss: 0.6315 - val_accuracy: 0.7617 - val_balanced_acc: 0.4189 - lr: 0.0010\n",
            "Epoch 6/50\n",
            "155/156 [============================>.] - ETA: 0s - loss: 0.2947 - accuracy: 0.9071 - balanced_acc: 0.9065\n",
            "Epoch 6: val_balanced_acc did not improve from 0.43782\n",
            "156/156 [==============================] - 1s 4ms/step - loss: 0.2948 - accuracy: 0.9072 - balanced_acc: 0.9066 - val_loss: 0.6740 - val_accuracy: 0.7306 - val_balanced_acc: 0.4000 - lr: 0.0010\n",
            "Epoch 7/50\n",
            "143/156 [==========================>...] - ETA: 0s - loss: 0.2854 - accuracy: 0.9118 - balanced_acc: 0.9148\n",
            "Epoch 7: val_balanced_acc improved from 0.43782 to 0.45081, saving model to /content/drive/MyDrive/PHD/Model/best_model_borderline_after_smote_on_featurespace_under80_128px.h5\n",
            "156/156 [==============================] - 1s 4ms/step - loss: 0.2854 - accuracy: 0.9117 - balanced_acc: 0.9148 - val_loss: 0.6830 - val_accuracy: 0.7358 - val_balanced_acc: 0.4508 - lr: 0.0010\n",
            "Epoch 8/50\n",
            "155/156 [============================>.] - ETA: 0s - loss: 0.2753 - accuracy: 0.9149 - balanced_acc: 0.9115\n",
            "Epoch 8: val_balanced_acc improved from 0.45081 to 0.45762, saving model to /content/drive/MyDrive/PHD/Model/best_model_borderline_after_smote_on_featurespace_under80_128px.h5\n",
            "156/156 [==============================] - 1s 4ms/step - loss: 0.2757 - accuracy: 0.9147 - balanced_acc: 0.9113 - val_loss: 0.6377 - val_accuracy: 0.7617 - val_balanced_acc: 0.4576 - lr: 0.0010\n",
            "Epoch 9/50\n",
            "142/156 [==========================>...] - ETA: 0s - loss: 0.2705 - accuracy: 0.9157 - balanced_acc: 0.9120\n",
            "Epoch 9: val_balanced_acc improved from 0.45762 to 0.45975, saving model to /content/drive/MyDrive/PHD/Model/best_model_borderline_after_smote_on_featurespace_under80_128px.h5\n",
            "156/156 [==============================] - 1s 4ms/step - loss: 0.2666 - accuracy: 0.9174 - balanced_acc: 0.9136 - val_loss: 0.6718 - val_accuracy: 0.7617 - val_balanced_acc: 0.4597 - lr: 0.0010\n",
            "Epoch 10/50\n",
            "141/156 [==========================>...] - ETA: 0s - loss: 0.2623 - accuracy: 0.9206 - balanced_acc: 0.9167\n",
            "Epoch 10: val_balanced_acc did not improve from 0.45975\n",
            "156/156 [==============================] - 1s 3ms/step - loss: 0.2622 - accuracy: 0.9203 - balanced_acc: 0.9169 - val_loss: 0.6259 - val_accuracy: 0.7720 - val_balanced_acc: 0.4230 - lr: 0.0010\n",
            "Epoch 11/50\n",
            "143/156 [==========================>...] - ETA: 0s - loss: 0.2528 - accuracy: 0.9249 - balanced_acc: 0.9216\n",
            "Epoch 11: val_balanced_acc did not improve from 0.45975\n",
            "156/156 [==============================] - 1s 3ms/step - loss: 0.2522 - accuracy: 0.9248 - balanced_acc: 0.9220 - val_loss: 0.6355 - val_accuracy: 0.7617 - val_balanced_acc: 0.4208 - lr: 0.0010\n",
            "Epoch 12/50\n",
            "144/156 [==========================>...] - ETA: 0s - loss: 0.2451 - accuracy: 0.9258 - balanced_acc: 0.9233\n",
            "Epoch 12: val_balanced_acc did not improve from 0.45975\n",
            "156/156 [==============================] - 1s 3ms/step - loss: 0.2454 - accuracy: 0.9260 - balanced_acc: 0.9240 - val_loss: 0.6528 - val_accuracy: 0.7513 - val_balanced_acc: 0.4140 - lr: 0.0010\n",
            "Epoch 13/50\n",
            "144/156 [==========================>...] - ETA: 0s - loss: 0.2395 - accuracy: 0.9292 - balanced_acc: 0.9299\n",
            "Epoch 13: val_balanced_acc did not improve from 0.45975\n",
            "156/156 [==============================] - 1s 3ms/step - loss: 0.2394 - accuracy: 0.9296 - balanced_acc: 0.9300 - val_loss: 0.7099 - val_accuracy: 0.7409 - val_balanced_acc: 0.4123 - lr: 0.0010\n",
            "Epoch 14/50\n",
            "142/156 [==========================>...] - ETA: 0s - loss: 0.2288 - accuracy: 0.9325 - balanced_acc: 0.9293\n",
            "Epoch 14: val_balanced_acc did not improve from 0.45975\n",
            "156/156 [==============================] - 1s 3ms/step - loss: 0.2293 - accuracy: 0.9317 - balanced_acc: 0.9288 - val_loss: 0.7138 - val_accuracy: 0.7358 - val_balanced_acc: 0.4166 - lr: 0.0010\n",
            "Epoch 15/50\n",
            "145/156 [==========================>...] - ETA: 0s - loss: 0.2276 - accuracy: 0.9322 - balanced_acc: 0.9265\n",
            "Epoch 15: val_balanced_acc did not improve from 0.45975\n",
            "156/156 [==============================] - 1s 3ms/step - loss: 0.2278 - accuracy: 0.9316 - balanced_acc: 0.9264 - val_loss: 0.6547 - val_accuracy: 0.7565 - val_balanced_acc: 0.4214 - lr: 0.0010\n",
            "Epoch 16/50\n",
            "144/156 [==========================>...] - ETA: 0s - loss: 0.2190 - accuracy: 0.9349 - balanced_acc: 0.9314\n",
            "Epoch 16: val_balanced_acc did not improve from 0.45975\n",
            "156/156 [==============================] - 1s 3ms/step - loss: 0.2203 - accuracy: 0.9348 - balanced_acc: 0.9317 - val_loss: 0.6975 - val_accuracy: 0.7409 - val_balanced_acc: 0.4270 - lr: 0.0010\n",
            "Epoch 17/50\n",
            "142/156 [==========================>...] - ETA: 0s - loss: 0.2144 - accuracy: 0.9381 - balanced_acc: 0.9353\n",
            "Epoch 17: val_balanced_acc did not improve from 0.45975\n",
            "156/156 [==============================] - 1s 3ms/step - loss: 0.2142 - accuracy: 0.9375 - balanced_acc: 0.9354 - val_loss: 0.6577 - val_accuracy: 0.7617 - val_balanced_acc: 0.4202 - lr: 0.0010\n",
            "Epoch 18/50\n",
            "143/156 [==========================>...] - ETA: 0s - loss: 0.2134 - accuracy: 0.9384 - balanced_acc: 0.9353\n",
            "Epoch 18: val_balanced_acc improved from 0.45975 to 0.46312, saving model to /content/drive/MyDrive/PHD/Model/best_model_borderline_after_smote_on_featurespace_under80_128px.h5\n",
            "156/156 [==============================] - 1s 4ms/step - loss: 0.2152 - accuracy: 0.9370 - balanced_acc: 0.9347 - val_loss: 0.6686 - val_accuracy: 0.7617 - val_balanced_acc: 0.4631 - lr: 0.0010\n",
            "Epoch 19/50\n",
            "141/156 [==========================>...] - ETA: 0s - loss: 0.2042 - accuracy: 0.9408 - balanced_acc: 0.9396\n",
            "Epoch 19: val_balanced_acc did not improve from 0.46312\n",
            "156/156 [==============================] - 1s 3ms/step - loss: 0.2060 - accuracy: 0.9400 - balanced_acc: 0.9392 - val_loss: 0.6387 - val_accuracy: 0.7668 - val_balanced_acc: 0.4234 - lr: 0.0010\n",
            "Epoch 20/50\n",
            "143/156 [==========================>...] - ETA: 0s - loss: 0.2034 - accuracy: 0.9412 - balanced_acc: 0.9396\n",
            "Epoch 20: val_balanced_acc did not improve from 0.46312\n",
            "156/156 [==============================] - 1s 3ms/step - loss: 0.2032 - accuracy: 0.9409 - balanced_acc: 0.9390 - val_loss: 0.6606 - val_accuracy: 0.7565 - val_balanced_acc: 0.4151 - lr: 0.0010\n",
            "Epoch 21/50\n",
            "144/156 [==========================>...] - ETA: 0s - loss: 0.1987 - accuracy: 0.9410 - balanced_acc: 0.9373\n",
            "Epoch 21: val_balanced_acc did not improve from 0.46312\n",
            "156/156 [==============================] - 1s 3ms/step - loss: 0.1991 - accuracy: 0.9415 - balanced_acc: 0.9379 - val_loss: 0.7158 - val_accuracy: 0.7513 - val_balanced_acc: 0.4173 - lr: 0.0010\n",
            "Epoch 22/50\n",
            "146/156 [===========================>..] - ETA: 0s - loss: 0.1941 - accuracy: 0.9443 - balanced_acc: 0.9418\n",
            "Epoch 22: val_balanced_acc did not improve from 0.46312\n",
            "156/156 [==============================] - 1s 3ms/step - loss: 0.1933 - accuracy: 0.9444 - balanced_acc: 0.9421 - val_loss: 0.7183 - val_accuracy: 0.7409 - val_balanced_acc: 0.4561 - lr: 0.0010\n",
            "Epoch 23/50\n",
            "142/156 [==========================>...] - ETA: 0s - loss: 0.1896 - accuracy: 0.9484 - balanced_acc: 0.9475\n",
            "Epoch 23: val_balanced_acc did not improve from 0.46312\n",
            "156/156 [==============================] - 1s 3ms/step - loss: 0.1873 - accuracy: 0.9498 - balanced_acc: 0.9489 - val_loss: 0.6852 - val_accuracy: 0.7513 - val_balanced_acc: 0.4239 - lr: 0.0010\n",
            "Epoch 24/50\n",
            "143/156 [==========================>...] - ETA: 0s - loss: 0.1883 - accuracy: 0.9474 - balanced_acc: 0.9451\n",
            "Epoch 24: val_balanced_acc did not improve from 0.46312\n",
            "156/156 [==============================] - 1s 3ms/step - loss: 0.1875 - accuracy: 0.9482 - balanced_acc: 0.9459 - val_loss: 0.6669 - val_accuracy: 0.7617 - val_balanced_acc: 0.4225 - lr: 0.0010\n",
            "Epoch 25/50\n",
            "145/156 [==========================>...] - ETA: 0s - loss: 0.1822 - accuracy: 0.9491 - balanced_acc: 0.9462\n",
            "Epoch 25: val_balanced_acc did not improve from 0.46312\n",
            "156/156 [==============================] - 1s 3ms/step - loss: 0.1808 - accuracy: 0.9495 - balanced_acc: 0.9464 - val_loss: 0.6831 - val_accuracy: 0.7565 - val_balanced_acc: 0.4214 - lr: 0.0010\n",
            "Epoch 26/50\n",
            "141/156 [==========================>...] - ETA: 0s - loss: 0.1805 - accuracy: 0.9500 - balanced_acc: 0.9476\n",
            "Epoch 26: val_balanced_acc did not improve from 0.46312\n",
            "156/156 [==============================] - 1s 3ms/step - loss: 0.1815 - accuracy: 0.9497 - balanced_acc: 0.9475 - val_loss: 0.6915 - val_accuracy: 0.7461 - val_balanced_acc: 0.3955 - lr: 0.0010\n",
            "Epoch 27/50\n",
            "145/156 [==========================>...] - ETA: 0s - loss: 0.1762 - accuracy: 0.9516 - balanced_acc: 0.9482\n",
            "Epoch 27: val_balanced_acc did not improve from 0.46312\n",
            "156/156 [==============================] - 1s 3ms/step - loss: 0.1756 - accuracy: 0.9519 - balanced_acc: 0.9491 - val_loss: 0.6899 - val_accuracy: 0.7565 - val_balanced_acc: 0.4205 - lr: 0.0010\n",
            "Epoch 28/50\n",
            "144/156 [==========================>...] - ETA: 0s - loss: 0.1723 - accuracy: 0.9520 - balanced_acc: 0.9467\n",
            "Epoch 28: val_balanced_acc did not improve from 0.46312\n",
            "156/156 [==============================] - 1s 3ms/step - loss: 0.1720 - accuracy: 0.9524 - balanced_acc: 0.9477 - val_loss: 0.6772 - val_accuracy: 0.7668 - val_balanced_acc: 0.4315 - lr: 0.0010\n",
            "Epoch 29/50\n",
            "154/156 [============================>.] - ETA: 0s - loss: 0.1681 - accuracy: 0.9533 - balanced_acc: 0.9501\n",
            "Epoch 29: val_balanced_acc did not improve from 0.46312\n",
            "156/156 [==============================] - 1s 4ms/step - loss: 0.1691 - accuracy: 0.9530 - balanced_acc: 0.9498 - val_loss: 0.6537 - val_accuracy: 0.7565 - val_balanced_acc: 0.4154 - lr: 0.0010\n",
            "Epoch 30/50\n",
            "144/156 [==========================>...] - ETA: 0s - loss: 0.1652 - accuracy: 0.9552 - balanced_acc: 0.9526\n",
            "Epoch 30: val_balanced_acc did not improve from 0.46312\n",
            "156/156 [==============================] - 1s 3ms/step - loss: 0.1673 - accuracy: 0.9541 - balanced_acc: 0.9520 - val_loss: 0.6963 - val_accuracy: 0.7617 - val_balanced_acc: 0.4271 - lr: 0.0010\n",
            "Epoch 31/50\n",
            "145/156 [==========================>...] - ETA: 0s - loss: 0.1615 - accuracy: 0.9567 - balanced_acc: 0.9526\n",
            "Epoch 31: val_balanced_acc did not improve from 0.46312\n",
            "156/156 [==============================] - 1s 3ms/step - loss: 0.1616 - accuracy: 0.9566 - balanced_acc: 0.9528 - val_loss: 0.6431 - val_accuracy: 0.7668 - val_balanced_acc: 0.4197 - lr: 0.0010\n",
            "Epoch 32/50\n",
            "142/156 [==========================>...] - ETA: 0s - loss: 0.1595 - accuracy: 0.9564 - balanced_acc: 0.9530\n",
            "Epoch 32: val_balanced_acc did not improve from 0.46312\n",
            "156/156 [==============================] - 1s 3ms/step - loss: 0.1601 - accuracy: 0.9563 - balanced_acc: 0.9531 - val_loss: 0.6407 - val_accuracy: 0.7565 - val_balanced_acc: 0.4211 - lr: 0.0010\n",
            "Epoch 33/50\n",
            "143/156 [==========================>...] - ETA: 0s - loss: 0.1588 - accuracy: 0.9580 - balanced_acc: 0.9543\n",
            "Epoch 33: val_balanced_acc did not improve from 0.46312\n",
            "156/156 [==============================] - 1s 3ms/step - loss: 0.1600 - accuracy: 0.9578 - balanced_acc: 0.9544 - val_loss: 0.6802 - val_accuracy: 0.7565 - val_balanced_acc: 0.4199 - lr: 0.0010\n",
            "Epoch 34/50\n",
            "143/156 [==========================>...] - ETA: 0s - loss: 0.1540 - accuracy: 0.9602 - balanced_acc: 0.9573\n",
            "Epoch 34: val_balanced_acc did not improve from 0.46312\n",
            "156/156 [==============================] - 1s 3ms/step - loss: 0.1527 - accuracy: 0.9606 - balanced_acc: 0.9577 - val_loss: 0.7330 - val_accuracy: 0.7461 - val_balanced_acc: 0.4260 - lr: 0.0010\n",
            "Epoch 35/50\n",
            "142/156 [==========================>...] - ETA: 0s - loss: 0.1524 - accuracy: 0.9599 - balanced_acc: 0.9568\n",
            "Epoch 35: val_balanced_acc did not improve from 0.46312\n",
            "156/156 [==============================] - 1s 3ms/step - loss: 0.1535 - accuracy: 0.9593 - balanced_acc: 0.9565 - val_loss: 0.6659 - val_accuracy: 0.7617 - val_balanced_acc: 0.4193 - lr: 0.0010\n",
            "Epoch 36/50\n",
            "141/156 [==========================>...] - ETA: 0s - loss: 0.1563 - accuracy: 0.9592 - balanced_acc: 0.9549\n",
            "Epoch 36: val_balanced_acc did not improve from 0.46312\n",
            "156/156 [==============================] - 1s 3ms/step - loss: 0.1552 - accuracy: 0.9599 - balanced_acc: 0.9559 - val_loss: 0.6999 - val_accuracy: 0.7513 - val_balanced_acc: 0.4184 - lr: 0.0010\n",
            "Epoch 37/50\n",
            "144/156 [==========================>...] - ETA: 0s - loss: 0.1438 - accuracy: 0.9634 - balanced_acc: 0.9574\n",
            "Epoch 37: val_balanced_acc did not improve from 0.46312\n",
            "156/156 [==============================] - 1s 3ms/step - loss: 0.1435 - accuracy: 0.9633 - balanced_acc: 0.9578 - val_loss: 0.6781 - val_accuracy: 0.7617 - val_balanced_acc: 0.4318 - lr: 0.0010\n",
            "Epoch 38/50\n",
            "144/156 [==========================>...] - ETA: 0s - loss: 0.1485 - accuracy: 0.9625 - balanced_acc: 0.9597\n",
            "Epoch 38: ReduceLROnPlateau reducing learning rate to 0.0005000000237487257.\n",
            "\n",
            "Epoch 38: val_balanced_acc did not improve from 0.46312\n",
            "156/156 [==============================] - 1s 3ms/step - loss: 0.1475 - accuracy: 0.9626 - balanced_acc: 0.9601 - val_loss: 0.6438 - val_accuracy: 0.7668 - val_balanced_acc: 0.4279 - lr: 0.0010\n",
            "Epoch 39/50\n",
            "142/156 [==========================>...] - ETA: 0s - loss: 0.1377 - accuracy: 0.9659 - balanced_acc: 0.9649\n",
            "Epoch 39: val_balanced_acc did not improve from 0.46312\n",
            "156/156 [==============================] - 1s 3ms/step - loss: 0.1372 - accuracy: 0.9660 - balanced_acc: 0.9652 - val_loss: 0.6817 - val_accuracy: 0.7617 - val_balanced_acc: 0.4318 - lr: 5.0000e-04\n",
            "Epoch 40/50\n",
            "143/156 [==========================>...] - ETA: 0s - loss: 0.1378 - accuracy: 0.9672 - balanced_acc: 0.9644\n",
            "Epoch 40: val_balanced_acc did not improve from 0.46312\n",
            "156/156 [==============================] - 1s 3ms/step - loss: 0.1380 - accuracy: 0.9665 - balanced_acc: 0.9640 - val_loss: 0.7267 - val_accuracy: 0.7513 - val_balanced_acc: 0.4269 - lr: 5.0000e-04\n",
            "Epoch 41/50\n",
            "141/156 [==========================>...] - ETA: 0s - loss: 0.1341 - accuracy: 0.9698 - balanced_acc: 0.9659\n",
            "Epoch 41: val_balanced_acc did not improve from 0.46312\n",
            "156/156 [==============================] - 1s 4ms/step - loss: 0.1364 - accuracy: 0.9685 - balanced_acc: 0.9651 - val_loss: 0.7219 - val_accuracy: 0.7565 - val_balanced_acc: 0.4340 - lr: 5.0000e-04\n",
            "Epoch 42/50\n",
            "151/156 [============================>.] - ETA: 0s - loss: 0.1360 - accuracy: 0.9672 - balanced_acc: 0.9633\n",
            "Epoch 42: val_balanced_acc did not improve from 0.46312\n",
            "156/156 [==============================] - 1s 4ms/step - loss: 0.1355 - accuracy: 0.9676 - balanced_acc: 0.9637 - val_loss: 0.7055 - val_accuracy: 0.7565 - val_balanced_acc: 0.4307 - lr: 5.0000e-04\n",
            "Epoch 43/50\n",
            "142/156 [==========================>...] - ETA: 0s - loss: 0.1388 - accuracy: 0.9671 - balanced_acc: 0.9639\n",
            "Epoch 43: val_balanced_acc did not improve from 0.46312\n",
            "156/156 [==============================] - 1s 3ms/step - loss: 0.1370 - accuracy: 0.9679 - balanced_acc: 0.9651 - val_loss: 0.6786 - val_accuracy: 0.7668 - val_balanced_acc: 0.4279 - lr: 5.0000e-04\n",
            "Epoch 44/50\n",
            "143/156 [==========================>...] - ETA: 0s - loss: 0.1312 - accuracy: 0.9698 - balanced_acc: 0.9651\n",
            "Epoch 44: val_balanced_acc did not improve from 0.46312\n",
            "156/156 [==============================] - 1s 3ms/step - loss: 0.1307 - accuracy: 0.9699 - balanced_acc: 0.9659 - val_loss: 0.6860 - val_accuracy: 0.7668 - val_balanced_acc: 0.4360 - lr: 5.0000e-04\n",
            "Epoch 45/50\n",
            "154/156 [============================>.] - ETA: 0s - loss: 0.1339 - accuracy: 0.9676 - balanced_acc: 0.9647\n",
            "Epoch 45: val_balanced_acc did not improve from 0.46312\n",
            "156/156 [==============================] - 1s 4ms/step - loss: 0.1346 - accuracy: 0.9677 - balanced_acc: 0.9648 - val_loss: 0.6957 - val_accuracy: 0.7565 - val_balanced_acc: 0.4277 - lr: 5.0000e-04\n",
            "Epoch 46/50\n",
            "143/156 [==========================>...] - ETA: 0s - loss: 0.1300 - accuracy: 0.9692 - balanced_acc: 0.9671\n",
            "Epoch 46: val_balanced_acc did not improve from 0.46312\n",
            "156/156 [==============================] - 1s 3ms/step - loss: 0.1316 - accuracy: 0.9689 - balanced_acc: 0.9666 - val_loss: 0.6940 - val_accuracy: 0.7668 - val_balanced_acc: 0.4360 - lr: 5.0000e-04\n",
            "Epoch 47/50\n",
            "145/156 [==========================>...] - ETA: 0s - loss: 0.1289 - accuracy: 0.9720 - balanced_acc: 0.9673\n",
            "Epoch 47: val_balanced_acc did not improve from 0.46312\n",
            "156/156 [==============================] - 1s 3ms/step - loss: 0.1296 - accuracy: 0.9713 - balanced_acc: 0.9663 - val_loss: 0.6926 - val_accuracy: 0.7617 - val_balanced_acc: 0.4271 - lr: 5.0000e-04\n",
            "Epoch 48/50\n",
            "144/156 [==========================>...] - ETA: 0s - loss: 0.1280 - accuracy: 0.9719 - balanced_acc: 0.9697\n",
            "Epoch 48: val_balanced_acc did not improve from 0.46312\n",
            "156/156 [==============================] - 1s 3ms/step - loss: 0.1306 - accuracy: 0.9709 - balanced_acc: 0.9693 - val_loss: 0.7107 - val_accuracy: 0.7513 - val_balanced_acc: 0.4251 - lr: 5.0000e-04\n",
            "Epoch 49/50\n",
            "143/156 [==========================>...] - ETA: 0s - loss: 0.1296 - accuracy: 0.9705 - balanced_acc: 0.9673\n",
            "Epoch 49: val_balanced_acc did not improve from 0.46312\n",
            "156/156 [==============================] - 1s 3ms/step - loss: 0.1295 - accuracy: 0.9707 - balanced_acc: 0.9677 - val_loss: 0.7301 - val_accuracy: 0.7409 - val_balanced_acc: 0.4171 - lr: 5.0000e-04\n",
            "Epoch 50/50\n",
            "142/156 [==========================>...] - ETA: 0s - loss: 0.1249 - accuracy: 0.9724 - balanced_acc: 0.9694\n",
            "Epoch 50: val_balanced_acc did not improve from 0.46312\n",
            "156/156 [==============================] - 1s 3ms/step - loss: 0.1254 - accuracy: 0.9724 - balanced_acc: 0.9696 - val_loss: 0.6951 - val_accuracy: 0.7668 - val_balanced_acc: 0.4360 - lr: 5.0000e-04\n"
          ]
        }
      ],
      "source": [
        "best_model_fpath = '/content/drive/MyDrive/PHD/Model/best_model_'+exp_name+'_'+dataset_name+'.h5'\n",
        "print(\"best_model_fpath:\"+best_model_fpath)\n",
        "last_model_fpath = '/content/drive/MyDrive/PHD/Model/last_model_'+exp_name+'_'+dataset_name+'.h5'\n",
        "print(\"last_model_fpath:\"+last_model_fpath)\n",
        "mc1 = ModelCheckpoint(best_model_fpath, monitor='val_balanced_acc', mode='max', verbose=1, save_best_only=True)\n",
        "learning_rate_reduction = ReduceLROnPlateau(monitor='val_balanced_acc', patience=20, verbose=1, factor=0.5, min_lr=0.00001)\n",
        "early_stopping_monitor = EarlyStopping(patience=40,monitor='val_balanced_acc')\n",
        "model2.compile(optimizer = opt_SGD , loss = \"categorical_crossentropy\", metrics=['accuracy', balanced_acc])\n",
        "hst = model2.fit(X_train_fm_ov, y_train_ov, epochs=EPOCHS, batch_size=BATCH_SIZE, validation_data=(X_val_fm, y_val), verbose=1,\n",
        "                    steps_per_epoch=X_train_fm_ov.shape[0] // BATCH_SIZE, \n",
        "                    #callbacks=[learning_rate_reduction,early_stopping_monitor, mc1])\n",
        "                    callbacks=[learning_rate_reduction,mc1])"
      ]
    },
    {
      "cell_type": "code",
      "execution_count": null,
      "metadata": {
        "colab": {
          "base_uri": "https://localhost:8080/",
          "height": 295
        },
        "id": "8XhlbWn--8Or",
        "outputId": "69127b4a-c638-4449-a068-fd80494a4008"
      },
      "outputs": [
        {
          "data": {
            "image/png": "[encoded data removed]",
            "text/plain": [
              "<Figure size 432x288 with 1 Axes>"
            ]
          },
          "metadata": {},
          "output_type": "display_data"
        }
      ],
      "source": [
        "# summarize history for accuracy\n",
        "plt.plot(hst.history['accuracy'])\n",
        "plt.plot(hst.history['balanced_acc'])\n",
        "plt.plot(hst.history['val_accuracy'])\n",
        "plt.plot(hst.history['val_balanced_acc'])\n",
        "plt.title('Model accuracy')\n",
        "plt.ylabel('Performance')\n",
        "plt.xlabel('epoch')\n",
        "plt.legend(['train accuracy', 'train balanced acc.', 'val. accuracy', 'val. balanced acc.'], loc='lower right')\n",
        "plt.show()"
      ]
    },
    {
      "cell_type": "code",
      "execution_count": null,
      "metadata": {
        "id": "u-x0SENPGmm9"
      },
      "outputs": [],
      "source": [
        "#save last model\n",
        "model2.save(last_model_fpath)"
      ]
    },
    {
      "cell_type": "code",
      "execution_count": null,
      "metadata": {
        "colab": {
          "base_uri": "https://localhost:8080/"
        },
        "id": "U-e3ZaeeG1Bf",
        "outputId": "43185207-f891-4f63-85ec-9a590e61815f"
      },
      "outputs": [
        {
          "name": "stdout",
          "output_type": "stream",
          "text": [
            "313/313 [==============================] - 0s 1ms/step\n",
            "7/7 [==============================] - 0s 2ms/step\n",
            "accuracy on training 0.9733653749874838\n",
            "balanced accuracy on training 0.9736294240111035\n",
            "accuracy on validation 0.7668393782383419\n",
            "balanced accuracy on validation 0.5717909558501892\n",
            "Score on val data:  (0.5185897435897436, 0.5717909558501892, 0.5377159543062507, None)\n"
          ]
        }
      ],
      "source": [
        "last_model = load_model(last_model_fpath, custom_objects={'balanced_acc' : balanced_acc})\n",
        "y_train_pred = last_model.predict(X_train_fm_ov)\n",
        "y_val_pred = last_model.predict(X_val_fm)\n",
        "\n",
        "#print('accuracy on training',accuracy_score(np.argmax(y_train, axis=1), np.argmax(y_train_pred, axis=1)))\n",
        "print('accuracy on training',accuracy_score(np.argmax(y_train_ov, axis=1), np.argmax(y_train_pred, axis=1)))\n",
        "print('balanced accuracy on training',balanced_accuracy_score(np.argmax(y_train_ov, axis=1), np.argmax(y_train_pred, axis=1)))\n",
        "print('accuracy on validation',accuracy_score(np.argmax(y_val, axis=1), np.argmax(y_val_pred, axis=1)))\n",
        "print('balanced accuracy on validation',balanced_accuracy_score(np.argmax(y_val, axis=1), np.argmax(y_val_pred, axis=1)))\n",
        "print('Score on val data: ',precision_recall_fscore_support(np.argmax(y_val, axis=1), np.argmax(y_val_pred, axis=1), average='macro'))"
      ]
    },
    {
      "cell_type": "code",
      "execution_count": null,
      "metadata": {
        "colab": {
          "base_uri": "https://localhost:8080/"
        },
        "id": "EQ3baQLsHLat",
        "outputId": "71206047-eb2f-4c68-fc42-a6301a8a48c7"
      },
      "outputs": [
        {
          "name": "stdout",
          "output_type": "stream",
          "text": [
            "313/313 [==============================] - 0s 1ms/step\n",
            "7/7 [==============================] - 0s 2ms/step\n",
            "accuracy on training 0.9419245018524082\n",
            "balanced accuracy on training 0.9424854622354494\n",
            "accuracy on validation 0.7616580310880829\n",
            "balanced accuracy on validation 0.6986307826900162\n",
            "Score on val data:  (0.5416475972540045, 0.6986307826900162, 0.5756277857054772, None)\n"
          ]
        }
      ],
      "source": [
        "best_model = load_model(best_model_fpath, custom_objects={'balanced_acc' : balanced_acc})\n",
        "y_train_pred = best_model.predict(X_train_fm_ov)\n",
        "y_val_pred = best_model.predict(X_val_fm)\n",
        "\n",
        "print('accuracy on training',accuracy_score(np.argmax(y_train_ov, axis=1), np.argmax(y_train_pred, axis=1)))\n",
        "print('balanced accuracy on training',balanced_accuracy_score(np.argmax(y_train_ov, axis=1), np.argmax(y_train_pred, axis=1)))\n",
        "print('accuracy on validation',accuracy_score(np.argmax(y_val, axis=1), np.argmax(y_val_pred, axis=1)))\n",
        "print('balanced accuracy on validation',balanced_accuracy_score(np.argmax(y_val, axis=1), np.argmax(y_val_pred, axis=1)))\n",
        "print('Score on val data: ',precision_recall_fscore_support(np.argmax(y_val, axis=1), np.argmax(y_val_pred, axis=1), average='macro'))"
      ]
    },
    {
      "cell_type": "markdown",
      "metadata": {
        "id": "RcRGeofw-8tK"
      },
      "source": [
        "#Load ISIC 2018 Challange Data"
      ]
    },
    {
      "cell_type": "code",
      "execution_count": 6,
      "metadata": {
        "id": "l3P7IjyLuZGY",
        "colab": {
          "base_uri": "https://localhost:8080/"
        },
        "outputId": "9f32696b-c4f4-4a76-9c71-405d9d90bce1"
      },
      "outputs": [
        {
          "output_type": "stream",
          "name": "stdout",
          "text": [
            "(5321, 64, 64, 3)\n",
            "(5321, 7)\n",
            "(193, 64, 64, 3)\n",
            "(193, 7)\n",
            "Counter train data:  Counter({5: 2011, 4: 1113, 2: 1099, 1: 514, 0: 327, 6: 142, 3: 115})\n",
            "Counter val data:  Counter({5: 123, 2: 22, 4: 21, 1: 15, 0: 8, 6: 3, 3: 1})\n"
          ]
        }
      ],
      "source": [
        "X_train, y_train, X_val, y_val = load_isic2018_dataset(train_under_frac = train_under_frac)\n",
        "print(X_train.shape)\n",
        "print(y_train.shape)\n",
        "print(X_val.shape)\n",
        "print(y_val.shape)\n",
        "print('Counter train data: ', Counter(np.argmax(y_train, axis=1)))\n",
        "print('Counter val data: ', Counter(np.argmax(y_val, axis=1)))"
      ]
    },
    {
      "cell_type": "code",
      "execution_count": 7,
      "metadata": {
        "id": "XT95XFaHQD6d"
      },
      "outputs": [],
      "source": [
        "X_train = preprocess_image_input(X_train, the_arch)\n",
        "X_val = preprocess_image_input(X_val, the_arch)"
      ]
    },
    {
      "cell_type": "code",
      "execution_count": 8,
      "metadata": {
        "id": "APHFdj25vatJ",
        "colab": {
          "base_uri": "https://localhost:8080/"
        },
        "outputId": "ec351e75-14df-4da5-bb74-2ce91c0a71b0"
      },
      "outputs": [
        {
          "output_type": "stream",
          "name": "stdout",
          "text": [
            "dataset saved: under70_64px\n"
          ]
        }
      ],
      "source": [
        "path = '/content/drive/MyDrive/PHD/Datasets/isic2018/'\n",
        "df1 = pd.DataFrame(X_train.reshape(X_train.shape[0],-1))\n",
        "df1['y_train'] = np.argmax(y_train, axis=1).tolist()\n",
        "df2 = pd.DataFrame(X_val.reshape(X_val.shape[0],-1))\n",
        "df2['y_val'] = np.argmax(y_val, axis=1).tolist()\n",
        "df1.to_pickle(path+\"isic2018_train_\"+dataset_name+\".pkl\")\n",
        "df2.to_pickle(path+\"isic2018_val_\"+dataset_name+\".pkl\")\n",
        "print(\"dataset saved:\", dataset_name)"
      ]
    },
    {
      "cell_type": "code",
      "execution_count": null,
      "metadata": {
        "id": "2IncA-_o_n5w"
      },
      "outputs": [],
      "source": [
        "# ordered count of rows per unique label\n",
        "labels_count = y_train.value_counts(ascending=True)\n",
        "\n",
        "f = plt.figure(figsize=(15, 6))\n",
        "s = sns.barplot(x=labels_count.index,y=labels_count.values)\n",
        "s.set_xticklabels(s.get_xticklabels(), rotation = 30)"
      ]
    },
    {
      "cell_type": "markdown",
      "metadata": {
        "id": "AnKMKSb4Bkym"
      },
      "source": [
        "Plot 3 images per label"
      ]
    },
    {
      "cell_type": "code",
      "execution_count": null,
      "metadata": {
        "id": "jdnVuqbFBW3K"
      },
      "outputs": [],
      "source": [
        "def plot_images_per_label(df, label, cols: int, size: tuple):\n",
        "    fig, axs = plt.subplots(nrows=1, ncols=cols, figsize=size)\n",
        "\n",
        "    cntMax = cols\n",
        "    cntCur = 0\n",
        "    for index, row in df.iterrows():\n",
        "        if(y_train == label and cntCur < cntMax):\n",
        "            axs[cntCur].imshow(plt.imread(df.FilePaths[index]))\n",
        "            axs[cntCur].set_title(df.Labels[index])\n",
        "\n",
        "            cntCur += 1\n",
        "        else:\n",
        "            if(cntCur >= cntMax):\n",
        "                break\n",
        "    \n",
        "    plt.tight_layout()\n",
        "    plt.show()\n",
        "\n",
        "\n",
        "# unique labels\n",
        "labels = sorted(df1['y_train'].unique())\n",
        "for label in range(7):\n",
        "    plot_images_per_label(df1, label, 3, (12,9))"
      ]
    },
    {
      "cell_type": "code",
      "execution_count": null,
      "metadata": {
        "id": "asV1O58Lrq-R"
      },
      "outputs": [],
      "source": [
        "from PIL import Image\n",
        "img = Image.fromarray(X_train[0], 'RGB')\n",
        "display(img)"
      ]
    },
    {
      "cell_type": "markdown",
      "metadata": {
        "id": "qRKKrNacAZtl"
      },
      "source": [
        "Drop duplicate images"
      ]
    },
    {
      "cell_type": "code",
      "execution_count": null,
      "metadata": {
        "id": "ERwfyPDHP-zC"
      },
      "outputs": [],
      "source": [
        "#df_group = pd.read_csv('/content/drive/MyDrive/PHD/Datasets/isic2018/ISIC2018_Task3_Training_LesionGroupings.csv') \n",
        "#df_train = df_train.set_index('image').join(df_group.set_index('image'))\n",
        "#df_train = df_train.drop_duplicates(subset=['lesion_id'])"
      ]
    },
    {
      "cell_type": "markdown",
      "metadata": {
        "id": "cNBXx28B9yGu"
      },
      "source": [
        "#DeepSMOTE Oversampling"
      ]
    },
    {
      "cell_type": "code",
      "execution_count": null,
      "metadata": {
        "id": "YmX_Uqbmj-tN"
      },
      "outputs": [],
      "source": [
        "from numpy import moveaxis\n",
        "from sklearn.neighbors import NearestNeighbors\n",
        "import torch\n",
        "import torch.nn as nn\n",
        "\n",
        "max_el = np.inf\n",
        "\n",
        "args = {}\n",
        "args['dim_h'] = 64         # factor controlling size of hidden layers\n",
        "args['n_channel'] = 3#1    # number of channels in the input data \n",
        "args['n_z'] = 600 #300     # number of dimensions in latent space. \n",
        "args['sigma'] = 1.0        # variance in n_z\n",
        "args['lambda'] = 0.01      # hyper param for weight of discriminator loss\n",
        "args['lr'] = 0.0002        # learning rate for Adam optimizer .000\n",
        "args['epochs'] = 300       # how many epochs to run for\n",
        "args['batch_size'] = 100   # batch size for SGD\n",
        "args['save'] = True        # save weights at each epoch of training if True\n",
        "args['train'] = True       # train networks if True, else load networks from\n",
        "args['patience'] = 20"
      ]
    },
    {
      "cell_type": "code",
      "execution_count": null,
      "metadata": {
        "id": "NydOdPMajEfT"
      },
      "outputs": [],
      "source": [
        "class Encoder(nn.Module):\n",
        "    def __init__(self, args):\n",
        "        super(Encoder, self).__init__()\n",
        "\n",
        "        self.n_channel = args['n_channel']\n",
        "        self.dim_h = args['dim_h']\n",
        "        self.n_z = args['n_z']\n",
        "        \n",
        "        # convolutional filters, work excellent with image data\n",
        "        # [(W−K+2P)/S]+1\n",
        "        self.conv = nn.Sequential(\n",
        "            nn.AvgPool2d(7, stride=7),\n",
        "            nn.Conv2d(self.n_channel, self.dim_h, 4, 2, 1, bias=False),# 16\n",
        "            nn.LeakyReLU(0.2, inplace=True),\n",
        "            nn.Conv2d(self.dim_h, self.dim_h * 2, 4, 2, 1, bias=False), # 8\n",
        "            nn.BatchNorm2d(self.dim_h * 2),\n",
        "            nn.LeakyReLU(0.2, inplace=True),\n",
        "            nn.Conv2d(self.dim_h * 2, self.dim_h * 4, 4, 2, 1, bias=False),# 4\n",
        "            nn.BatchNorm2d(self.dim_h * 4),\n",
        "            nn.LeakyReLU(0.2, inplace=True),\n",
        "            nn.Conv2d(self.dim_h * 4, self.dim_h * 8, 4, 2, 0, bias=False),#14\n",
        "            nn.BatchNorm2d(self.dim_h * 8),\n",
        "            nn.LeakyReLU(0.2, inplace=True))\n",
        "        self.fc = nn.Linear(self.dim_h * (2 ** 3), self.n_z)\n",
        "\n",
        "    def forward(self, x):\n",
        "        x = self.conv(x)\n",
        "        \n",
        "        x = x.squeeze()\n",
        "        x = self.fc(x)\n",
        "        return x\n",
        "\n",
        "\n",
        "class Decoder(nn.Module):\n",
        "    def __init__(self, args):\n",
        "        super(Decoder, self).__init__()\n",
        "\n",
        "        self.n_channel = args['n_channel']\n",
        "        self.dim_h = args['dim_h']\n",
        "        self.n_z = args['n_z']\n",
        "\n",
        "        # first layer is fully connected\n",
        "        self.fc = nn.Sequential(\n",
        "            nn.Linear(self.n_z, self.dim_h * 2**3 * 7 * 7),\n",
        "            nn.ReLU())\n",
        "\n",
        "        # deconvolutional filters, essentially inverse of convolutional filters\n",
        "        # H_out ​= (H_in​−1)*stride[0] − 2×padding[0] + dilation[0]×(kernel_size[0]−1) + output_padding[0] + 1\n",
        "        self.deconv = nn.Sequential(\n",
        "            nn.ConvTranspose2d(self.dim_h * 8, self.dim_h * 4, 4), #10\n",
        "            nn.BatchNorm2d(self.dim_h * 4),\n",
        "            nn.ReLU(True),\n",
        "            nn.ConvTranspose2d(self.dim_h * 4, self.dim_h * 2, 4), #13\n",
        "            nn.BatchNorm2d(self.dim_h * 2),\n",
        "            nn.ReLU(True),\n",
        "            nn.ConvTranspose2d(self.dim_h * 2, self.dim_h, 4),# 16\n",
        "            nn.BatchNorm2d(self.dim_h),\n",
        "            nn.ReLU(True),\n",
        "            nn.ConvTranspose2d(self.dim_h, 3, 4, 2, 1),# 32\n",
        "            nn.UpsamplingBilinear2d(scale_factor=7),\n",
        "            nn.Tanh())\n",
        "\n",
        "    def forward(self, x):\n",
        "        x = self.fc(x)\n",
        "        x = x.view(-1, self.dim_h * 2**3, 7, 7)\n",
        "        x = self.deconv(x)\n",
        "        return x\n",
        "\n",
        "##############################################################################\n",
        "\"\"\"set models, loss functions\"\"\"\n",
        "# control which parameters are frozen / free for optimization\n",
        "def free_params(module: nn.Module):\n",
        "    for p in module.parameters():\n",
        "        p.requires_grad = True\n",
        "\n",
        "def frozen_params(module: nn.Module):\n",
        "    for p in module.parameters():\n",
        "        p.requires_grad = False\n",
        "\n",
        "def biased_get_class(X, y, c):\n",
        "    \n",
        "    xbeg = X[y == c]\n",
        "    ybeg = y[y == c]\n",
        "    \n",
        "    return xbeg, ybeg\n",
        "    #return xclass, yclass\n",
        "\n",
        "def G_SM(X, y,n_to_sample,cl):\n",
        "    n_neigh = 5\n",
        "    nn = NearestNeighbors(n_neighbors=n_neigh, n_jobs=1)\n",
        "    nn.fit(X)\n",
        "    dist, ind = nn.kneighbors(X)\n",
        "\n",
        "    # generating samples\n",
        "    base_indices = np.random.choice(list(range(len(X))),n_to_sample)\n",
        "    neighbor_indices = np.random.choice(list(range(1, n_neigh)),n_to_sample)\n",
        "\n",
        "    X_base = X[base_indices]\n",
        "    X_neighbor = X[ind[base_indices, neighbor_indices]]\n",
        "\n",
        "    samples = X_base + np.multiply(np.random.rand(n_to_sample,1),\n",
        "            X_neighbor - X_base)\n",
        "\n",
        "    #use 10 as label because 0 to 9 real classes and 1 fake/smoted = 10\n",
        "    return samples, [cl]*n_to_sample\n",
        "\n",
        "def DeepSMOTE_train(X_train, y_train, one_hot = False):\n",
        "  from torch.utils.data import TensorDataset\n",
        "  import os\n",
        "\n",
        "  max_el = np.max(X_train)\n",
        "  X_train = X_train / max_el\n",
        "  X_train = moveaxis(X_train, 3, 1)\n",
        "  if one_hot:\n",
        "    y_train = np.argmax(y_train, axis=1)\n",
        "  #X_train = X_train.astype('float32') / 255.\n",
        "  \n",
        "  batch_size = args['batch_size']\n",
        "  patience = args['patience']\n",
        "  encoder = Encoder(args)\n",
        "  decoder = Decoder(args)\n",
        "\n",
        "  device = 'cuda' if torch.cuda.is_available() else 'cpu'\n",
        "  print(device)\n",
        "  decoder = decoder.to(device)\n",
        "  encoder = encoder.to(device)\n",
        "\n",
        "  train_on_gpu = torch.cuda.is_available()\n",
        "\n",
        "  #decoder loss function\n",
        "  criterion = nn.MSELoss()\n",
        "  criterion = criterion.to(device)\n",
        "\n",
        "  num_workers = 0\n",
        "\n",
        "  #torch.Tensor returns float so if want long then use torch.tensor\n",
        "  tensor_x = torch.from_numpy(X_train.copy())#torch.Tensor(X_train)\n",
        "  tensor_y = torch.tensor(y_train,dtype=torch.long)\n",
        "  mnist_bal = TensorDataset(tensor_x,tensor_y) \n",
        "  train_loader = torch.utils.data.DataLoader(mnist_bal, \n",
        "      batch_size=batch_size,shuffle=True,num_workers=num_workers)\n",
        "\n",
        "  best_loss = np.inf\n",
        "\n",
        "  enc_optim = torch.optim.Adam(encoder.parameters(), lr = args['lr'])\n",
        "  dec_optim = torch.optim.Adam(decoder.parameters(), lr = args['lr'])\n",
        "\n",
        "  for epoch in range(args['epochs']):\n",
        "      train_loss = 0.0\n",
        "      tmse_loss = 0.0\n",
        "      tdiscr_loss = 0.0\n",
        "      # train for one epoch -- set nets to train mode\n",
        "      encoder.train()\n",
        "      decoder.train()\n",
        "  \n",
        "      for images,labs in train_loader:\n",
        "      \n",
        "          # zero gradients for each batch\n",
        "          encoder.zero_grad()\n",
        "          decoder.zero_grad()\n",
        "          images, labs = images.to(device), labs.to(device)\n",
        "          labsn = labs.detach().cpu().numpy()\n",
        "#            print('images shape', images.shape)\n",
        "          # run images\n",
        "          z_hat = encoder(images)\n",
        "#            print('images shape after encoding', z_hat.shape)\n",
        "      \n",
        "          x_hat = decoder(z_hat) #decoder outputs tanh\n",
        "#            print('images shape after decoding', x_hat.shape)\n",
        "          mse = criterion(x_hat,images)\n",
        "                  \n",
        "          resx = []\n",
        "          resy = []\n",
        "      \n",
        "          tc = np.random.choice(num_classes,1)\n",
        "          #tc = 9\n",
        "          xbeg = X_train[y_train == tc]\n",
        "          ybeg = y_train[y_train == tc] \n",
        "          xlen = len(xbeg)\n",
        "          nsamp = min(xlen, 100)\n",
        "          ind = np.random.choice(list(range(len(xbeg))),nsamp,replace=False)\n",
        "          xclass = xbeg[ind]\n",
        "          yclass = ybeg[ind]\n",
        "      \n",
        "          xclen = len(xclass)\n",
        "          xcminus = np.arange(1,xclen)\n",
        "          \n",
        "          xcplus = np.append(xcminus,0)\n",
        "          xcnew = (xclass[[xcplus],:])\n",
        "          xcnew = xcnew.reshape(xcnew.shape[1],xcnew.shape[2],xcnew.shape[3],xcnew.shape[4])\n",
        "      \n",
        "          xcnew = torch.Tensor(xcnew)\n",
        "          xcnew = xcnew.to(device)\n",
        "      \n",
        "          #encode xclass to feature space\n",
        "          xclass = torch.Tensor(xclass)\n",
        "          xclass = xclass.to(device)\n",
        "          xclass = encoder(xclass)\n",
        "      \n",
        "          xclass = xclass.detach().cpu().numpy()\n",
        "      \n",
        "          xc_enc = (xclass[[xcplus],:])\n",
        "          xc_enc = np.squeeze(xc_enc)\n",
        "      \n",
        "          xc_enc = torch.Tensor(xc_enc)\n",
        "          xc_enc = xc_enc.to(device)\n",
        "          \n",
        "          ximg = decoder(xc_enc)\n",
        "          \n",
        "          mse2 = criterion(ximg,xcnew)\n",
        "      \n",
        "          comb_loss = mse2 + mse\n",
        "          comb_loss.backward()\n",
        "      \n",
        "          enc_optim.step()\n",
        "          dec_optim.step()\n",
        "      \n",
        "          train_loss += comb_loss.item()*images.size(0)\n",
        "          tmse_loss += mse.item()*images.size(0)\n",
        "          tdiscr_loss += mse2.item()*images.size(0)\n",
        "\n",
        "      train_loss = train_loss/len(train_loader)\n",
        "      tmse_loss = tmse_loss/len(train_loader)\n",
        "      tdiscr_loss = tdiscr_loss/len(train_loader)\n",
        "      print('Epoch: {} \\tTrain Loss: {:.6f} \\tmse loss: {:.6f} \\tmse2 loss: {:.6f}'.format(epoch,\n",
        "              train_loss,tmse_loss,tdiscr_loss))\n",
        "      \n",
        "  \n",
        "  \n",
        "      #store the best encoder and decoder models\n",
        "      #here, /crs5 is a reference to 5 way cross validation, but is not\n",
        "      #necessary for illustration purposes\n",
        "      if train_loss < best_loss:\n",
        "          print('Saving..')\n",
        "          patience = args['patience']\n",
        "          path_enc = '/content/drive/MyDrive/PHD/Model/DeepSMOTE/32/bst_enc.pth'\n",
        "          path_dec = '/content/drive/MyDrive/PHD/Model/DeepSMOTE/32/bst_dec.pth'\n",
        "        \n",
        "          torch.save(encoder.state_dict(), path_enc)\n",
        "          torch.save(decoder.state_dict(), path_dec)\n",
        "  \n",
        "          best_loss = train_loss\n",
        "      else:\n",
        "          patience = patience - 1\n",
        "\n",
        "      if patience == 0:\n",
        "          print('Out of patience. \\n')\n",
        "          break\n",
        "\n",
        "def DeepSMOTE_Data(X_train, y_train, one_hot = False):\n",
        "  batch_size = args['batch_size']\n",
        "  max_el = np.max(X_train)\n",
        "  X_train = X_train / max_el\n",
        "  X_train = moveaxis(X_train, 3, 1)\n",
        "  if one_hot:\n",
        "    y_train = np.argmax(y_train, axis=1)\n",
        "  #Generate artificial images\n",
        "  import torch\n",
        "  np.printoptions(precision=5,suppress=True)\n",
        "\n",
        "  #path on the computer where the models are stored\n",
        "  modpth = '/content/drive/MyDrive/PHD/Model/DeepSMOTE/32/'\n",
        "\n",
        "  path_enc = modpth + '/bst_enc.pth'\n",
        "  path_dec = modpth + '/bst_dec.pth'\n",
        "  \n",
        "  train_on_gpu = torch.cuda.is_available()\n",
        "  device = 'cuda' if torch.cuda.is_available() else 'cpu'\n",
        "\n",
        "  encoder = Encoder(args)\n",
        "  encoder.load_state_dict(torch.load(path_enc), strict=False)\n",
        "  encoder = encoder.to(device)\n",
        "\n",
        "  decoder = Decoder(args)\n",
        "  decoder.load_state_dict(torch.load(path_dec), strict=False)\n",
        "  decoder = decoder.to(device)\n",
        "\n",
        "  encoder.eval()\n",
        "  decoder.eval()\n",
        "\n",
        "  resx = []\n",
        "  resy = []\n",
        "  \n",
        "  counter = Counter(y_train)\n",
        "  counter = sorted(counter.items())\n",
        "  counter = [value for _, value in counter]\n",
        "\n",
        "  for i in range(num_classes):\n",
        "      torch.cuda.empty_cache()\n",
        "\n",
        "      xclass, yclass = biased_get_class(X_train, y_train, i)\n",
        "      #encode xclass to feature space\n",
        "      xclass = torch.Tensor(xclass)\n",
        "      xclass = xclass.to(device)\n",
        "      xclass = encoder(xclass)\n",
        "          \n",
        "      xclass = xclass.detach().cpu().numpy()\n",
        "      n = np.max(counter) - counter[i]\n",
        "      if n == 0:\n",
        "        continue\n",
        "#        resx2 = []\n",
        "#        resy2 = []\n",
        "#        for j in range(batch_size, n+batch_size+1, batch_size):\n",
        "#          if j <= n:\n",
        "#            batch_size_max = batch_size\n",
        "#          elif n % batch_size != 0:\n",
        "#            batch_size_max = n%batch_size\n",
        "#          else:\n",
        "#            break\n",
        "#          xsamp, ysamp = G_SM(xclass,yclass,batch_size_max,i)\n",
        "      xsamp, ysamp = G_SM(xclass,yclass,n,i)\n",
        "      ysamp = np.array(ysamp)\n",
        "  \n",
        "      \"\"\"to generate samples for resnet\"\"\"   \n",
        "      xsamp = torch.Tensor(xsamp)\n",
        "      xsamp = xsamp.to(device)\n",
        "      ximg = decoder(xsamp)\n",
        "\n",
        "      ximn = ximg.detach().cpu().numpy()\n",
        "#        resx2.append(ximn)\n",
        "#        resy2.append(ysamp)\n",
        "#        \n",
        "#        resx2 = np.vstack(resx2)\n",
        "#        resy2 = np.hstack(resy2)\n",
        "      resx.append(ximn)\n",
        "      resy.append(ysamp)\n",
        "  \n",
        "  resx1 = np.vstack(resx)\n",
        "  resy1 = np.hstack(resy)\n",
        "  resx1 = resx1.reshape(resx1.shape[0],-1)\n",
        "  X_train = X_train.reshape(X_train.shape[0],-1)\n",
        "  X_train = np.vstack((resx1,X_train))\n",
        "  y_train = np.hstack((resy1,y_train))\n",
        "  y_train = to_categorical(y_train)\n",
        "  X_train = X_train.reshape(-1, 3, IMAGE_W, IMAGE_H)\n",
        "  X_train = moveaxis(X_train, 1, 3)\n",
        "  X_train = X_train * max_el\n",
        "  return X_train, y_train"
      ]
    },
    {
      "cell_type": "markdown",
      "metadata": {
        "id": "0jrJ33lUDkCM"
      },
      "source": [
        "#Split dataset to train and val"
      ]
    },
    {
      "cell_type": "code",
      "execution_count": null,
      "metadata": {
        "id": "e6qneWL_Bs2U"
      },
      "outputs": [],
      "source": [
        "# stratified train and rem (20%) datasets\n",
        "from sklearn.model_selection import train_test_split\n",
        "X_train, X_val, y_train, y_val = train_test_split(X_train, y_train, test_size=0.2, stratify=y_train, random_state=1)\n",
        "\n",
        "print('Train Data: ', X_train.shape)\n",
        "print('Remaining Data: ', X_val.shape)"
      ]
    },
    {
      "cell_type": "code",
      "execution_count": null,
      "metadata": {
        "id": "8Kef4r_zxjgk"
      },
      "outputs": [],
      "source": [
        "#Data Augmentation\n",
        "dataaugment = ImageDataGenerator(\n",
        "        rotation_range=90,  # randomly rotate images in the range (degrees, 0 to 180)\n",
        "        zoom_range = 0.1, # Randomly zoom image \n",
        "        width_shift_range=0.1,  # randomly shift images horizontally (fraction of total width)\n",
        "        height_shift_range=0.1,  # randomly shift images vertically (fraction of total height)\n",
        "        horizontal_flip=True,  # randomly flip images\n",
        "        vertical_flip=True,  # randomly flip images\n",
        "        shear_range = 10) \n",
        "\n",
        "dataaugment.fit(X_train)"
      ]
    },
    {
      "cell_type": "markdown",
      "metadata": {
        "id": "B2PgksTFkOAq"
      },
      "source": [
        "#Fine Tune"
      ]
    },
    {
      "cell_type": "code",
      "execution_count": null,
      "metadata": {
        "id": "Nr1jnSM7yzJc"
      },
      "outputs": [],
      "source": [
        "limit = 171\n",
        "for layer in model.layers[:limit]:\n",
        "   layer.trainable = False\n",
        "for layer in model.layers[limit:]:\n",
        "   layer.trainable = True\n",
        "\n",
        "optimizer_SGD = SGD(learning_rate=0.0001, momentum=0.9)\n",
        "model.compile(optimizer = optimizer_SGD , loss = \"categorical_crossentropy\", metrics=['accuracy', balanced_acc])\n",
        "hst2 = model.fit(train_data_batches,\n",
        "                    epochs = EPOCHS, validation_data = valid_data_batches,\n",
        "                    callbacks=[learning_rate_reduction,early_stopping_monitor, mc])\n"
      ]
    },
    {
      "cell_type": "code",
      "execution_count": null,
      "metadata": {
        "id": "vO1aAQBmiy0K"
      },
      "outputs": [],
      "source": [
        "# summarize history for accuracy\n",
        "plt.plot(hst2.history['balanced_acc'])\n",
        "plt.plot(hst2.history['val_balanced_acc'])\n",
        "plt.title('model balance_acc after tunning')\n",
        "plt.ylabel('accuracy')\n",
        "plt.xlabel('epoch')\n",
        "plt.legend(['train', 'val'], loc='upper left')\n",
        "plt.show()"
      ]
    }
  ],
  "metadata": {
    "accelerator": "GPU",
    "colab": {
      "collapsed_sections": [
        "E_x4c0_DTkaa",
        "BE9FCWBe8deT",
        "iDRWiTnO0MGh",
        "eaK4zbtoaAaC",
        "3K908bbiYwbS",
        "UswA0co2y1wl",
        "LfcFpsBwM0d4",
        "cNBXx28B9yGu",
        "0jrJ33lUDkCM",
        "B2PgksTFkOAq"
      ],
      "machine_shape": "hm",
      "provenance": [],
      "include_colab_link": true
    },
    "gpuClass": "standard",
    "kernelspec": {
      "display_name": "Python 3",
      "name": "python3"
    },
    "language_info": {
      "name": "python"
    }
  },
  "nbformat": 4,
  "nbformat_minor": 0
}